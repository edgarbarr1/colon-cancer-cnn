{
  "nbformat": 4,
  "nbformat_minor": 5,
  "metadata": {
    "accelerator": "GPU",
    "colab": {
      "name": "colon cancer image",
      "provenance": [],
      "collapsed_sections": [],
      "machine_shape": "hm",
      "include_colab_link": true
    },
    "kernelspec": {
      "display_name": "Python 3",
      "language": "python",
      "name": "python3"
    },
    "language_info": {
      "codemirror_mode": {
        "name": "ipython",
        "version": 3
      },
      "file_extension": ".py",
      "mimetype": "text/x-python",
      "name": "python",
      "nbconvert_exporter": "python",
      "pygments_lexer": "ipython3",
      "version": "3.7.10"
    }
  },
  "cells": [
    {
      "cell_type": "markdown",
      "metadata": {
        "id": "view-in-github",
        "colab_type": "text"
      },
      "source": [
        "<a href=\"https://colab.research.google.com/github/edgarbarr1/colon-cancer-cnn/blob/main/colon_cancer_image.ipynb\" target=\"_parent\"><img src=\"https://colab.research.google.com/assets/colab-badge.svg\" alt=\"Open In Colab\"/></a>"
      ]
    },
    {
      "cell_type": "markdown",
      "metadata": {
        "id": "1b304e1a"
      },
      "source": [
        "\n",
        "\n",
        "# Colon Cancer Image Classification#\n",
        "### _Predicting the outcomes of colon cells to predict cancer_ ###\n",
        "\n",
        "### Business Understanding ###\n",
        "Colon cancer has been deemed the number 3 most common cancer in the world, according to the World Cancer Research Fund. Based on this statistic, it is not a surprise to know that more approximately 19 million colonoscopies are perfeormed each year in the United States.\n",
        "\n",
        "Some experts believe that some of the main causes of this cancer is the Western food diet along with living a sedentary lifestyle as well as being obese. Unfortunately, according to the CDC, the US appears to be on an upward trend in obesity which in turn increases the likelihood of men and women to develop colorectal cancers.\n",
        "\n",
        "Although the mortality rate for the most part appears to be relatively low (80% survival rate), it is important to note that like everything, there is always something to improve with either accurate test results, the time it takes to report those results and the resources available to compile said results.\n",
        "\n",
        "Currently, as per the American Cancer Society, it takes 2-3 days to report the findings of a colonoscopy biopsy.\n",
        "\n",
        "## Objective ##\n",
        "This notebook has the objective of building a Convolutional Neural Network that can get close to the 1-2% accuracy that current medical tests have. We will also strive to have an efficient model that can give accurate results faster than 2-3 days and ideally within the time frame of \"same-day\" results.\n",
        "\n",
        "## The data ##\n",
        "\n",
        "The dataset in this notebook comes from a [Zenodo dataset](https://zenodo.org/record/1214456#.YSBSfdNKibt) (cite below).\n",
        "This dataset contains 100,000 images of 9 different types of colorectal tissue. Each class is divided by a subdirectory. The two classes that we will use in our model is the NORM, for normal colon mucosa and TUM for colorectal adenocarcinoma. This will be the basis of the defined classes for our model. In total there are 14,317 images classified TUM and 8,763 images classified NORM.\n",
        "\n",
        "\n",
        "\n",
        "Kather, Jakob Nikolas, Halama, Niels, & Marx, Alexander. (2018). 100,000 histological images of human colorectal cancer and healthy tissue (v0.1) [Data set]. Zenodo. https://doi.org/10.5281/zenodo.1214456\n",
        "\n",
        "### Additional information ###\n",
        "\n",
        "**Before running this notebook**\n",
        "\n",
        "Please make sure to note the following prior to running the notebook:\n",
        "1. The dataset was downloaded and uploaded to google drive prior to running preprocessing and models\n",
        "  - In order to run the model smoothly and as is in this notebook, please create a subdirectory in MyDrive named colon_dataset. The dataset `NCT-CRC-HE-100K` will then be added to the newly created subdirectory which contains the NORM and TUM subdirectories we need.\n",
        "  - Overall our path should look like the following:\n",
        "    - `/content/drive/MyDrive/colon_dataset/NCT-CRC-HE-100K/TUM`\n",
        "2. Our images are in `TIF` format, a format that is very resource intensive for our model's and can hinder performance, therefore `tif_to_jpeg` function was created. Make sure to run this function to convert our images into jpeg format prior to running our models.\n"
      ],
      "id": "1b304e1a"
    },
    {
      "cell_type": "code",
      "metadata": {
        "id": "f9116373"
      },
      "source": [
        "import pandas as pd\n",
        "import numpy as np\n",
        "import os\n",
        "import matplotlib.pyplot as plt\n",
        "import cv2\n",
        "import random\n",
        "\n",
        "import PIL\n",
        "import PIL.Image\n",
        "import pathlib\n",
        "# Packages to import and preprocess images\n",
        "import glob\n",
        "import random\n",
        "import shutil\n",
        "import tensorflow as tf\n",
        "from tensorflow.keras.preprocessing.image import ImageDataGenerator\n",
        "from google.colab import drive\n",
        "\n",
        "# Packages for our models\n",
        "from tensorflow.keras.models import Sequential\n",
        "from tensorflow.keras.layers import Activation, Dense, Flatten, Conv2D, MaxPooling2D, LeakyReLU\n",
        "from sklearn.metrics import confusion_matrix\n",
        "from keras.callbacks import EarlyStopping\n",
        "from tensorflow.keras.metrics import Precision, Recall\n",
        "from tensorflow.keras.layers import Dropout\n",
        "import seaborn as sns\n",
        "\n",
        "# Model performance\n",
        "from tensorflow.keras.callbacks import EarlyStopping, ModelCheckpoint\n",
        "import time\n",
        "\n",
        "%matplotlib inline"
      ],
      "id": "f9116373",
      "execution_count": 1,
      "outputs": []
    },
    {
      "cell_type": "code",
      "metadata": {
        "colab": {
          "base_uri": "https://localhost:8080/"
        },
        "id": "aIjBG7g1iuDj",
        "outputId": "aa3dfd21-18ec-458d-8163-5c2ae563489c"
      },
      "source": [
        "drive.mount('/content/drive') #necessary to connect to our images located in my drive"
      ],
      "id": "aIjBG7g1iuDj",
      "execution_count": 2,
      "outputs": [
        {
          "output_type": "stream",
          "text": [
            "Mounted at /content/drive\n"
          ],
          "name": "stdout"
        }
      ]
    },
    {
      "cell_type": "code",
      "metadata": {
        "colab": {
          "base_uri": "https://localhost:8080/"
        },
        "id": "bbd1156b",
        "outputId": "82f8b408-e25f-49e1-b6ef-e2bbea88b758"
      },
      "source": [
        "print(tf.__version__) #see the version of tensforflow that we are running"
      ],
      "id": "bbd1156b",
      "execution_count": 3,
      "outputs": [
        {
          "output_type": "stream",
          "text": [
            "2.6.0\n"
          ],
          "name": "stdout"
        }
      ]
    },
    {
      "cell_type": "markdown",
      "metadata": {
        "id": "bEBW7pJx8JsH"
      },
      "source": [
        "# Standard global variables"
      ],
      "id": "bEBW7pJx8JsH"
    },
    {
      "cell_type": "markdown",
      "metadata": {
        "id": "AUfTj7djTHBl"
      },
      "source": [
        "We will set some standard global variables that we will use throughout our notebook to try to be as consistent in our experiments.\n"
      ],
      "id": "AUfTj7djTHBl"
    },
    {
      "cell_type": "code",
      "metadata": {
        "id": "-Q5tg9AD8_bY"
      },
      "source": [
        "EPOCHS = 15\n",
        "BATCH_SIZE = 20\n",
        "IMAGE_SIZE = (224,224)\n",
        "\n",
        "# Path to get to our images\n",
        "\n",
        "paths_to_jpeg = ['/content/drive/MyDrive/colon_dataset/NCT-CRC-HE-100K/TUM',\n",
        "                 '/content/drive/MyDrive/colon_dataset/NCT-CRC-HE-100K/NORM']\n",
        "\n",
        "# Path to divide our images to\n",
        "separated_dirs = ['/content/drive/MyDrive/colon_dataset/train/normal',\n",
        "                  '/content/drive/MyDrive/colon_dataset/train/cancer',\n",
        "                  '/content/drive/MyDrive/colon_dataset/validation/cancer',\n",
        "                  '/content/drive/MyDrive/colon_dataset/validation/normal',\n",
        "                  '/content/drive/MyDrive/colon_dataset/test/normal',\n",
        "                  '/content/drive/MyDrive/colon_dataset/test/cancer']\n",
        "\n"
      ],
      "id": "-Q5tg9AD8_bY",
      "execution_count": 4,
      "outputs": []
    },
    {
      "cell_type": "markdown",
      "metadata": {
        "id": "GrotZLhcW-O3"
      },
      "source": [
        "# Defining our Functions\n"
      ],
      "id": "GrotZLhcW-O3"
    },
    {
      "cell_type": "markdown",
      "metadata": {
        "id": "YHMkLwY1XO8R"
      },
      "source": [
        "### Converting images from Tif to Jpeg"
      ],
      "id": "YHMkLwY1XO8R"
    },
    {
      "cell_type": "code",
      "metadata": {
        "id": "fjYf0z5hW9xk"
      },
      "source": [
        "def tif_to_jpeg(specified_path):\n",
        "  '''\n",
        "  Converts tif images to jpegs from specified path.\n",
        "  '''\n",
        "  for path in specified_path:\n",
        "    for root, dirs, files in os.walk(path, topdown=False,):\n",
        "      for name in files:\n",
        "          print(os.path.join(root, name))\n",
        "          if os.path.splitext(os.path.join(root, name))[1].lower() == \".tiff\":\n",
        "            if os.path.splitext(os.path.join(root, name))[1].lower() == \".tif\":\n",
        "              if os.path.isfile(os.path.splitext(os.path.join(root, name))[0] + \".jpg\"):\n",
        "                  print (\"A jpeg file already exists for %s\" % name)\n",
        "              # If a jpeg with the name does *NOT* exist, convert one from the tif.\n",
        "              else:\n",
        "                  outputfile = os.path.splitext(os.path.join(root, name))[0] + \".jpg\"\n",
        "                  try:\n",
        "                      im = PIL.Image.open(os.path.join(root, name))\n",
        "                      print (\"Converting jpeg for %s\" % name)\n",
        "                      im.thumbnail(im.size)\n",
        "                      im.save(outputfile, \"JPEG\", quality=100)\n",
        "                  except Exception as e: \n",
        "                    print(e)"
      ],
      "id": "fjYf0z5hW9xk",
      "execution_count": 5,
      "outputs": []
    },
    {
      "cell_type": "markdown",
      "metadata": {
        "id": "Vm_lt4UhXIlR"
      },
      "source": [
        "### Separating our files ###"
      ],
      "id": "Vm_lt4UhXIlR"
    },
    {
      "cell_type": "markdown",
      "metadata": {
        "id": "e778f70c"
      },
      "source": [
        "Inspiration for the function in the creation of the [directories](https://www.youtube.com/watch?v=_L2uYfVV48I)"
      ],
      "id": "e778f70c"
    },
    {
      "cell_type": "code",
      "metadata": {
        "id": "m0k6wBLz7ejb"
      },
      "source": [
        "def file_separation(directory_name):\n",
        "  '''\n",
        "  Subdirectory creation and file separation for the training, validation and testing subdirectories.\n",
        "  '''\n",
        "\n",
        "  for dir in directory_name:\n",
        "    if os.path.isdir(dir) is False:\n",
        "      os.makedirs(dir)\n",
        "\n",
        "  for image in random.sample(glob.glob('{}/*.jpg'.format(directory_name[0])), 8000):\n",
        "    shutil.move(image, '/content/drive/MyDrive/colon_dataset/train/cancer/') # make sure to put the correct path you want it to direct to\n",
        "  for image in random.sample(glob.glob('{}/*.jpg'.format(directory_name[1])), 8000):\n",
        "    shutil.move(image, '/content/drive/MyDrive/colon_dataset/train/normal/') # make sure to put the correct path you want it to direct to\n",
        "  for image in random.sample(glob.glob('{}/*.jpg'.format(directory_name[0])), 400):\n",
        "    shutil.move(image, '/content/drive/MyDrive/colon_dataset/validation/cancer/') # make sure to put the correct path you want it to direct to\n",
        "  for image in random.sample(glob.glob('{}/*.jpg'.format(directory_name[1])), 400):\n",
        "    shutil.move(image, '/content/drive/MyDrive/colon_dataset/validation/normal/') # make sure to put the correct path you want it to direct to\n",
        "  for image in random.sample(glob.glob('{}/*.jpg'.format(directory_name[0])), 360):\n",
        "      shutil.move(image, '/content/drive/MyDrive/colon_dataset/test/cancer') # make sure to put the correct path you want it to direct to\n",
        "  for image in random.sample(glob.glob('{}/*.jpg'.format(directory_name[1])), 360):\n",
        "    shutil.move(image, '/content/drive/MyDrive/colon_dataset/test/normal') # make sure to put the correct path you want it to direct to"
      ],
      "id": "m0k6wBLz7ejb",
      "execution_count": 6,
      "outputs": []
    },
    {
      "cell_type": "markdown",
      "metadata": {
        "id": "o_GqF8Ez7QeK"
      },
      "source": [
        "# Defining Visualization functions"
      ],
      "id": "o_GqF8Ez7QeK"
    },
    {
      "cell_type": "markdown",
      "metadata": {
        "id": "_1zLsfdp7rfA"
      },
      "source": [
        "### Confusion Matrix Visualization"
      ],
      "id": "_1zLsfdp7rfA"
    },
    {
      "cell_type": "code",
      "metadata": {
        "id": "Li8IaqGl7Uh5"
      },
      "source": [
        "def plot_confusion_matrix(y_true, y_pred):\n",
        "    cm = confusion_matrix(y_true, y_pred,)\n",
        "    \n",
        "    ax= plt.subplot()\n",
        "    # annot=True to annotate cells, fmt='g' to disable scientific notation\n",
        "    sns.heatmap(cm, annot=True, ax=ax, fmt='g', cmap='magma', linewidths=1, linecolor='black')\n",
        "\n",
        "    # labels, title and ticks\n",
        "    ax.set_xlabel('Predicted labels')\n",
        "    ax.set_ylabel('True labels')\n",
        "    ax.set_title('Confusion Matrix')\n",
        "    ax.xaxis.set_ticklabels(['NORMAL', 'CANCER'])\n",
        "    ax.yaxis.set_ticklabels(['NORMAL', 'CANCER'])\n",
        "    plt.show();"
      ],
      "id": "Li8IaqGl7Uh5",
      "execution_count": 7,
      "outputs": []
    },
    {
      "cell_type": "markdown",
      "metadata": {
        "id": "n4JfiVGn7_sS"
      },
      "source": [
        "### Training Visualizations"
      ],
      "id": "n4JfiVGn7_sS"
    },
    {
      "cell_type": "code",
      "metadata": {
        "id": "mcakgvIK7w7j"
      },
      "source": [
        "def visualize_training_results_1(history):\n",
        "    '''\n",
        "    From https://machinelearningmastery.com/display-deep-learning-model-training-history-in-keras/\n",
        "    \n",
        "    Input: keras history object (output from trained model)\n",
        "    '''\n",
        "    fig, (ax1, ax2, ax3) = plt.subplots(3, sharex=True)\n",
        "    fig.suptitle('Model Results')\n",
        "\n",
        "    # summarize history for accuracy\n",
        "    ax1.plot(history.history['recall'])\n",
        "    ax1.plot(history.history['val_recall'])\n",
        "    ax1.set_ylabel('Recall')\n",
        "    ax1.legend(['train', 'test'], loc='upper left')\n",
        "    # summarize history for loss\n",
        "    ax2.plot(history.history['loss'])\n",
        "    ax2.plot(history.history['val_loss'])\n",
        "    ax2.set_ylabel('Loss')\n",
        "    ax2.legend(['train', 'test'], loc='upper left')\n",
        "    \n",
        "    ax3.plot(history.history['precision'])\n",
        "    ax3.plot(history.history['val_precision'])\n",
        "    ax3.set_ylabel('Precision')\n",
        "    ax3.legend(['train', 'test'], loc='upper left')\n",
        "    \n",
        "    plt.xlabel('Epoch')\n",
        "    plt.show()\n",
        "    pass\n",
        "\n",
        "\n",
        "\n",
        "def visualize_training_results(history, iteration):\n",
        "    '''\n",
        "    From https://machinelearningmastery.com/display-deep-learning-model-training-history-in-keras/\n",
        "    \n",
        "    Input: keras history object (output from trained model)\n",
        "    '''\n",
        "    fig, (ax1, ax2, ax3) = plt.subplots(3, sharex=True)\n",
        "    fig.suptitle('Model Results')\n",
        "\n",
        "    # summarize history for accuracy\n",
        "    ax1.plot(history.history['recall_{}'.format(iteration)])\n",
        "    ax1.plot(history.history['val_recall_{}'.format(iteration)])\n",
        "    ax1.set_ylabel('Recall')\n",
        "    ax1.legend(['train', 'test'], loc='upper left')\n",
        "    # summarize history for loss\n",
        "    ax2.plot(history.history['loss'])\n",
        "    ax2.plot(history.history['val_loss'])\n",
        "    ax2.set_ylabel('Loss')\n",
        "    ax2.legend(['train', 'test'], loc='upper left')\n",
        "    \n",
        "    ax3.plot(history.history['precision_{}'.format(iteration)])\n",
        "    ax3.plot(history.history['val_precision_{}'.format(iteration)])\n",
        "    ax3.set_ylabel('Precision')\n",
        "    ax3.legend(['train', 'test'], loc='upper left')\n",
        "    \n",
        "    plt.xlabel('Epoch')\n",
        "    plt.show()\n",
        "    pass"
      ],
      "id": "mcakgvIK7w7j",
      "execution_count": 8,
      "outputs": []
    },
    {
      "cell_type": "markdown",
      "metadata": {
        "id": "0GXHINykmfj2"
      },
      "source": [
        "# Let's convert our images to jpegs"
      ],
      "id": "0GXHINykmfj2"
    },
    {
      "cell_type": "markdown",
      "metadata": {
        "id": "syF6mGXZkQFy"
      },
      "source": [
        "The images in the dataset are in TIF format. Let's convert the images into jpegs. We have fortunately already defined a function to do so."
      ],
      "id": "syF6mGXZkQFy"
    },
    {
      "cell_type": "code",
      "metadata": {
        "id": "ZjZTTwbskGaq"
      },
      "source": [
        "#tif_to_jpeg(paths_to_jpeg)"
      ],
      "id": "ZjZTTwbskGaq",
      "execution_count": 9,
      "outputs": []
    },
    {
      "cell_type": "markdown",
      "metadata": {
        "id": "dtVCWaN3Lknz"
      },
      "source": [
        "# Jpegs have been converted. Now separate into subdirectories."
      ],
      "id": "dtVCWaN3Lknz"
    },
    {
      "cell_type": "markdown",
      "metadata": {
        "id": "ArRWuyW8ZVSk"
      },
      "source": [
        "Now let's divide the images into subdirectories.\n",
        "Currently we have tif and jpeg duplicates in our directory. Now we will move the jpeg images to the newly created directories."
      ],
      "id": "ArRWuyW8ZVSk"
    },
    {
      "cell_type": "code",
      "metadata": {
        "id": "AuM-KBTu-ZWO"
      },
      "source": [
        "# file_separation(separated_dirs)"
      ],
      "id": "AuM-KBTu-ZWO",
      "execution_count": 10,
      "outputs": []
    },
    {
      "cell_type": "markdown",
      "metadata": {
        "id": "rtNqYMuWeIMt"
      },
      "source": [
        "# Image Data Generator #"
      ],
      "id": "rtNqYMuWeIMt"
    },
    {
      "cell_type": "markdown",
      "metadata": {
        "id": "hrjYntT5wlRo"
      },
      "source": [
        "Let's create an Image Generator to augment our training data and a separate generator for our validation data."
      ],
      "id": "hrjYntT5wlRo"
    },
    {
      "cell_type": "code",
      "metadata": {
        "id": "EmxTqUstUJTy"
      },
      "source": [
        "# Image augmentator for training data\n",
        "data_gen = ImageDataGenerator(\n",
        "    rescale = 1./255,\n",
        "    zoom_range = (0.85,1),\n",
        "    brightness_range = [0.5, 1.0],\n",
        "    horizontal_flip = True,\n",
        "    rotation_range = 45\n",
        ")\n",
        "\n",
        "# Image Data generator for the validation data\n",
        "valid_data_gen = ImageDataGenerator(\n",
        "    rescale = 1./255\n",
        ")\n",
        "\n",
        "test_gen = ImageDataGenerator(\n",
        "    rescale = 1./255\n",
        ")"
      ],
      "id": "EmxTqUstUJTy",
      "execution_count": 11,
      "outputs": []
    },
    {
      "cell_type": "code",
      "metadata": {
        "colab": {
          "base_uri": "https://localhost:8080/"
        },
        "id": "rL7yGbVjUJWR",
        "outputId": "4b09dde0-b76c-4147-ffc4-b8c7b4cb7498"
      },
      "source": [
        "# Generator that creates training data\n",
        "train_generator = data_gen.flow_from_directory(\n",
        "    '/content/drive/MyDrive/colon_dataset/train',\n",
        "    target_size = (224,224),\n",
        "    batch_size = BATCH_SIZE,\n",
        "    color_mode = 'rgb',\n",
        "    shuffle = True,\n",
        "    class_mode = 'binary',\n",
        "    seed = 20\n",
        ")\n",
        "\n",
        "# Generator that creates the validation generator\n",
        "validation_generator = valid_data_gen.flow_from_directory(\n",
        "    '/content/drive/MyDrive/colon_dataset/validation',\n",
        "    target_size = (224,224),\n",
        "    batch_size = BATCH_SIZE,\n",
        "    color_mode = 'rgb',\n",
        "    shuffle = True,\n",
        "    class_mode = 'binary',\n",
        "    seed = 20\n",
        ")\n",
        "\n",
        "# Evaluation Generator to create predictions and evaluate a model from training data\n",
        "eval_train_generator = ImageDataGenerator(rescale = 1./255).flow_from_directory(\n",
        "    '/content/drive/MyDrive/colon_dataset/train',\n",
        "    target_size = (224,224),\n",
        "    batch_size = BATCH_SIZE,\n",
        "    color_mode = 'rgb',\n",
        "    shuffle = False,\n",
        "    class_mode = 'binary',\n",
        "    seed = 21\n",
        ")\n",
        "\n",
        "# Evaluation Generator to create predictions and evaluate a model from validation data\n",
        "eval_validation_generator = ImageDataGenerator(rescale = 1./255).flow_from_directory(\n",
        "    '/content/drive/MyDrive/colon_dataset/validation',\n",
        "    target_size = (224,224),\n",
        "    batch_size = BATCH_SIZE,\n",
        "    color_mode = 'rgb',\n",
        "    shuffle = False,\n",
        "    class_mode = 'binary',\n",
        "    seed = 21\n",
        ")\n",
        "\n",
        "holdout_data = test_gen.flow_from_directory(\n",
        "    '/content/drive/MyDrive/colon_dataset/test',\n",
        "    target_size = (224,224),\n",
        "    batch_size = BATCH_SIZE,\n",
        "    color_mode = 'rgb',\n",
        "    shuffle = False,\n",
        "    class_mode = 'binary',\n",
        "    seed = 21\n",
        ")"
      ],
      "id": "rL7yGbVjUJWR",
      "execution_count": 12,
      "outputs": [
        {
          "output_type": "stream",
          "text": [
            "Found 16000 images belonging to 2 classes.\n",
            "Found 800 images belonging to 2 classes.\n",
            "Found 16000 images belonging to 2 classes.\n",
            "Found 800 images belonging to 2 classes.\n",
            "Found 720 images belonging to 2 classes.\n"
          ],
          "name": "stdout"
        }
      ]
    },
    {
      "cell_type": "markdown",
      "metadata": {
        "id": "ELNbZf1-nSnQ"
      },
      "source": [
        "Our amount of images checks out based on how many images were ported over to the proper subdirectory."
      ],
      "id": "ELNbZf1-nSnQ"
    },
    {
      "cell_type": "markdown",
      "metadata": {
        "id": "hLxqaKXjjhgG"
      },
      "source": [
        "# DataFrame to Save Model results"
      ],
      "id": "hLxqaKXjjhgG"
    },
    {
      "cell_type": "markdown",
      "metadata": {
        "id": "_5zb0Ro7nUB4"
      },
      "source": [
        "We will instantiate a DataFrame to save our model results to and then compare the metrics between the models."
      ],
      "id": "_5zb0Ro7nUB4"
    },
    {
      "cell_type": "code",
      "metadata": {
        "id": "mphy3lNjjgXK"
      },
      "source": [
        "performance_df = pd.DataFrame()"
      ],
      "id": "mphy3lNjjgXK",
      "execution_count": 13,
      "outputs": []
    },
    {
      "cell_type": "markdown",
      "metadata": {
        "id": "z1nt_pQslUqd"
      },
      "source": [
        "# Definining Callbacks"
      ],
      "id": "z1nt_pQslUqd"
    },
    {
      "cell_type": "markdown",
      "metadata": {
        "id": "aDkHBiwan54R"
      },
      "source": [
        "In order to save time and gather the best model results, we will define some callbacks such as early stop, which will stop a model after 3 epochs of no imporvement in our validation loss. We will also instantiate our Model Checkpoint that will monitor our validation loss and will save our best weights."
      ],
      "id": "aDkHBiwan54R"
    },
    {
      "cell_type": "code",
      "metadata": {
        "id": "3vUFS3hclTqi"
      },
      "source": [
        "early_stop = EarlyStopping(monitor='val_loss', patience=2,\n",
        "                           mode='auto')\n",
        "checkpoint = ModelCheckpoint('/content/drive/MyDrive/colon_dataset/checkpoint',\n",
        "                             monitor='val_loss',\n",
        "                             verbose = 1,\n",
        "                             save_best_only=True)"
      ],
      "id": "3vUFS3hclTqi",
      "execution_count": 14,
      "outputs": []
    },
    {
      "cell_type": "markdown",
      "metadata": {
        "id": "b6eb164b"
      },
      "source": [
        "# Baseline Model"
      ],
      "id": "b6eb164b"
    },
    {
      "cell_type": "markdown",
      "metadata": {
        "id": "-ycD3pq5C-Vb"
      },
      "source": [
        "Let's create our first model based on the data generator that we created above.\n",
        "\n",
        "Our first model will be a rather simple one with the following layers:\n",
        "\n",
        "\n",
        "\n",
        "\n",
        "1.   A convolutional layer with a (2,2) kernel size or the height and width of our convolutional window.\n",
        "2.   A Max Pooling Layer that with a height and width of (2,2).\n",
        "1.   A Dense Layer with a 32 output size\n",
        "2.   Finally a Dense Layer with a 1 output size and a sigmoid activation function.\n",
        "\n",
        "\n",
        "\n",
        "\n",
        "\n",
        "\n",
        "\n",
        "\n"
      ],
      "id": "-ycD3pq5C-Vb"
    },
    {
      "cell_type": "code",
      "metadata": {
        "id": "a83a3761"
      },
      "source": [
        "model = Sequential()\n",
        "model.add(Conv2D(32, kernel_size=(2,2), activation='relu', padding='same', input_shape = (224,224,3)))\n",
        "model.add(MaxPooling2D(2,2))\n",
        "model.add(Flatten())\n",
        "model.add(Dense(32, activation='relu'))\n",
        "model.add(Dense(1, activation='sigmoid'))"
      ],
      "id": "a83a3761",
      "execution_count": 15,
      "outputs": []
    },
    {
      "cell_type": "code",
      "metadata": {
        "colab": {
          "base_uri": "https://localhost:8080/"
        },
        "id": "8b024ebc",
        "outputId": "6f19453a-5174-41db-e206-60055c611660"
      },
      "source": [
        "model.summary()"
      ],
      "id": "8b024ebc",
      "execution_count": 16,
      "outputs": [
        {
          "output_type": "stream",
          "text": [
            "Model: \"sequential\"\n",
            "_________________________________________________________________\n",
            "Layer (type)                 Output Shape              Param #   \n",
            "=================================================================\n",
            "conv2d (Conv2D)              (None, 224, 224, 32)      416       \n",
            "_________________________________________________________________\n",
            "max_pooling2d (MaxPooling2D) (None, 112, 112, 32)      0         \n",
            "_________________________________________________________________\n",
            "flatten (Flatten)            (None, 401408)            0         \n",
            "_________________________________________________________________\n",
            "dense (Dense)                (None, 32)                12845088  \n",
            "_________________________________________________________________\n",
            "dense_1 (Dense)              (None, 1)                 33        \n",
            "=================================================================\n",
            "Total params: 12,845,537\n",
            "Trainable params: 12,845,537\n",
            "Non-trainable params: 0\n",
            "_________________________________________________________________\n"
          ],
          "name": "stdout"
        }
      ]
    },
    {
      "cell_type": "markdown",
      "metadata": {
        "id": "Tf8K_wEwpICQ"
      },
      "source": [
        "We will be evaluating our model's performance by using Precision, Recall, and Accuracy. Though, we will be paying close attention to Recall because we want the highest amount of true positives and false negatives in our results."
      ],
      "id": "Tf8K_wEwpICQ"
    },
    {
      "cell_type": "code",
      "metadata": {
        "id": "c5d56d50"
      },
      "source": [
        "model.compile(loss='binary_crossentropy', optimizer='adam', metrics=[Precision(), Recall(), 'accuracy'])"
      ],
      "id": "c5d56d50",
      "execution_count": 17,
      "outputs": []
    },
    {
      "cell_type": "code",
      "metadata": {
        "colab": {
          "base_uri": "https://localhost:8080/"
        },
        "id": "414194a3",
        "outputId": "238c638a-a719-45c4-8391-33410517b17b"
      },
      "source": [
        "start = time.time()\n",
        "history = model.fit(x = train_generator,\n",
        "                    validation_data = validation_generator,\n",
        "                    epochs = EPOCHS,\n",
        "                    steps_per_epoch = 50,\n",
        "                    callbacks = [early_stop,checkpoint])\n",
        "end = time.time()\n",
        "model_time = end - start # get time it took our model to run/train"
      ],
      "id": "414194a3",
      "execution_count": 18,
      "outputs": [
        {
          "output_type": "stream",
          "text": [
            "Epoch 1/15\n",
            "50/50 [==============================] - 406s 8s/step - loss: 2.5967 - precision: 0.5000 - recall: 0.5163 - accuracy: 0.5080 - val_loss: 0.5809 - val_precision: 0.8455 - val_recall: 0.5200 - val_accuracy: 0.7125\n",
            "\n",
            "Epoch 00001: val_loss improved from inf to 0.58087, saving model to /content/drive/MyDrive/colon_dataset/checkpoint\n",
            "INFO:tensorflow:Assets written to: /content/drive/MyDrive/colon_dataset/checkpoint/assets\n",
            "Epoch 2/15\n",
            "50/50 [==============================] - 208s 4s/step - loss: 0.7534 - precision: 0.5934 - recall: 0.6056 - accuracy: 0.5670 - val_loss: 0.6047 - val_precision: 0.8659 - val_recall: 0.3550 - val_accuracy: 0.6500\n",
            "\n",
            "Epoch 00002: val_loss did not improve from 0.58087\n",
            "Epoch 3/15\n",
            "50/50 [==============================] - 194s 4s/step - loss: 0.5920 - precision: 0.6773 - recall: 0.6816 - accuracy: 0.6990 - val_loss: 0.5500 - val_precision: 0.8648 - val_recall: 0.5275 - val_accuracy: 0.7225\n",
            "\n",
            "Epoch 00003: val_loss improved from 0.58087 to 0.55001, saving model to /content/drive/MyDrive/colon_dataset/checkpoint\n",
            "INFO:tensorflow:Assets written to: /content/drive/MyDrive/colon_dataset/checkpoint/assets\n",
            "Epoch 4/15\n",
            "50/50 [==============================] - 182s 4s/step - loss: 0.5798 - precision: 0.6938 - recall: 0.7131 - accuracy: 0.6980 - val_loss: 0.5770 - val_precision: 0.8858 - val_recall: 0.4850 - val_accuracy: 0.7113\n",
            "\n",
            "Epoch 00004: val_loss did not improve from 0.55001\n",
            "Epoch 5/15\n",
            "50/50 [==============================] - 168s 3s/step - loss: 0.5897 - precision: 0.7325 - recall: 0.7078 - accuracy: 0.7230 - val_loss: 0.5297 - val_precision: 0.6917 - val_recall: 0.8300 - val_accuracy: 0.7300\n",
            "\n",
            "Epoch 00005: val_loss improved from 0.55001 to 0.52970, saving model to /content/drive/MyDrive/colon_dataset/checkpoint\n",
            "INFO:tensorflow:Assets written to: /content/drive/MyDrive/colon_dataset/checkpoint/assets\n",
            "Epoch 6/15\n",
            "50/50 [==============================] - 153s 3s/step - loss: 0.5833 - precision: 0.6974 - recall: 0.7712 - accuracy: 0.7070 - val_loss: 0.5739 - val_precision: 0.9026 - val_recall: 0.4400 - val_accuracy: 0.6963\n",
            "\n",
            "Epoch 00006: val_loss did not improve from 0.52970\n",
            "Epoch 7/15\n",
            "50/50 [==============================] - 154s 3s/step - loss: 0.5218 - precision: 0.7552 - recall: 0.7398 - accuracy: 0.7540 - val_loss: 0.8422 - val_precision: 0.9322 - val_recall: 0.2750 - val_accuracy: 0.6275\n",
            "\n",
            "Epoch 00007: val_loss did not improve from 0.52970\n"
          ],
          "name": "stdout"
        }
      ]
    },
    {
      "cell_type": "code",
      "metadata": {
        "colab": {
          "base_uri": "https://localhost:8080/",
          "height": 308
        },
        "id": "VEABSmW2kiHw",
        "outputId": "c405ac87-8307-4971-a668-9e335acab739"
      },
      "source": [
        "visualize_training_results_1(history)"
      ],
      "id": "VEABSmW2kiHw",
      "execution_count": 19,
      "outputs": [
        {
          "output_type": "display_data",
          "data": {
            "image/png": "[encoded data removed]",
            "text/plain": [
              "<Figure size 432x288 with 3 Axes>"
            ]
          },
          "metadata": {
            "needs_background": "light"
          }
        }
      ]
    },
    {
      "cell_type": "markdown",
      "metadata": {
        "id": "ue4yx1ODcTUw"
      },
      "source": [
        "We can see how our model starte to level off and meet up with the loss, precision and recall metrics. "
      ],
      "id": "ue4yx1ODcTUw"
    },
    {
      "cell_type": "code",
      "metadata": {
        "colab": {
          "base_uri": "https://localhost:8080/"
        },
        "id": "Lq2hv_aCMx5F",
        "outputId": "4fdce6d6-08ad-44a4-da87-1ea9d0583a87"
      },
      "source": [
        "train_model_metrics = model.evaluate(eval_train_generator, verbose=1)\n",
        "train_model_metrics"
      ],
      "id": "Lq2hv_aCMx5F",
      "execution_count": 20,
      "outputs": [
        {
          "output_type": "stream",
          "text": [
            "800/800 [==============================] - 2067s 3s/step - loss: 0.8966 - precision: 0.8742 - recall: 0.2354 - accuracy: 0.6008\n"
          ],
          "name": "stdout"
        },
        {
          "output_type": "execute_result",
          "data": {
            "text/plain": [
              "[0.8965666890144348,\n",
              " 0.8741875290870667,\n",
              " 0.23537500202655792,\n",
              " 0.6007500290870667]"
            ]
          },
          "metadata": {},
          "execution_count": 20
        }
      ]
    },
    {
      "cell_type": "code",
      "metadata": {
        "colab": {
          "base_uri": "https://localhost:8080/"
        },
        "id": "8cLPr2OOzQIs",
        "outputId": "205311af-ab37-4f72-82a8-c0a6f51e568b"
      },
      "source": [
        "val_model_metrics = model.evaluate(eval_validation_generator,verbose=1)\n",
        "val_model_metrics"
      ],
      "id": "8cLPr2OOzQIs",
      "execution_count": 21,
      "outputs": [
        {
          "output_type": "stream",
          "text": [
            "40/40 [==============================] - 3s 68ms/step - loss: 0.8422 - precision: 0.9322 - recall: 0.2750 - accuracy: 0.6275\n"
          ],
          "name": "stdout"
        },
        {
          "output_type": "execute_result",
          "data": {
            "text/plain": [
              "[0.8422207832336426,\n",
              " 0.9322034120559692,\n",
              " 0.2750000059604645,\n",
              " 0.6274999976158142]"
            ]
          },
          "metadata": {},
          "execution_count": 21
        }
      ]
    },
    {
      "cell_type": "markdown",
      "metadata": {
        "id": "BB7SHaPWx0L2"
      },
      "source": [
        "It does not appear as though our model learned much from the images, though that is to be expected as it is a very simple model and does not learn much from the images."
      ],
      "id": "BB7SHaPWx0L2"
    },
    {
      "cell_type": "markdown",
      "metadata": {
        "id": "pvtfTajtzymg"
      },
      "source": [
        "Let's save these results."
      ],
      "id": "pvtfTajtzymg"
    },
    {
      "cell_type": "code",
      "metadata": {
        "colab": {
          "base_uri": "https://localhost:8080/",
          "height": 111
        },
        "id": "febWJjiZOjYl",
        "outputId": "ba92cb31-d319-411c-d5dc-538071267031"
      },
      "source": [
        "performance_df = pd.DataFrame(columns=['model', 'loss', 'precision', 'recall', 'accuracy'])\n",
        "performance_df.loc[len(performance_df.index)] = ['model_train'] + train_model_metrics\n",
        "performance_df.loc[len(performance_df.index)] = ['model_valid'] + val_model_metrics\n",
        "performance_df.head()"
      ],
      "id": "febWJjiZOjYl",
      "execution_count": 22,
      "outputs": [
        {
          "output_type": "execute_result",
          "data": {
            "text/html": [
              "<div>\n",
              "<style scoped>\n",
              "    .dataframe tbody tr th:only-of-type {\n",
              "        vertical-align: middle;\n",
              "    }\n",
              "\n",
              "    .dataframe tbody tr th {\n",
              "        vertical-align: top;\n",
              "    }\n",
              "\n",
              "    .dataframe thead th {\n",
              "        text-align: right;\n",
              "    }\n",
              "</style>\n",
              "<table border=\"1\" class=\"dataframe\">\n",
              "  <thead>\n",
              "    <tr style=\"text-align: right;\">\n",
              "      <th></th>\n",
              "      <th>model</th>\n",
              "      <th>loss</th>\n",
              "      <th>precision</th>\n",
              "      <th>recall</th>\n",
              "      <th>accuracy</th>\n",
              "    </tr>\n",
              "  </thead>\n",
              "  <tbody>\n",
              "    <tr>\n",
              "      <th>0</th>\n",
              "      <td>model_train</td>\n",
              "      <td>0.896567</td>\n",
              "      <td>0.874188</td>\n",
              "      <td>0.235375</td>\n",
              "      <td>0.60075</td>\n",
              "    </tr>\n",
              "    <tr>\n",
              "      <th>1</th>\n",
              "      <td>model_valid</td>\n",
              "      <td>0.842221</td>\n",
              "      <td>0.932203</td>\n",
              "      <td>0.275000</td>\n",
              "      <td>0.62750</td>\n",
              "    </tr>\n",
              "  </tbody>\n",
              "</table>\n",
              "</div>"
            ],
            "text/plain": [
              "         model      loss  precision    recall  accuracy\n",
              "0  model_train  0.896567   0.874188  0.235375   0.60075\n",
              "1  model_valid  0.842221   0.932203  0.275000   0.62750"
            ]
          },
          "metadata": {},
          "execution_count": 22
        }
      ]
    },
    {
      "cell_type": "code",
      "metadata": {
        "id": "55RBGMBF2bUU"
      },
      "source": [
        "performance_df['time_to_train'] = model_time"
      ],
      "id": "55RBGMBF2bUU",
      "execution_count": 23,
      "outputs": []
    },
    {
      "cell_type": "code",
      "metadata": {
        "colab": {
          "base_uri": "https://localhost:8080/",
          "height": 111
        },
        "id": "sfvaUsC1OjbO",
        "outputId": "d05e4d10-1180-4efc-e044-43993c6406c6"
      },
      "source": [
        "performance_df.head()"
      ],
      "id": "sfvaUsC1OjbO",
      "execution_count": 24,
      "outputs": [
        {
          "output_type": "execute_result",
          "data": {
            "text/html": [
              "<div>\n",
              "<style scoped>\n",
              "    .dataframe tbody tr th:only-of-type {\n",
              "        vertical-align: middle;\n",
              "    }\n",
              "\n",
              "    .dataframe tbody tr th {\n",
              "        vertical-align: top;\n",
              "    }\n",
              "\n",
              "    .dataframe thead th {\n",
              "        text-align: right;\n",
              "    }\n",
              "</style>\n",
              "<table border=\"1\" class=\"dataframe\">\n",
              "  <thead>\n",
              "    <tr style=\"text-align: right;\">\n",
              "      <th></th>\n",
              "      <th>model</th>\n",
              "      <th>loss</th>\n",
              "      <th>precision</th>\n",
              "      <th>recall</th>\n",
              "      <th>accuracy</th>\n",
              "      <th>time_to_train</th>\n",
              "    </tr>\n",
              "  </thead>\n",
              "  <tbody>\n",
              "    <tr>\n",
              "      <th>0</th>\n",
              "      <td>model_train</td>\n",
              "      <td>0.896567</td>\n",
              "      <td>0.874188</td>\n",
              "      <td>0.235375</td>\n",
              "      <td>0.60075</td>\n",
              "      <td>1477.67994</td>\n",
              "    </tr>\n",
              "    <tr>\n",
              "      <th>1</th>\n",
              "      <td>model_valid</td>\n",
              "      <td>0.842221</td>\n",
              "      <td>0.932203</td>\n",
              "      <td>0.275000</td>\n",
              "      <td>0.62750</td>\n",
              "      <td>1477.67994</td>\n",
              "    </tr>\n",
              "  </tbody>\n",
              "</table>\n",
              "</div>"
            ],
            "text/plain": [
              "         model      loss  precision    recall  accuracy  time_to_train\n",
              "0  model_train  0.896567   0.874188  0.235375   0.60075     1477.67994\n",
              "1  model_valid  0.842221   0.932203  0.275000   0.62750     1477.67994"
            ]
          },
          "metadata": {},
          "execution_count": 24
        }
      ]
    },
    {
      "cell_type": "code",
      "metadata": {
        "colab": {
          "base_uri": "https://localhost:8080/"
        },
        "id": "TDXulPclMxy-",
        "outputId": "bf3f157f-0991-4b8d-d4e6-b9f85397fffb"
      },
      "source": [
        "training_start = time.time()\n",
        "preds_train_1 = model.predict(eval_train_generator, verbose=1)\n",
        "training_end = time.time()\n",
        "\n",
        "validation_start = time.time()\n",
        "preds_val_1 = model.predict(eval_validation_generator, verbose = 1)\n",
        "validation_end = time.time()\n",
        "\n",
        "training_time = training_end - training_start\n",
        "validation_time = validation_end - validation_start"
      ],
      "id": "TDXulPclMxy-",
      "execution_count": 25,
      "outputs": [
        {
          "output_type": "stream",
          "text": [
            "800/800 [==============================] - 54s 67ms/step\n",
            "40/40 [==============================] - 3s 67ms/step\n"
          ],
          "name": "stdout"
        }
      ]
    },
    {
      "cell_type": "code",
      "metadata": {
        "colab": {
          "base_uri": "https://localhost:8080/",
          "height": 111
        },
        "id": "FPhKeGSC4NBN",
        "outputId": "05234fba-d0f0-4157-8ee1-bbd6061d117c"
      },
      "source": [
        "performance_df.at[0,'time_to_predict'] = training_time\n",
        "performance_df.at[1,'time_to_predict'] = validation_time\n",
        "performance_df"
      ],
      "id": "FPhKeGSC4NBN",
      "execution_count": 26,
      "outputs": [
        {
          "output_type": "execute_result",
          "data": {
            "text/html": [
              "<div>\n",
              "<style scoped>\n",
              "    .dataframe tbody tr th:only-of-type {\n",
              "        vertical-align: middle;\n",
              "    }\n",
              "\n",
              "    .dataframe tbody tr th {\n",
              "        vertical-align: top;\n",
              "    }\n",
              "\n",
              "    .dataframe thead th {\n",
              "        text-align: right;\n",
              "    }\n",
              "</style>\n",
              "<table border=\"1\" class=\"dataframe\">\n",
              "  <thead>\n",
              "    <tr style=\"text-align: right;\">\n",
              "      <th></th>\n",
              "      <th>model</th>\n",
              "      <th>loss</th>\n",
              "      <th>precision</th>\n",
              "      <th>recall</th>\n",
              "      <th>accuracy</th>\n",
              "      <th>time_to_train</th>\n",
              "      <th>time_to_predict</th>\n",
              "    </tr>\n",
              "  </thead>\n",
              "  <tbody>\n",
              "    <tr>\n",
              "      <th>0</th>\n",
              "      <td>model_train</td>\n",
              "      <td>0.896567</td>\n",
              "      <td>0.874188</td>\n",
              "      <td>0.235375</td>\n",
              "      <td>0.60075</td>\n",
              "      <td>1477.67994</td>\n",
              "      <td>53.816586</td>\n",
              "    </tr>\n",
              "    <tr>\n",
              "      <th>1</th>\n",
              "      <td>model_valid</td>\n",
              "      <td>0.842221</td>\n",
              "      <td>0.932203</td>\n",
              "      <td>0.275000</td>\n",
              "      <td>0.62750</td>\n",
              "      <td>1477.67994</td>\n",
              "      <td>2.781283</td>\n",
              "    </tr>\n",
              "  </tbody>\n",
              "</table>\n",
              "</div>"
            ],
            "text/plain": [
              "         model      loss  precision  ...  accuracy  time_to_train  time_to_predict\n",
              "0  model_train  0.896567   0.874188  ...   0.60075     1477.67994        53.816586\n",
              "1  model_valid  0.842221   0.932203  ...   0.62750     1477.67994         2.781283\n",
              "\n",
              "[2 rows x 7 columns]"
            ]
          },
          "metadata": {},
          "execution_count": 26
        }
      ]
    },
    {
      "cell_type": "code",
      "metadata": {
        "colab": {
          "base_uri": "https://localhost:8080/",
          "height": 295
        },
        "id": "xzZdvoCdOtNd",
        "outputId": "f5664999-47fe-44f0-f3cd-18bfbf61ae74"
      },
      "source": [
        "plot_confusion_matrix(eval_train_generator.labels, np.rint(preds_train_1))"
      ],
      "id": "xzZdvoCdOtNd",
      "execution_count": 27,
      "outputs": [
        {
          "output_type": "display_data",
          "data": {
            "image/png": "[encoded data removed]",
            "text/plain": [
              "<Figure size 432x288 with 2 Axes>"
            ]
          },
          "metadata": {
            "needs_background": "light"
          }
        }
      ]
    },
    {
      "cell_type": "code",
      "metadata": {
        "colab": {
          "base_uri": "https://localhost:8080/",
          "height": 295
        },
        "id": "4Ap7rMoG2LWQ",
        "outputId": "f658d4d7-944b-4901-d308-955d800cdf40"
      },
      "source": [
        "plot_confusion_matrix(eval_validation_generator.labels, np.rint(preds_val_1))"
      ],
      "id": "4Ap7rMoG2LWQ",
      "execution_count": 28,
      "outputs": [
        {
          "output_type": "display_data",
          "data": {
            "image/png": "[encoded data removed]",
            "text/plain": [
              "<Figure size 432x288 with 2 Axes>"
            ]
          },
          "metadata": {
            "needs_background": "light"
          }
        }
      ]
    },
    {
      "cell_type": "markdown",
      "metadata": {
        "id": "IMH0mWCMTBJL"
      },
      "source": [
        "As per the confusion matrix above, the model appears to be predicting, for the most part, CANCER values only. This can be attributed to the fact that we have a very shallow Neural Network that is not able to pickup the very fine details of the images and therefore attributing every image as CANCER."
      ],
      "id": "IMH0mWCMTBJL"
    },
    {
      "cell_type": "markdown",
      "metadata": {
        "id": "PVRb3HwlPF0S"
      },
      "source": [
        "# Model 2 #"
      ],
      "id": "PVRb3HwlPF0S"
    },
    {
      "cell_type": "markdown",
      "metadata": {
        "id": "MFefEi4S2eue"
      },
      "source": [
        "We will be adding to our first baseline model by adding more convolutional layers and one more MaxPooling Layer. We will also add one more Dense layer using LeakyReLU as the activation function."
      ],
      "id": "MFefEi4S2eue"
    },
    {
      "cell_type": "code",
      "metadata": {
        "id": "Ly2YLvg1G7r9"
      },
      "source": [
        "model_2 = Sequential()\n",
        "model_2.add(Conv2D(32, kernel_size=(2,2), padding='valid', input_shape = (224,224,3)))\n",
        "model_2.add(MaxPooling2D(2,2))\n",
        "model_2.add(Conv2D(32, kernel_size=(2,2), padding='same', activation='relu'))\n",
        "model_2.add(Conv2D(32, kernel_size=(2,2), padding='same', activation='relu'))\n",
        "model_2.add(MaxPooling2D(2,2))\n",
        "model_2.add(Flatten())\n",
        "model_2.add(Dense(128, activation=LeakyReLU(alpha=(.3))))\n",
        "model_2.add(Dropout(.20))\n",
        "model_2.add(Dense(128, activation='relu'))\n",
        "model_2.add(Dense(1, activation='sigmoid'))"
      ],
      "id": "Ly2YLvg1G7r9",
      "execution_count": 29,
      "outputs": []
    },
    {
      "cell_type": "code",
      "metadata": {
        "colab": {
          "base_uri": "https://localhost:8080/"
        },
        "id": "DdOdfAZRG7ud",
        "outputId": "69daf489-457c-4957-f6fd-54c358542ff7"
      },
      "source": [
        "model_2.summary()"
      ],
      "id": "DdOdfAZRG7ud",
      "execution_count": 30,
      "outputs": [
        {
          "output_type": "stream",
          "text": [
            "Model: \"sequential_1\"\n",
            "_________________________________________________________________\n",
            "Layer (type)                 Output Shape              Param #   \n",
            "=================================================================\n",
            "conv2d_1 (Conv2D)            (None, 223, 223, 32)      416       \n",
            "_________________________________________________________________\n",
            "max_pooling2d_1 (MaxPooling2 (None, 111, 111, 32)      0         \n",
            "_________________________________________________________________\n",
            "conv2d_2 (Conv2D)            (None, 111, 111, 32)      4128      \n",
            "_________________________________________________________________\n",
            "conv2d_3 (Conv2D)            (None, 111, 111, 32)      4128      \n",
            "_________________________________________________________________\n",
            "max_pooling2d_2 (MaxPooling2 (None, 55, 55, 32)        0         \n",
            "_________________________________________________________________\n",
            "flatten_1 (Flatten)          (None, 96800)             0         \n",
            "_________________________________________________________________\n",
            "dense_2 (Dense)              (None, 128)               12390528  \n",
            "_________________________________________________________________\n",
            "dropout (Dropout)            (None, 128)               0         \n",
            "_________________________________________________________________\n",
            "dense_3 (Dense)              (None, 128)               16512     \n",
            "_________________________________________________________________\n",
            "dense_4 (Dense)              (None, 1)                 129       \n",
            "=================================================================\n",
            "Total params: 12,415,841\n",
            "Trainable params: 12,415,841\n",
            "Non-trainable params: 0\n",
            "_________________________________________________________________\n"
          ],
          "name": "stdout"
        }
      ]
    },
    {
      "cell_type": "code",
      "metadata": {
        "id": "b2fnTZD5G7xC"
      },
      "source": [
        "model_2.compile(loss='binary_crossentropy', optimizer='adam', metrics=[Precision(), Recall(), 'accuracy'])"
      ],
      "id": "b2fnTZD5G7xC",
      "execution_count": 31,
      "outputs": []
    },
    {
      "cell_type": "code",
      "metadata": {
        "colab": {
          "base_uri": "https://localhost:8080/"
        },
        "id": "5AukokUjG7zc",
        "outputId": "30a4a7d9-082e-43cc-a6a7-ff59a934c695"
      },
      "source": [
        "start = time.time()\n",
        "history_2 = model_2.fit(\n",
        "    x = train_generator,\n",
        "    validation_data = validation_generator,\n",
        "    epochs = 15,\n",
        "    callbacks = [checkpoint,early_stop]\n",
        ")\n",
        "end = time.time()\n",
        "\n",
        "model_2_train_time = end - start"
      ],
      "id": "5AukokUjG7zc",
      "execution_count": 32,
      "outputs": [
        {
          "output_type": "stream",
          "text": [
            "Epoch 1/15\n",
            "800/800 [==============================] - 243s 302ms/step - loss: 0.5923 - precision_1: 0.6962 - recall_1: 0.6695 - accuracy: 0.6887 - val_loss: 0.4412 - val_precision_1: 0.8241 - val_recall_1: 0.8200 - val_accuracy: 0.8225\n",
            "\n",
            "Epoch 00001: val_loss improved from 0.52970 to 0.44124, saving model to /content/drive/MyDrive/colon_dataset/checkpoint\n"
          ],
          "name": "stdout"
        },
        {
          "output_type": "stream",
          "text": [
            "WARNING:absl:Found untraced functions such as leaky_re_lu_layer_call_fn, leaky_re_lu_layer_call_and_return_conditional_losses, leaky_re_lu_layer_call_fn, leaky_re_lu_layer_call_and_return_conditional_losses, leaky_re_lu_layer_call_and_return_conditional_losses while saving (showing 5 of 5). These functions will not be directly callable after loading.\n"
          ],
          "name": "stderr"
        },
        {
          "output_type": "stream",
          "text": [
            "INFO:tensorflow:Assets written to: /content/drive/MyDrive/colon_dataset/checkpoint/assets\n"
          ],
          "name": "stdout"
        },
        {
          "output_type": "stream",
          "text": [
            "INFO:tensorflow:Assets written to: /content/drive/MyDrive/colon_dataset/checkpoint/assets\n"
          ],
          "name": "stderr"
        },
        {
          "output_type": "stream",
          "text": [
            "Epoch 2/15\n",
            "800/800 [==============================] - 240s 299ms/step - loss: 0.3679 - precision_1: 0.8221 - recall_1: 0.8658 - accuracy: 0.8392 - val_loss: 0.4861 - val_precision_1: 0.9457 - val_recall_1: 0.6100 - val_accuracy: 0.7875\n",
            "\n",
            "Epoch 00002: val_loss did not improve from 0.44124\n",
            "Epoch 3/15\n",
            "800/800 [==============================] - 237s 297ms/step - loss: 0.3043 - precision_1: 0.8649 - recall_1: 0.8851 - accuracy: 0.8734 - val_loss: 0.3790 - val_precision_1: 0.9396 - val_recall_1: 0.7000 - val_accuracy: 0.8275\n",
            "\n",
            "Epoch 00003: val_loss improved from 0.44124 to 0.37896, saving model to /content/drive/MyDrive/colon_dataset/checkpoint\n"
          ],
          "name": "stdout"
        },
        {
          "output_type": "stream",
          "text": [
            "WARNING:absl:Found untraced functions such as leaky_re_lu_layer_call_fn, leaky_re_lu_layer_call_and_return_conditional_losses, leaky_re_lu_layer_call_fn, leaky_re_lu_layer_call_and_return_conditional_losses, leaky_re_lu_layer_call_and_return_conditional_losses while saving (showing 5 of 5). These functions will not be directly callable after loading.\n"
          ],
          "name": "stderr"
        },
        {
          "output_type": "stream",
          "text": [
            "INFO:tensorflow:Assets written to: /content/drive/MyDrive/colon_dataset/checkpoint/assets\n"
          ],
          "name": "stdout"
        },
        {
          "output_type": "stream",
          "text": [
            "INFO:tensorflow:Assets written to: /content/drive/MyDrive/colon_dataset/checkpoint/assets\n"
          ],
          "name": "stderr"
        },
        {
          "output_type": "stream",
          "text": [
            "Epoch 4/15\n",
            "800/800 [==============================] - 239s 299ms/step - loss: 0.2653 - precision_1: 0.8782 - recall_1: 0.9072 - accuracy: 0.8907 - val_loss: 0.4289 - val_precision_1: 0.9852 - val_recall_1: 0.6675 - val_accuracy: 0.8288\n",
            "\n",
            "Epoch 00004: val_loss did not improve from 0.37896\n",
            "Epoch 5/15\n",
            "800/800 [==============================] - 239s 298ms/step - loss: 0.2210 - precision_1: 0.8993 - recall_1: 0.9259 - accuracy: 0.9111 - val_loss: 0.4042 - val_precision_1: 0.9738 - val_recall_1: 0.7425 - val_accuracy: 0.8612\n",
            "\n",
            "Epoch 00005: val_loss did not improve from 0.37896\n"
          ],
          "name": "stdout"
        }
      ]
    },
    {
      "cell_type": "code",
      "metadata": {
        "colab": {
          "base_uri": "https://localhost:8080/",
          "height": 308
        },
        "id": "OcY2JC2uuk1D",
        "outputId": "82cb52f5-bc29-440a-815f-559ae557672a"
      },
      "source": [
        "visualize_training_results(history_2, 1)"
      ],
      "id": "OcY2JC2uuk1D",
      "execution_count": 33,
      "outputs": [
        {
          "output_type": "display_data",
          "data": {
            "image/png": "[encoded data removed]",
            "text/plain": [
              "<Figure size 432x288 with 3 Axes>"
            ]
          },
          "metadata": {
            "needs_background": "light"
          }
        }
      ]
    },
    {
      "cell_type": "code",
      "metadata": {
        "colab": {
          "base_uri": "https://localhost:8080/"
        },
        "id": "AzcEdAZSOXye",
        "outputId": "8554cdea-bd84-480e-ea12-bee8250ad376"
      },
      "source": [
        "model_metrics_train = model_2.evaluate(eval_train_generator, verbose=1)\n",
        "model_metrics_train\n",
        "model_metrics_val = model_2.evaluate(eval_validation_generator,verbose=1)\n",
        "model_metrics_train"
      ],
      "id": "AzcEdAZSOXye",
      "execution_count": 34,
      "outputs": [
        {
          "output_type": "stream",
          "text": [
            "800/800 [==============================] - 54s 68ms/step - loss: 0.4450 - precision_1: 0.9654 - recall_1: 0.6949 - accuracy: 0.8350\n",
            "40/40 [==============================] - 3s 68ms/step - loss: 0.4042 - precision_1: 0.9738 - recall_1: 0.7425 - accuracy: 0.8612\n"
          ],
          "name": "stdout"
        },
        {
          "output_type": "execute_result",
          "data": {
            "text/plain": [
              "[0.4449664056301117,\n",
              " 0.9654393792152405,\n",
              " 0.6948750019073486,\n",
              " 0.8349999785423279]"
            ]
          },
          "metadata": {},
          "execution_count": 34
        }
      ]
    },
    {
      "cell_type": "code",
      "metadata": {
        "id": "T9D_H0hjOYkE"
      },
      "source": [
        "model_two_start_train = time.time()\n",
        "preds_train_2 = model_2.predict(eval_train_generator)\n",
        "model_two_end_train = time.time()\n",
        "\n",
        "model_two_start_val = time.time()\n",
        "preds_val_2 = model_2.predict(eval_validation_generator)\n",
        "model_two_end_val = time.time()\n",
        "\n",
        "model_two_train_time = model_two_end_train - model_two_start_train\n",
        "model_two_val_time = model_two_end_val - model_two_start_val"
      ],
      "id": "T9D_H0hjOYkE",
      "execution_count": 35,
      "outputs": []
    },
    {
      "cell_type": "code",
      "metadata": {
        "id": "XPZcvMmFOYnQ"
      },
      "source": [
        "performance_df.at[2,'model'] = 'model_two_train'\n",
        "performance_df.at[2,'loss'] = model_metrics_train[0]\n",
        "performance_df.at[2,'precision'] = model_metrics_train[1]\n",
        "performance_df.at[2, 'recall'] = model_metrics_train[2]\n",
        "performance_df.at[2,'accuracy'] = model_metrics_train[3]\n",
        "performance_df.at[2,'time_to_train'] = model_2_train_time\n",
        "performance_df.at[2,'time_to_predict'] = model_two_train_time"
      ],
      "id": "XPZcvMmFOYnQ",
      "execution_count": 36,
      "outputs": []
    },
    {
      "cell_type": "code",
      "metadata": {
        "id": "zQ1JUNGFEts-"
      },
      "source": [
        "performance_df.at[3,'model'] = 'model_two_val'\n",
        "performance_df.at[3,'loss'] = model_metrics_val[0]\n",
        "performance_df.at[3,'precision'] = model_metrics_val[1]\n",
        "performance_df.at[3, 'recall'] = model_metrics_val[2]\n",
        "performance_df.at[3,'accuracy'] = model_metrics_val[3]\n",
        "performance_df.at[3,'time_to_train'] = model_2_train_time\n",
        "performance_df.at[3,'time_to_predict'] = model_two_val_time"
      ],
      "id": "zQ1JUNGFEts-",
      "execution_count": 37,
      "outputs": []
    },
    {
      "cell_type": "code",
      "metadata": {
        "colab": {
          "base_uri": "https://localhost:8080/",
          "height": 173
        },
        "id": "ehhYQHVK746T",
        "outputId": "f4a168ab-d570-49a7-f387-a1217818b825"
      },
      "source": [
        "performance_df"
      ],
      "id": "ehhYQHVK746T",
      "execution_count": 38,
      "outputs": [
        {
          "output_type": "execute_result",
          "data": {
            "text/html": [
              "<div>\n",
              "<style scoped>\n",
              "    .dataframe tbody tr th:only-of-type {\n",
              "        vertical-align: middle;\n",
              "    }\n",
              "\n",
              "    .dataframe tbody tr th {\n",
              "        vertical-align: top;\n",
              "    }\n",
              "\n",
              "    .dataframe thead th {\n",
              "        text-align: right;\n",
              "    }\n",
              "</style>\n",
              "<table border=\"1\" class=\"dataframe\">\n",
              "  <thead>\n",
              "    <tr style=\"text-align: right;\">\n",
              "      <th></th>\n",
              "      <th>model</th>\n",
              "      <th>loss</th>\n",
              "      <th>precision</th>\n",
              "      <th>recall</th>\n",
              "      <th>accuracy</th>\n",
              "      <th>time_to_train</th>\n",
              "      <th>time_to_predict</th>\n",
              "    </tr>\n",
              "  </thead>\n",
              "  <tbody>\n",
              "    <tr>\n",
              "      <th>0</th>\n",
              "      <td>model_train</td>\n",
              "      <td>0.896567</td>\n",
              "      <td>0.874188</td>\n",
              "      <td>0.235375</td>\n",
              "      <td>0.60075</td>\n",
              "      <td>1477.679940</td>\n",
              "      <td>53.816586</td>\n",
              "    </tr>\n",
              "    <tr>\n",
              "      <th>1</th>\n",
              "      <td>model_valid</td>\n",
              "      <td>0.842221</td>\n",
              "      <td>0.932203</td>\n",
              "      <td>0.275000</td>\n",
              "      <td>0.62750</td>\n",
              "      <td>1477.679940</td>\n",
              "      <td>2.781283</td>\n",
              "    </tr>\n",
              "    <tr>\n",
              "      <th>2</th>\n",
              "      <td>model_two_train</td>\n",
              "      <td>0.444966</td>\n",
              "      <td>0.965439</td>\n",
              "      <td>0.694875</td>\n",
              "      <td>0.83500</td>\n",
              "      <td>1201.630584</td>\n",
              "      <td>49.050913</td>\n",
              "    </tr>\n",
              "    <tr>\n",
              "      <th>3</th>\n",
              "      <td>model_two_val</td>\n",
              "      <td>0.404212</td>\n",
              "      <td>0.973770</td>\n",
              "      <td>0.742500</td>\n",
              "      <td>0.86125</td>\n",
              "      <td>1201.630584</td>\n",
              "      <td>2.486887</td>\n",
              "    </tr>\n",
              "  </tbody>\n",
              "</table>\n",
              "</div>"
            ],
            "text/plain": [
              "             model      loss  ...  time_to_train  time_to_predict\n",
              "0      model_train  0.896567  ...    1477.679940        53.816586\n",
              "1      model_valid  0.842221  ...    1477.679940         2.781283\n",
              "2  model_two_train  0.444966  ...    1201.630584        49.050913\n",
              "3    model_two_val  0.404212  ...    1201.630584         2.486887\n",
              "\n",
              "[4 rows x 7 columns]"
            ]
          },
          "metadata": {},
          "execution_count": 38
        }
      ]
    },
    {
      "cell_type": "markdown",
      "metadata": {
        "id": "iKl0oGSqugko"
      },
      "source": [
        "It appears that this model took abit less time to train with significantly better results."
      ],
      "id": "iKl0oGSqugko"
    },
    {
      "cell_type": "code",
      "metadata": {
        "colab": {
          "base_uri": "https://localhost:8080/",
          "height": 295
        },
        "id": "iEgti_-yOYqq",
        "outputId": "9dbbb5f9-dae2-4e2d-83a1-09032567b1e8"
      },
      "source": [
        "plot_confusion_matrix(eval_train_generator.labels, np.rint(preds_train_2))"
      ],
      "id": "iEgti_-yOYqq",
      "execution_count": 39,
      "outputs": [
        {
          "output_type": "display_data",
          "data": {
            "image/png": "[encoded data removed]",
            "text/plain": [
              "<Figure size 432x288 with 2 Axes>"
            ]
          },
          "metadata": {
            "needs_background": "light"
          }
        }
      ]
    },
    {
      "cell_type": "code",
      "metadata": {
        "colab": {
          "base_uri": "https://localhost:8080/",
          "height": 295
        },
        "id": "hdytVHwJFZLp",
        "outputId": "01b6032e-649e-47c7-f473-be11a1145925"
      },
      "source": [
        "plot_confusion_matrix(eval_validation_generator.labels, np.rint(preds_val_2))"
      ],
      "id": "hdytVHwJFZLp",
      "execution_count": 40,
      "outputs": [
        {
          "output_type": "display_data",
          "data": {
            "image/png": "[encoded data removed]",
            "text/plain": [
              "<Figure size 432x288 with 2 Axes>"
            ]
          },
          "metadata": {
            "needs_background": "light"
          }
        }
      ]
    },
    {
      "cell_type": "markdown",
      "metadata": {
        "id": "Zo7eHz2YFqxV"
      },
      "source": [
        "We can see that this model predicted one NORMAL cell as CANCER but our CANCER false negative is very high."
      ],
      "id": "Zo7eHz2YFqxV"
    },
    {
      "cell_type": "markdown",
      "metadata": {
        "id": "dz-HEZooQg9w"
      },
      "source": [
        "# Model 3 #"
      ],
      "id": "dz-HEZooQg9w"
    },
    {
      "cell_type": "code",
      "metadata": {
        "id": "Bzs5txCruk9f"
      },
      "source": [
        "model_3 = Sequential()\n",
        "model_3.add(Conv2D(32, kernel_size=(2,2), activation='relu',padding='valid', input_shape = (224,224,3)))\n",
        "model_3.add(Conv2D(32, kernel_size=(2,2), activation='relu', padding='valid'))\n",
        "model_3.add(Conv2D(64, kernel_size=(2,2), padding='same', activation=LeakyReLU()))\n",
        "model_3.add(MaxPooling2D(3,3))\n",
        "model_3.add(Conv2D(64, kernel_size=(3,3), padding='same', activation='relu'))\n",
        "model_3.add(Conv2D(64, kernel_size=(3,3), padding='same', activation=LeakyReLU()))\n",
        "model_3.add(MaxPooling2D(2,2))\n",
        "model_3.add(Conv2D(64, kernel_size=(3,3), activation=LeakyReLU(), padding='valid'))\n",
        "model_3.add(Flatten())\n",
        "model_3.add(Dense(64,activation='relu'))\n",
        "model_3.add(Dense(64, activation=LeakyReLU()))\n",
        "model_3.add(Dropout(.20))\n",
        "model_3.add(Dense(64,activation='relu'))\n",
        "model_3.add(Dense(64, activation=LeakyReLU()))\n",
        "model_3.add(Dense(1, activation='sigmoid'))"
      ],
      "id": "Bzs5txCruk9f",
      "execution_count": 41,
      "outputs": []
    },
    {
      "cell_type": "code",
      "metadata": {
        "colab": {
          "base_uri": "https://localhost:8080/"
        },
        "id": "CrpyaqVlulXA",
        "outputId": "a89f02a3-486d-407c-e1ce-73a14ad7b92d"
      },
      "source": [
        "model_3.summary()"
      ],
      "id": "CrpyaqVlulXA",
      "execution_count": 42,
      "outputs": [
        {
          "output_type": "stream",
          "text": [
            "Model: \"sequential_2\"\n",
            "_________________________________________________________________\n",
            "Layer (type)                 Output Shape              Param #   \n",
            "=================================================================\n",
            "conv2d_4 (Conv2D)            (None, 223, 223, 32)      416       \n",
            "_________________________________________________________________\n",
            "conv2d_5 (Conv2D)            (None, 222, 222, 32)      4128      \n",
            "_________________________________________________________________\n",
            "conv2d_6 (Conv2D)            (None, 222, 222, 64)      8256      \n",
            "_________________________________________________________________\n",
            "max_pooling2d_3 (MaxPooling2 (None, 74, 74, 64)        0         \n",
            "_________________________________________________________________\n",
            "conv2d_7 (Conv2D)            (None, 74, 74, 64)        36928     \n",
            "_________________________________________________________________\n",
            "conv2d_8 (Conv2D)            (None, 74, 74, 64)        36928     \n",
            "_________________________________________________________________\n",
            "max_pooling2d_4 (MaxPooling2 (None, 37, 37, 64)        0         \n",
            "_________________________________________________________________\n",
            "conv2d_9 (Conv2D)            (None, 35, 35, 64)        36928     \n",
            "_________________________________________________________________\n",
            "flatten_2 (Flatten)          (None, 78400)             0         \n",
            "_________________________________________________________________\n",
            "dense_5 (Dense)              (None, 64)                5017664   \n",
            "_________________________________________________________________\n",
            "dense_6 (Dense)              (None, 64)                4160      \n",
            "_________________________________________________________________\n",
            "dropout_1 (Dropout)          (None, 64)                0         \n",
            "_________________________________________________________________\n",
            "dense_7 (Dense)              (None, 64)                4160      \n",
            "_________________________________________________________________\n",
            "dense_8 (Dense)              (None, 64)                4160      \n",
            "_________________________________________________________________\n",
            "dense_9 (Dense)              (None, 1)                 65        \n",
            "=================================================================\n",
            "Total params: 5,153,793\n",
            "Trainable params: 5,153,793\n",
            "Non-trainable params: 0\n",
            "_________________________________________________________________\n"
          ],
          "name": "stdout"
        }
      ]
    },
    {
      "cell_type": "code",
      "metadata": {
        "id": "aSMRL0kBRpEW"
      },
      "source": [
        "model_3.compile(loss='binary_crossentropy', optimizer='adam', metrics=[Precision(), Recall(), 'accuracy'])"
      ],
      "id": "aSMRL0kBRpEW",
      "execution_count": 43,
      "outputs": []
    },
    {
      "cell_type": "code",
      "metadata": {
        "colab": {
          "base_uri": "https://localhost:8080/"
        },
        "id": "WJluWp21SHHG",
        "outputId": "2daa6c39-a49f-47a5-abcb-891fd7d0982a"
      },
      "source": [
        "model_three_start = time.time()\n",
        "history_3 = model_3.fit(x=train_generator,\n",
        "            validation_data = validation_generator,\n",
        "            epochs=15,\n",
        "            callbacks = [early_stop,checkpoint])\n",
        "model_three_end = time.time()\n",
        "\n",
        "time_to_train_three = model_three_end - model_three_start"
      ],
      "id": "WJluWp21SHHG",
      "execution_count": 44,
      "outputs": [
        {
          "output_type": "stream",
          "text": [
            "Epoch 1/15\n",
            "800/800 [==============================] - 242s 300ms/step - loss: 0.5471 - precision_2: 0.6689 - recall_2: 0.7289 - accuracy: 0.6841 - val_loss: 0.4490 - val_precision_2: 0.8997 - val_recall_2: 0.6725 - val_accuracy: 0.7987\n",
            "\n",
            "Epoch 00001: val_loss did not improve from 0.37896\n",
            "Epoch 2/15\n",
            "800/800 [==============================] - 238s 297ms/step - loss: 0.3532 - precision_2: 0.8425 - recall_2: 0.8590 - accuracy: 0.8492 - val_loss: 0.3186 - val_precision_2: 0.9164 - val_recall_2: 0.7950 - val_accuracy: 0.8612\n",
            "\n",
            "Epoch 00002: val_loss improved from 0.37896 to 0.31857, saving model to /content/drive/MyDrive/colon_dataset/checkpoint\n"
          ],
          "name": "stdout"
        },
        {
          "output_type": "stream",
          "text": [
            "WARNING:absl:Found untraced functions such as leaky_re_lu_1_layer_call_fn, leaky_re_lu_1_layer_call_and_return_conditional_losses, leaky_re_lu_2_layer_call_fn, leaky_re_lu_2_layer_call_and_return_conditional_losses, leaky_re_lu_3_layer_call_fn while saving (showing 5 of 25). These functions will not be directly callable after loading.\n"
          ],
          "name": "stderr"
        },
        {
          "output_type": "stream",
          "text": [
            "INFO:tensorflow:Assets written to: /content/drive/MyDrive/colon_dataset/checkpoint/assets\n"
          ],
          "name": "stdout"
        },
        {
          "output_type": "stream",
          "text": [
            "INFO:tensorflow:Assets written to: /content/drive/MyDrive/colon_dataset/checkpoint/assets\n"
          ],
          "name": "stderr"
        },
        {
          "output_type": "stream",
          "text": [
            "Epoch 3/15\n",
            "800/800 [==============================] - 239s 298ms/step - loss: 0.3228 - precision_2: 0.8519 - recall_2: 0.8826 - accuracy: 0.8646 - val_loss: 0.5780 - val_precision_2: 0.9907 - val_recall_2: 0.5300 - val_accuracy: 0.7625\n",
            "\n",
            "Epoch 00003: val_loss did not improve from 0.31857\n",
            "Epoch 4/15\n",
            "800/800 [==============================] - 238s 297ms/step - loss: 0.2677 - precision_2: 0.8773 - recall_2: 0.9130 - accuracy: 0.8926 - val_loss: 0.6564 - val_precision_2: 0.9867 - val_recall_2: 0.5550 - val_accuracy: 0.7738\n",
            "\n",
            "Epoch 00004: val_loss did not improve from 0.31857\n"
          ],
          "name": "stdout"
        }
      ]
    },
    {
      "cell_type": "code",
      "metadata": {
        "colab": {
          "base_uri": "https://localhost:8080/",
          "height": 308
        },
        "id": "D_WN_C_QV7qK",
        "outputId": "a0bbc899-ad97-4459-e89e-a8115713e682"
      },
      "source": [
        "visualize_training_results(history_3, 2)"
      ],
      "id": "D_WN_C_QV7qK",
      "execution_count": 45,
      "outputs": [
        {
          "output_type": "display_data",
          "data": {
            "image/png": "[encoded data removed]",
            "text/plain": [
              "<Figure size 432x288 with 3 Axes>"
            ]
          },
          "metadata": {
            "needs_background": "light"
          }
        }
      ]
    },
    {
      "cell_type": "code",
      "metadata": {
        "colab": {
          "base_uri": "https://localhost:8080/"
        },
        "id": "mQeR83ET1rd0",
        "outputId": "488726e4-dc17-4f2c-d9b0-f23142aecdf1"
      },
      "source": [
        "model_metrics_3 = model_3.evaluate(eval_train_generator)\n",
        "model_metrics_3"
      ],
      "id": "mQeR83ET1rd0",
      "execution_count": 46,
      "outputs": [
        {
          "output_type": "stream",
          "text": [
            "800/800 [==============================] - 58s 72ms/step - loss: 0.6345 - precision_2: 0.9891 - recall_2: 0.5686 - accuracy: 0.7812\n"
          ],
          "name": "stdout"
        },
        {
          "output_type": "execute_result",
          "data": {
            "text/plain": [
              "[0.6345102787017822, 0.989128053188324, 0.5686249732971191, 0.7811874747276306]"
            ]
          },
          "metadata": {},
          "execution_count": 46
        }
      ]
    },
    {
      "cell_type": "code",
      "metadata": {
        "id": "tHerRhv71fna"
      },
      "source": [
        "model_three_start_train = time.time()\n",
        "preds_train_3 = model_3.predict(eval_train_generator)\n",
        "model_three_end_train = time.time()\n",
        "\n",
        "model_three_start_val = time.time()\n",
        "preds_val_3 = model_3.predict(eval_validation_generator)\n",
        "model_three_end_val = time.time()\n",
        "\n",
        "model_three_train_time = model_three_end_train - model_three_start_train\n",
        "model_three_val_time = model_three_end_val - model_three_start_val"
      ],
      "id": "tHerRhv71fna",
      "execution_count": 47,
      "outputs": []
    },
    {
      "cell_type": "code",
      "metadata": {
        "id": "lVDRplJtWUl7"
      },
      "source": [
        "performance_df.at[4,'model'] = 'model_three_train'\n",
        "performance_df.at[4,'loss'] = model_metrics_3[0]\n",
        "performance_df.at[4,'precision'] = model_metrics_3[1]\n",
        "performance_df.at[4, 'recall'] = model_metrics_3[2]\n",
        "performance_df.at[4,'accuracy'] = model_metrics_3[3]\n",
        "performance_df.at[4,'time_to_train'] = time_to_train_three\n",
        "performance_df.at[4,'time_to_predict'] = model_three_train_time"
      ],
      "id": "lVDRplJtWUl7",
      "execution_count": 48,
      "outputs": []
    },
    {
      "cell_type": "code",
      "metadata": {
        "id": "nZg02uOaWZPO"
      },
      "source": [
        "performance_df.at[5,'model'] = 'model_three_val'\n",
        "performance_df.at[5,'loss'] = model_metrics_3[0]\n",
        "performance_df.at[5,'precision'] = model_metrics_3[1]\n",
        "performance_df.at[5, 'recall'] = model_metrics_3[2]\n",
        "performance_df.at[5,'accuracy'] = model_metrics_3[3]\n",
        "performance_df.at[5,'time_to_train'] = time_to_train_three\n",
        "performance_df.at[5,'time_to_predict'] = model_three_val_time"
      ],
      "id": "nZg02uOaWZPO",
      "execution_count": 49,
      "outputs": []
    },
    {
      "cell_type": "code",
      "metadata": {
        "colab": {
          "base_uri": "https://localhost:8080/",
          "height": 235
        },
        "id": "7qemZYhX1ySy",
        "outputId": "09e293e8-ce82-418a-deef-cd7f17e0bb2a"
      },
      "source": [
        "performance_df"
      ],
      "id": "7qemZYhX1ySy",
      "execution_count": 50,
      "outputs": [
        {
          "output_type": "execute_result",
          "data": {
            "text/html": [
              "<div>\n",
              "<style scoped>\n",
              "    .dataframe tbody tr th:only-of-type {\n",
              "        vertical-align: middle;\n",
              "    }\n",
              "\n",
              "    .dataframe tbody tr th {\n",
              "        vertical-align: top;\n",
              "    }\n",
              "\n",
              "    .dataframe thead th {\n",
              "        text-align: right;\n",
              "    }\n",
              "</style>\n",
              "<table border=\"1\" class=\"dataframe\">\n",
              "  <thead>\n",
              "    <tr style=\"text-align: right;\">\n",
              "      <th></th>\n",
              "      <th>model</th>\n",
              "      <th>loss</th>\n",
              "      <th>precision</th>\n",
              "      <th>recall</th>\n",
              "      <th>accuracy</th>\n",
              "      <th>time_to_train</th>\n",
              "      <th>time_to_predict</th>\n",
              "    </tr>\n",
              "  </thead>\n",
              "  <tbody>\n",
              "    <tr>\n",
              "      <th>0</th>\n",
              "      <td>model_train</td>\n",
              "      <td>0.896567</td>\n",
              "      <td>0.874188</td>\n",
              "      <td>0.235375</td>\n",
              "      <td>0.600750</td>\n",
              "      <td>1477.679940</td>\n",
              "      <td>53.816586</td>\n",
              "    </tr>\n",
              "    <tr>\n",
              "      <th>1</th>\n",
              "      <td>model_valid</td>\n",
              "      <td>0.842221</td>\n",
              "      <td>0.932203</td>\n",
              "      <td>0.275000</td>\n",
              "      <td>0.627500</td>\n",
              "      <td>1477.679940</td>\n",
              "      <td>2.781283</td>\n",
              "    </tr>\n",
              "    <tr>\n",
              "      <th>2</th>\n",
              "      <td>model_two_train</td>\n",
              "      <td>0.444966</td>\n",
              "      <td>0.965439</td>\n",
              "      <td>0.694875</td>\n",
              "      <td>0.835000</td>\n",
              "      <td>1201.630584</td>\n",
              "      <td>49.050913</td>\n",
              "    </tr>\n",
              "    <tr>\n",
              "      <th>3</th>\n",
              "      <td>model_two_val</td>\n",
              "      <td>0.404212</td>\n",
              "      <td>0.973770</td>\n",
              "      <td>0.742500</td>\n",
              "      <td>0.861250</td>\n",
              "      <td>1201.630584</td>\n",
              "      <td>2.486887</td>\n",
              "    </tr>\n",
              "    <tr>\n",
              "      <th>4</th>\n",
              "      <td>model_three_train</td>\n",
              "      <td>0.634510</td>\n",
              "      <td>0.989128</td>\n",
              "      <td>0.568625</td>\n",
              "      <td>0.781187</td>\n",
              "      <td>958.612494</td>\n",
              "      <td>49.203408</td>\n",
              "    </tr>\n",
              "    <tr>\n",
              "      <th>5</th>\n",
              "      <td>model_three_val</td>\n",
              "      <td>0.634510</td>\n",
              "      <td>0.989128</td>\n",
              "      <td>0.568625</td>\n",
              "      <td>0.781187</td>\n",
              "      <td>958.612494</td>\n",
              "      <td>2.602211</td>\n",
              "    </tr>\n",
              "  </tbody>\n",
              "</table>\n",
              "</div>"
            ],
            "text/plain": [
              "               model      loss  ...  time_to_train  time_to_predict\n",
              "0        model_train  0.896567  ...    1477.679940        53.816586\n",
              "1        model_valid  0.842221  ...    1477.679940         2.781283\n",
              "2    model_two_train  0.444966  ...    1201.630584        49.050913\n",
              "3      model_two_val  0.404212  ...    1201.630584         2.486887\n",
              "4  model_three_train  0.634510  ...     958.612494        49.203408\n",
              "5    model_three_val  0.634510  ...     958.612494         2.602211\n",
              "\n",
              "[6 rows x 7 columns]"
            ]
          },
          "metadata": {},
          "execution_count": 50
        }
      ]
    },
    {
      "cell_type": "code",
      "metadata": {
        "colab": {
          "base_uri": "https://localhost:8080/",
          "height": 295
        },
        "id": "3riwWNecSHJW",
        "outputId": "3b93bc0e-1371-4d52-b086-5264c09ba1b9"
      },
      "source": [
        "plot_confusion_matrix(eval_train_generator.labels, np.rint(preds_train_3))"
      ],
      "id": "3riwWNecSHJW",
      "execution_count": 51,
      "outputs": [
        {
          "output_type": "display_data",
          "data": {
            "image/png": "[encoded data removed]",
            "text/plain": [
              "<Figure size 432x288 with 2 Axes>"
            ]
          },
          "metadata": {
            "needs_background": "light"
          }
        }
      ]
    },
    {
      "cell_type": "code",
      "metadata": {
        "colab": {
          "base_uri": "https://localhost:8080/",
          "height": 295
        },
        "id": "ffUB4-gPXs1b",
        "outputId": "e1526ec2-1aef-4d90-85cc-1da120e08a95"
      },
      "source": [
        "plot_confusion_matrix(eval_validation_generator.labels, np.rint(preds_val_3))"
      ],
      "id": "ffUB4-gPXs1b",
      "execution_count": 52,
      "outputs": [
        {
          "output_type": "display_data",
          "data": {
            "image/png": "[encoded data removed]",
            "text/plain": [
              "<Figure size 432x288 with 2 Axes>"
            ]
          },
          "metadata": {
            "needs_background": "light"
          }
        }
      ]
    },
    {
      "cell_type": "markdown",
      "metadata": {
        "id": "9wLh9-NDYIuA"
      },
      "source": [
        "We are still seeing the same problem with predicting only one class and getting only 50% of those predictions right. Let's now try some transfer learning to see if we can get better results."
      ],
      "id": "9wLh9-NDYIuA"
    },
    {
      "cell_type": "markdown",
      "metadata": {
        "id": "wkk55t0GDVlX"
      },
      "source": [
        "# ResNet"
      ],
      "id": "wkk55t0GDVlX"
    },
    {
      "cell_type": "code",
      "metadata": {
        "id": "F1HhNX9eSWgO"
      },
      "source": [
        "from tensorflow.keras.applications import ResNet50"
      ],
      "id": "F1HhNX9eSWgO",
      "execution_count": 53,
      "outputs": []
    },
    {
      "cell_type": "code",
      "metadata": {
        "colab": {
          "base_uri": "https://localhost:8080/"
        },
        "id": "byLJP7TUIcBA",
        "outputId": "3bf19155-afc0-466e-e564-eacc0046ee96"
      },
      "source": [
        "resnet_gen = ImageDataGenerator(rescale=1./255).flow_from_directory(\n",
        "    '/content/drive/MyDrive/colon_dataset/train',\n",
        "    target_size = IMAGE_SIZE,\n",
        "    batch_size = BATCH_SIZE,\n",
        "    color_mode = 'rgb',\n",
        "    shuffle = True,\n",
        "    class_mode = 'binary',\n",
        "    seed = 20\n",
        ")\n",
        "resnet_val_gen = ImageDataGenerator(rescale=1./255).flow_from_directory(\n",
        "    '/content/drive/MyDrive/colon_dataset/validation',\n",
        "    target_size = IMAGE_SIZE,\n",
        "    batch_size = BATCH_SIZE,\n",
        "    color_mode = 'rgb',\n",
        "    shuffle = True,\n",
        "    class_mode = 'binary',\n",
        "    seed = 20\n",
        ")"
      ],
      "id": "byLJP7TUIcBA",
      "execution_count": 54,
      "outputs": [
        {
          "output_type": "stream",
          "text": [
            "Found 16000 images belonging to 2 classes.\n",
            "Found 800 images belonging to 2 classes.\n"
          ],
          "name": "stdout"
        }
      ]
    },
    {
      "cell_type": "code",
      "metadata": {
        "colab": {
          "base_uri": "https://localhost:8080/"
        },
        "id": "94j2ZMPuS6AQ",
        "outputId": "4c6ce292-c8ec-43a6-8de3-1e88bb033b10"
      },
      "source": [
        "model_4 = Sequential()\n",
        "\n",
        "resnet_model = ResNet50(weights = 'imagenet',\n",
        "                        include_top = False,\n",
        "                        pooling= 'avg')\n",
        "\n",
        "model_4.add(resnet_model)\n",
        "model_4.add(Dense(1, activation='sigmoid'))\n",
        "for layer in resnet_model.layers:\n",
        "  layer.trainable = False"
      ],
      "id": "94j2ZMPuS6AQ",
      "execution_count": 55,
      "outputs": [
        {
          "output_type": "stream",
          "text": [
            "Downloading data from https://storage.googleapis.com/tensorflow/keras-applications/resnet/resnet50_weights_tf_dim_ordering_tf_kernels_notop.h5\n",
            "94773248/94765736 [==============================] - 1s 0us/step\n",
            "94781440/94765736 [==============================] - 1s 0us/step\n"
          ],
          "name": "stdout"
        }
      ]
    },
    {
      "cell_type": "code",
      "metadata": {
        "id": "lS6WwUuIS9Np"
      },
      "source": [
        "from tensorflow.keras.optimizers import SGD"
      ],
      "id": "lS6WwUuIS9Np",
      "execution_count": 56,
      "outputs": []
    },
    {
      "cell_type": "code",
      "metadata": {
        "colab": {
          "base_uri": "https://localhost:8080/"
        },
        "id": "WR6z8e-0Tjph",
        "outputId": "8c7bcc85-e02f-4d5a-f7a2-1127bcd1e50e"
      },
      "source": [
        "sgd = SGD(learning_rate=0.001)\n",
        "model_4.compile(optimizer=sgd,loss='binary_crossentropy',metrics = [Precision(),Recall(), 'accuracy'])\n",
        "model_4.summary()"
      ],
      "id": "WR6z8e-0Tjph",
      "execution_count": 57,
      "outputs": [
        {
          "output_type": "stream",
          "text": [
            "Model: \"sequential_3\"\n",
            "_________________________________________________________________\n",
            "Layer (type)                 Output Shape              Param #   \n",
            "=================================================================\n",
            "resnet50 (Functional)        (None, 2048)              23587712  \n",
            "_________________________________________________________________\n",
            "dense_10 (Dense)             (None, 1)                 2049      \n",
            "=================================================================\n",
            "Total params: 23,589,761\n",
            "Trainable params: 2,049\n",
            "Non-trainable params: 23,587,712\n",
            "_________________________________________________________________\n"
          ],
          "name": "stdout"
        }
      ]
    },
    {
      "cell_type": "code",
      "metadata": {
        "colab": {
          "base_uri": "https://localhost:8080/"
        },
        "id": "LyHpKreAUYOf",
        "outputId": "19a9e230-b492-4a03-8f97-3b95196c4562"
      },
      "source": [
        "history_resnet = model_4.fit(x = resnet_gen,\n",
        "                             validation_data = resnet_val_gen,\n",
        "                             steps_per_epoch = (resnet_gen.n//20),\n",
        "                             validation_steps = (resnet_val_gen.n//20),\n",
        "                             epochs = 5,\n",
        "                             callbacks = checkpoint)"
      ],
      "id": "LyHpKreAUYOf",
      "execution_count": 58,
      "outputs": [
        {
          "output_type": "stream",
          "text": [
            "Epoch 1/5\n",
            "800/800 [==============================] - 68s 81ms/step - loss: 0.6685 - precision_3: 0.6130 - recall_3: 0.6351 - accuracy: 0.6171 - val_loss: 0.6499 - val_precision_3: 0.6000 - val_recall_3: 0.8250 - val_accuracy: 0.6375\n",
            "\n",
            "Epoch 00001: val_loss did not improve from 0.31857\n",
            "Epoch 2/5\n",
            "800/800 [==============================] - 62s 78ms/step - loss: 0.6410 - precision_3: 0.6787 - recall_3: 0.6314 - accuracy: 0.6662 - val_loss: 0.6275 - val_precision_3: 0.6780 - val_recall_3: 0.6950 - val_accuracy: 0.6825\n",
            "\n",
            "Epoch 00002: val_loss did not improve from 0.31857\n",
            "Epoch 3/5\n",
            "800/800 [==============================] - 62s 77ms/step - loss: 0.6238 - precision_3: 0.6932 - recall_3: 0.6327 - accuracy: 0.6764 - val_loss: 0.6136 - val_precision_3: 0.7749 - val_recall_3: 0.6025 - val_accuracy: 0.7138\n",
            "\n",
            "Epoch 00003: val_loss did not improve from 0.31857\n",
            "Epoch 4/5\n",
            "800/800 [==============================] - 60s 76ms/step - loss: 0.6126 - precision_3: 0.7073 - recall_3: 0.6361 - accuracy: 0.6864 - val_loss: 0.6045 - val_precision_3: 0.7898 - val_recall_3: 0.5825 - val_accuracy: 0.7138\n",
            "\n",
            "Epoch 00004: val_loss did not improve from 0.31857\n",
            "Epoch 5/5\n",
            "800/800 [==============================] - 61s 76ms/step - loss: 0.6034 - precision_3: 0.7114 - recall_3: 0.6419 - accuracy: 0.6908 - val_loss: 0.5951 - val_precision_3: 0.7309 - val_recall_3: 0.6925 - val_accuracy: 0.7188\n",
            "\n",
            "Epoch 00005: val_loss did not improve from 0.31857\n"
          ],
          "name": "stdout"
        }
      ]
    },
    {
      "cell_type": "code",
      "metadata": {
        "id": "n1FMG-vxUqI-"
      },
      "source": [
        "for layer in resnet_model.layers:\n",
        "  layer.trainable = True"
      ],
      "id": "n1FMG-vxUqI-",
      "execution_count": 59,
      "outputs": []
    },
    {
      "cell_type": "code",
      "metadata": {
        "colab": {
          "base_uri": "https://localhost:8080/"
        },
        "id": "5EDAoTEx7qpr",
        "outputId": "3d9d360f-42ed-485b-eca7-edb2a8e126ad"
      },
      "source": [
        "sgd = SGD(learning_rate=0.01)\n",
        "\n",
        "model_4.compile(optimizer=sgd,\n",
        "                loss = 'binary_crossentropy',\n",
        "                metrics = [Precision(), Recall(), 'accuracy'])\n",
        "model_4.summary()"
      ],
      "id": "5EDAoTEx7qpr",
      "execution_count": 60,
      "outputs": [
        {
          "output_type": "stream",
          "text": [
            "Model: \"sequential_3\"\n",
            "_________________________________________________________________\n",
            "Layer (type)                 Output Shape              Param #   \n",
            "=================================================================\n",
            "resnet50 (Functional)        (None, 2048)              23587712  \n",
            "_________________________________________________________________\n",
            "dense_10 (Dense)             (None, 1)                 2049      \n",
            "=================================================================\n",
            "Total params: 23,589,761\n",
            "Trainable params: 23,536,641\n",
            "Non-trainable params: 53,120\n",
            "_________________________________________________________________\n"
          ],
          "name": "stdout"
        }
      ]
    },
    {
      "cell_type": "code",
      "metadata": {
        "colab": {
          "base_uri": "https://localhost:8080/"
        },
        "id": "iupl0hTc8aaj",
        "outputId": "b174e3d7-dd1c-49d9-b376-2c54a37759ec"
      },
      "source": [
        "resnet_start = time.time()\n",
        "history_resnet_unfrozen = model_4.fit(x = resnet_gen,\n",
        "                                      validation_data = resnet_val_gen,\n",
        "                                      epochs = 15,\n",
        "                                      steps_per_epoch = (resnet_gen.n//20),\n",
        "                                      validation_steps = (resnet_val_gen.n//20),\n",
        "                                      callbacks = checkpoint)\n",
        "resnet_end = time.time()\n",
        "\n",
        "resnet_train_time = resnet_end - resnet_start"
      ],
      "id": "iupl0hTc8aaj",
      "execution_count": 61,
      "outputs": [
        {
          "output_type": "stream",
          "text": [
            "Epoch 1/15\n",
            "800/800 [==============================] - 109s 129ms/step - loss: 0.0801 - precision_4: 0.9701 - recall_4: 0.9707 - accuracy: 0.9704 - val_loss: 0.6960 - val_precision_4: 0.5882 - val_recall_4: 0.9750 - val_accuracy: 0.6463\n",
            "\n",
            "Epoch 00001: val_loss did not improve from 0.31857\n",
            "Epoch 2/15\n",
            "800/800 [==============================] - 102s 128ms/step - loss: 0.0214 - precision_4: 0.9936 - recall_4: 0.9935 - accuracy: 0.9936 - val_loss: 0.0208 - val_precision_4: 0.9852 - val_recall_4: 1.0000 - val_accuracy: 0.9925\n",
            "\n",
            "Epoch 00002: val_loss improved from 0.31857 to 0.02078, saving model to /content/drive/MyDrive/colon_dataset/checkpoint\n",
            "INFO:tensorflow:Assets written to: /content/drive/MyDrive/colon_dataset/checkpoint/assets\n"
          ],
          "name": "stdout"
        },
        {
          "output_type": "stream",
          "text": [
            "INFO:tensorflow:Assets written to: /content/drive/MyDrive/colon_dataset/checkpoint/assets\n",
            "/usr/local/lib/python3.7/dist-packages/keras/utils/generic_utils.py:497: CustomMaskWarning: Custom mask layers require a config and must override get_config. When loading, the custom mask layer must be passed to the custom_objects argument.\n",
            "  category=CustomMaskWarning)\n"
          ],
          "name": "stderr"
        },
        {
          "output_type": "stream",
          "text": [
            "Epoch 3/15\n",
            "800/800 [==============================] - 102s 128ms/step - loss: 0.0113 - precision_4: 0.9970 - recall_4: 0.9974 - accuracy: 0.9972 - val_loss: 0.0115 - val_precision_4: 0.9975 - val_recall_4: 0.9975 - val_accuracy: 0.9975\n",
            "\n",
            "Epoch 00003: val_loss improved from 0.02078 to 0.01151, saving model to /content/drive/MyDrive/colon_dataset/checkpoint\n",
            "INFO:tensorflow:Assets written to: /content/drive/MyDrive/colon_dataset/checkpoint/assets\n"
          ],
          "name": "stdout"
        },
        {
          "output_type": "stream",
          "text": [
            "INFO:tensorflow:Assets written to: /content/drive/MyDrive/colon_dataset/checkpoint/assets\n",
            "/usr/local/lib/python3.7/dist-packages/keras/utils/generic_utils.py:497: CustomMaskWarning: Custom mask layers require a config and must override get_config. When loading, the custom mask layer must be passed to the custom_objects argument.\n",
            "  category=CustomMaskWarning)\n"
          ],
          "name": "stderr"
        },
        {
          "output_type": "stream",
          "text": [
            "Epoch 4/15\n",
            "800/800 [==============================] - 102s 128ms/step - loss: 0.0066 - precision_4: 0.9984 - recall_4: 0.9983 - accuracy: 0.9983 - val_loss: 0.0360 - val_precision_4: 0.9804 - val_recall_4: 1.0000 - val_accuracy: 0.9900\n",
            "\n",
            "Epoch 00004: val_loss did not improve from 0.01151\n",
            "Epoch 5/15\n",
            "800/800 [==============================] - 102s 128ms/step - loss: 0.0050 - precision_4: 0.9989 - recall_4: 0.9994 - accuracy: 0.9991 - val_loss: 0.1647 - val_precision_4: 0.9132 - val_recall_4: 1.0000 - val_accuracy: 0.9525\n",
            "\n",
            "Epoch 00005: val_loss did not improve from 0.01151\n",
            "Epoch 6/15\n",
            "800/800 [==============================] - 102s 128ms/step - loss: 0.0038 - precision_4: 0.9990 - recall_4: 0.9994 - accuracy: 0.9992 - val_loss: 0.0115 - val_precision_4: 0.9975 - val_recall_4: 0.9900 - val_accuracy: 0.9937\n",
            "\n",
            "Epoch 00006: val_loss did not improve from 0.01151\n",
            "Epoch 7/15\n",
            "800/800 [==============================] - 102s 128ms/step - loss: 0.0033 - precision_4: 0.9996 - recall_4: 0.9991 - accuracy: 0.9994 - val_loss: 0.0062 - val_precision_4: 0.9975 - val_recall_4: 0.9975 - val_accuracy: 0.9975\n",
            "\n",
            "Epoch 00007: val_loss improved from 0.01151 to 0.00624, saving model to /content/drive/MyDrive/colon_dataset/checkpoint\n",
            "INFO:tensorflow:Assets written to: /content/drive/MyDrive/colon_dataset/checkpoint/assets\n"
          ],
          "name": "stdout"
        },
        {
          "output_type": "stream",
          "text": [
            "INFO:tensorflow:Assets written to: /content/drive/MyDrive/colon_dataset/checkpoint/assets\n",
            "/usr/local/lib/python3.7/dist-packages/keras/utils/generic_utils.py:497: CustomMaskWarning: Custom mask layers require a config and must override get_config. When loading, the custom mask layer must be passed to the custom_objects argument.\n",
            "  category=CustomMaskWarning)\n"
          ],
          "name": "stderr"
        },
        {
          "output_type": "stream",
          "text": [
            "Epoch 8/15\n",
            "800/800 [==============================] - 102s 127ms/step - loss: 0.0025 - precision_4: 0.9993 - recall_4: 0.9996 - accuracy: 0.9994 - val_loss: 0.0073 - val_precision_4: 0.9975 - val_recall_4: 0.9950 - val_accuracy: 0.9962\n",
            "\n",
            "Epoch 00008: val_loss did not improve from 0.00624\n",
            "Epoch 9/15\n",
            "800/800 [==============================] - 103s 128ms/step - loss: 0.0023 - precision_4: 0.9996 - recall_4: 0.9996 - accuracy: 0.9996 - val_loss: 0.0169 - val_precision_4: 0.9877 - val_recall_4: 1.0000 - val_accuracy: 0.9937\n",
            "\n",
            "Epoch 00009: val_loss did not improve from 0.00624\n",
            "Epoch 10/15\n",
            "800/800 [==============================] - 103s 129ms/step - loss: 0.0017 - precision_4: 0.9996 - recall_4: 0.9996 - accuracy: 0.9996 - val_loss: 0.0065 - val_precision_4: 0.9975 - val_recall_4: 0.9975 - val_accuracy: 0.9975\n",
            "\n",
            "Epoch 00010: val_loss did not improve from 0.00624\n",
            "Epoch 11/15\n",
            "800/800 [==============================] - 103s 128ms/step - loss: 0.0012 - precision_4: 1.0000 - recall_4: 0.9999 - accuracy: 0.9999 - val_loss: 0.0116 - val_precision_4: 0.9975 - val_recall_4: 1.0000 - val_accuracy: 0.9987\n",
            "\n",
            "Epoch 00011: val_loss did not improve from 0.00624\n",
            "Epoch 12/15\n",
            "800/800 [==============================] - 103s 128ms/step - loss: 0.0015 - precision_4: 0.9996 - recall_4: 0.9998 - accuracy: 0.9997 - val_loss: 0.0101 - val_precision_4: 0.9975 - val_recall_4: 0.9975 - val_accuracy: 0.9975\n",
            "\n",
            "Epoch 00012: val_loss did not improve from 0.00624\n",
            "Epoch 13/15\n",
            "800/800 [==============================] - 103s 128ms/step - loss: 9.1677e-04 - precision_4: 0.9999 - recall_4: 0.9999 - accuracy: 0.9999 - val_loss: 0.0072 - val_precision_4: 0.9975 - val_recall_4: 1.0000 - val_accuracy: 0.9987\n",
            "\n",
            "Epoch 00013: val_loss did not improve from 0.00624\n",
            "Epoch 14/15\n",
            "800/800 [==============================] - 103s 128ms/step - loss: 8.6470e-04 - precision_4: 0.9999 - recall_4: 1.0000 - accuracy: 0.9999 - val_loss: 0.0152 - val_precision_4: 0.9877 - val_recall_4: 1.0000 - val_accuracy: 0.9937\n",
            "\n",
            "Epoch 00014: val_loss did not improve from 0.00624\n",
            "Epoch 15/15\n",
            "800/800 [==============================] - 103s 129ms/step - loss: 7.1280e-04 - precision_4: 0.9999 - recall_4: 0.9999 - accuracy: 0.9999 - val_loss: 0.0049 - val_precision_4: 0.9975 - val_recall_4: 1.0000 - val_accuracy: 0.9987\n",
            "\n",
            "Epoch 00015: val_loss improved from 0.00624 to 0.00488, saving model to /content/drive/MyDrive/colon_dataset/checkpoint\n",
            "INFO:tensorflow:Assets written to: /content/drive/MyDrive/colon_dataset/checkpoint/assets\n"
          ],
          "name": "stdout"
        },
        {
          "output_type": "stream",
          "text": [
            "INFO:tensorflow:Assets written to: /content/drive/MyDrive/colon_dataset/checkpoint/assets\n",
            "/usr/local/lib/python3.7/dist-packages/keras/utils/generic_utils.py:497: CustomMaskWarning: Custom mask layers require a config and must override get_config. When loading, the custom mask layer must be passed to the custom_objects argument.\n",
            "  category=CustomMaskWarning)\n"
          ],
          "name": "stderr"
        }
      ]
    },
    {
      "cell_type": "code",
      "metadata": {
        "colab": {
          "base_uri": "https://localhost:8080/",
          "height": 308
        },
        "id": "8in3KD6-8x_z",
        "outputId": "cd0c7046-88ba-493c-aa77-72b2a76f4988"
      },
      "source": [
        "visualize_training_results(history_resnet_unfrozen, 4)"
      ],
      "id": "8in3KD6-8x_z",
      "execution_count": 62,
      "outputs": [
        {
          "output_type": "display_data",
          "data": {
            "image/png": "[encoded data removed]",
            "text/plain": [
              "<Figure size 432x288 with 3 Axes>"
            ]
          },
          "metadata": {
            "needs_background": "light"
          }
        }
      ]
    },
    {
      "cell_type": "code",
      "metadata": {
        "colab": {
          "base_uri": "https://localhost:8080/"
        },
        "id": "C5MOtmLiDavP",
        "outputId": "d104b654-d3b0-4dde-beed-c4ec687aef00"
      },
      "source": [
        "resnet_train_eval_generator = ImageDataGenerator(rescale=1.0/255).flow_from_directory(\n",
        "    '/content/drive/MyDrive/colon_dataset/train',\n",
        "    color_mode='rgb',    # 3 channels\n",
        "    target_size=IMAGE_SIZE, \n",
        "    batch_size=BATCH_SIZE,\n",
        "    seed=20,\n",
        "    shuffle=False\n",
        ")\n",
        "resnet_validation_eval_generator = ImageDataGenerator(rescale=1.0/255).flow_from_directory(\n",
        "    '/content/drive/MyDrive/colon_dataset/validation',\n",
        "    color_mode='rgb',    # 3 channels\n",
        "    target_size=IMAGE_SIZE, \n",
        "    batch_size=BATCH_SIZE,\n",
        "    seed=20,\n",
        "    shuffle=False   \n",
        ")"
      ],
      "id": "C5MOtmLiDavP",
      "execution_count": 63,
      "outputs": [
        {
          "output_type": "stream",
          "text": [
            "Found 16000 images belonging to 2 classes.\n",
            "Found 800 images belonging to 2 classes.\n"
          ],
          "name": "stdout"
        }
      ]
    },
    {
      "cell_type": "code",
      "metadata": {
        "colab": {
          "base_uri": "https://localhost:8080/"
        },
        "id": "64XEwi9bBWZ1",
        "outputId": "7ed743ad-e135-4923-e5ab-c101f7ab3dd8"
      },
      "source": [
        "resnet_prediction_start = time.time()\n",
        "preds_train_resnet = model_4.predict(resnet_train_eval_generator, verbose=1)\n",
        "resnet_prediction_end = time.time()\n",
        "\n",
        "resnet_val_pred_start = time.time()\n",
        "preds_val_resnet = model_4.predict(resnet_validation_eval_generator, verbose=1)\n",
        "resnet_val_pred_end = time.time()\n",
        "\n",
        "train_time_resnet = resnet_prediction_end - resnet_prediction_start\n",
        "val_time_resnet = resnet_val_pred_end - resnet_val_pred_start"
      ],
      "id": "64XEwi9bBWZ1",
      "execution_count": 64,
      "outputs": [
        {
          "output_type": "stream",
          "text": [
            "800/800 [==============================] - 60s 73ms/step\n",
            "40/40 [==============================] - 3s 73ms/step\n"
          ],
          "name": "stdout"
        }
      ]
    },
    {
      "cell_type": "code",
      "metadata": {
        "colab": {
          "base_uri": "https://localhost:8080/",
          "height": 295
        },
        "id": "3XGsC-8DB6rB",
        "outputId": "0afe348b-f0dc-4510-fc4d-13e71d05d472"
      },
      "source": [
        "plot_confusion_matrix(resnet_train_eval_generator.labels, np.rint(preds_train_resnet))"
      ],
      "id": "3XGsC-8DB6rB",
      "execution_count": 65,
      "outputs": [
        {
          "output_type": "display_data",
          "data": {
            "image/png": "[encoded data removed]",
            "text/plain": [
              "<Figure size 432x288 with 2 Axes>"
            ]
          },
          "metadata": {
            "needs_background": "light"
          }
        }
      ]
    },
    {
      "cell_type": "code",
      "metadata": {
        "colab": {
          "base_uri": "https://localhost:8080/",
          "height": 295
        },
        "id": "Xb2dn2zxhezB",
        "outputId": "444662df-86bd-4df2-d919-68700268b217"
      },
      "source": [
        "plot_confusion_matrix(resnet_validation_eval_generator.labels, np.rint(preds_val_resnet))"
      ],
      "id": "Xb2dn2zxhezB",
      "execution_count": 66,
      "outputs": [
        {
          "output_type": "display_data",
          "data": {
            "image/png": "[encoded data removed]",
            "text/plain": [
              "<Figure size 432x288 with 2 Axes>"
            ]
          },
          "metadata": {
            "needs_background": "light"
          }
        }
      ]
    },
    {
      "cell_type": "markdown",
      "metadata": {
        "id": "RFJ6bYqzhySB"
      },
      "source": [
        "Great results. Out of the 16,800 images only 1 was predicted incorrectly. We still need to verify the results with out holdout data."
      ],
      "id": "RFJ6bYqzhySB"
    },
    {
      "cell_type": "markdown",
      "metadata": {
        "id": "jaObvRyY7n7R"
      },
      "source": [
        "# Testing our holdout images"
      ],
      "id": "jaObvRyY7n7R"
    },
    {
      "cell_type": "markdown",
      "metadata": {
        "id": "QBiG01Eh7sBZ"
      },
      "source": [
        "It is clear by now from our metrics and predictions that our best model was the ResNet50 Model with only misclassifying 1 NORMAL image."
      ],
      "id": "QBiG01Eh7sBZ"
    },
    {
      "cell_type": "markdown",
      "metadata": {
        "id": "8LIlVsAV8n9X"
      },
      "source": [
        "In order to fully validate our results we will use a set of images that were separated and not used in the training process and see the accuracy of the predictions presented."
      ],
      "id": "8LIlVsAV8n9X"
    },
    {
      "cell_type": "code",
      "metadata": {
        "id": "cyoM3WFzCw9B",
        "colab": {
          "base_uri": "https://localhost:8080/"
        },
        "outputId": "32acff91-ae35-4862-9b57-901ebd2eafa8"
      },
      "source": [
        "testing_predictions = model_4.predict(holdout_data, verbose=1)"
      ],
      "id": "cyoM3WFzCw9B",
      "execution_count": 67,
      "outputs": [
        {
          "output_type": "stream",
          "text": [
            "36/36 [==============================] - 149s 4s/step\n"
          ],
          "name": "stdout"
        }
      ]
    },
    {
      "cell_type": "code",
      "metadata": {
        "colab": {
          "base_uri": "https://localhost:8080/",
          "height": 295
        },
        "id": "iiy0lYLd9wOV",
        "outputId": "c334de1b-1922-47c3-9c0a-00f173a1a313"
      },
      "source": [
        "plot_confusion_matrix(holdout_data.labels, np.rint(testing_predictions))"
      ],
      "id": "iiy0lYLd9wOV",
      "execution_count": 68,
      "outputs": [
        {
          "output_type": "display_data",
          "data": {
            "image/png": "[encoded data removed]",
            "text/plain": [
              "<Figure size 432x288 with 2 Axes>"
            ]
          },
          "metadata": {
            "needs_background": "light"
          }
        }
      ]
    },
    {
      "cell_type": "markdown",
      "metadata": {
        "id": "jBU2jOZZ-gnO"
      },
      "source": [
        "Great results from the predictions. Out of the 720 images predicted 5 were predicted incorrectly. \n",
        "\n",
        "It is also important to point out that more images that weer actually labeled NORMAL were predicted as CANCER, showing the recall sensitivity was at an acceptable level."
      ],
      "id": "jBU2jOZZ-gnO"
    },
    {
      "cell_type": "code",
      "metadata": {
        "colab": {
          "base_uri": "https://localhost:8080/"
        },
        "id": "sd-_F9i5-WS-",
        "outputId": "a9d7733e-f495-41c4-efa9-ee20e4f8cfc8"
      },
      "source": [
        "percentage_incorrect = 5/720\n",
        "print(percentage_incorrect*100)"
      ],
      "id": "sd-_F9i5-WS-",
      "execution_count": 74,
      "outputs": [
        {
          "output_type": "stream",
          "text": [
            "0.6944444444444444\n"
          ],
          "name": "stdout"
        }
      ]
    },
    {
      "cell_type": "markdown",
      "metadata": {
        "id": "2tzUz7MG_tZH"
      },
      "source": [
        "Based on the results above, this model predicts correctly with 99.4% accuracy. This would make our model be on par with doctor's determinations when giving a colon cancer diagnosis (1-2% margin of error)."
      ],
      "id": "2tzUz7MG_tZH"
    }
  ]
}