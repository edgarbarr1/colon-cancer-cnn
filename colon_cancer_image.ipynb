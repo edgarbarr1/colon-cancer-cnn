{
  "nbformat": 4,
  "nbformat_minor": 5,
  "metadata": {
    "accelerator": "GPU",
    "colab": {
      "name": "colon cancer image",
      "provenance": [],
      "collapsed_sections": [],
      "machine_shape": "hm",
      "include_colab_link": true
    },
    "kernelspec": {
      "display_name": "Python 3",
      "language": "python",
      "name": "python3"
    },
    "language_info": {
      "codemirror_mode": {
        "name": "ipython",
        "version": 3
      },
      "file_extension": ".py",
      "mimetype": "text/x-python",
      "name": "python",
      "nbconvert_exporter": "python",
      "pygments_lexer": "ipython3",
      "version": "3.7.10"
    }
  },
  "cells": [
    {
      "cell_type": "markdown",
      "metadata": {
        "id": "view-in-github",
        "colab_type": "text"
      },
      "source": [
        "<a href=\"https://colab.research.google.com/github/edgarbarr1/colon-cancer-cnn/blob/main/colon_cancer_image.ipynb\" target=\"_parent\"><img src=\"https://colab.research.google.com/assets/colab-badge.svg\" alt=\"Open In Colab\"/></a>"
      ]
    },
    {
      "cell_type": "markdown",
      "metadata": {
        "id": "1b304e1a"
      },
      "source": [
        "# Colon Cancer #\n",
        "### _Predicting the outcomes of colon cells to predict cancer_ ###\n",
        "\n",
        "### Business Understanding ###\n",
        "Colon cancer has been deemed the number 3 most common cancer in the world, according to the World Cancer Research Fund. Based on this statistic, it is not a surprise to know that more approximately 19 million colonoscopies are perfeormed each year in the United States.\n",
        "\n",
        "Some experts believe that some of the main causes of this cancer is the Western food diet along with living a sedentary lifestyle as well as being obese. Unfortunately, according to the CDC, the US appears to be on an upward trend in obesity which in turn increses the likelihood of men and women to develop colorectal cancers.\n",
        "\n",
        "Although the morttality rate for the most part appears to be relatively low (80% survival rate), it is important to note that like everything, there is always something to improve with either accurate test results, the time it takes to report those results and the resources available to compile said results.\n",
        "\n",
        "Currently, as per the American Cancer Society, it takes 2-3 days to report the findings of a colonoscopy biopsy.\n",
        "\n",
        "Objective\n",
        "This notebook has the objective of finding out the population that is deeply affected by colon cancer and build a Convolutional Neural Network that can get close to the 1-2% accuracy that current tests. We will also strive to have an efficient model that can give accurate results faster than 2-3 days and ideally within the time frame of \"same-day\" results.\n",
        "\n",
        "Before doing so, we will look at some mortality rates among different populations and determine whether the economic status of a population affects the mortality rate of colon cancer.\n",
        "\n"
      ],
      "id": "1b304e1a"
    },
    {
      "cell_type": "code",
      "metadata": {
        "id": "f9116373"
      },
      "source": [
        "import pandas as pd\n",
        "import numpy as np\n",
        "import os\n",
        "import matplotlib.pyplot as plt\n",
        "import cv2\n",
        "import random\n",
        "\n",
        "import PIL\n",
        "import PIL.Image\n",
        "import pathlib\n",
        "# Packages to import and preprocess images\n",
        "import glob\n",
        "import random\n",
        "import shutil\n",
        "import tensorflow as tf\n",
        "from tensorflow.keras.preprocessing.image import ImageDataGenerator\n",
        "from google.colab import drive\n",
        "\n",
        "# Packages for our models\n",
        "from tensorflow.keras.models import Sequential\n",
        "from tensorflow.keras.layers import Activation, Dense, Flatten, Conv2D, MaxPooling2D, LeakyReLU\n",
        "from sklearn.metrics import confusion_matrix\n",
        "%matplotlib inline"
      ],
      "id": "f9116373",
      "execution_count": 1,
      "outputs": []
    },
    {
      "cell_type": "code",
      "metadata": {
        "colab": {
          "base_uri": "https://localhost:8080/"
        },
        "id": "aIjBG7g1iuDj",
        "outputId": "22d66106-eb7a-4071-92a5-b3c89f5b6e9b"
      },
      "source": [
        "drive.mount('/content/drive')"
      ],
      "id": "aIjBG7g1iuDj",
      "execution_count": 2,
      "outputs": [
        {
          "output_type": "stream",
          "text": [
            "Mounted at /content/drive\n"
          ],
          "name": "stdout"
        }
      ]
    },
    {
      "cell_type": "code",
      "metadata": {
        "colab": {
          "base_uri": "https://localhost:8080/"
        },
        "id": "bbd1156b",
        "outputId": "b1a9e1b1-995c-4a89-945c-bdedef8ad85a"
      },
      "source": [
        "print(tf.__version__)"
      ],
      "id": "bbd1156b",
      "execution_count": 3,
      "outputs": [
        {
          "output_type": "stream",
          "text": [
            "2.5.0\n"
          ],
          "name": "stdout"
        }
      ]
    },
    {
      "cell_type": "markdown",
      "metadata": {
        "id": "c81a4495"
      },
      "source": [
        "Deleted all folders from zenodo except NORM which is normal and TUM which is the cancer cells"
      ],
      "id": "c81a4495"
    },
    {
      "cell_type": "markdown",
      "metadata": {
        "id": "e778f70c"
      },
      "source": [
        "Inspiration for the function in the creation of the [directories](https://www.youtube.com/watch?v=_L2uYfVV48I)"
      ],
      "id": "e778f70c"
    },
    {
      "cell_type": "markdown",
      "metadata": {
        "id": "f3b87c4b"
      },
      "source": [
        "In order to have class balance in the dataset we will be using a total of 24,000 images for our model training, 1,800 items for the validation, and 1,720 images for our test dataset to generate predictions. This brings our total of images used to 27,520 images used in this Convolutional Neural Network."
      ],
      "id": "f3b87c4b"
    },
    {
      "cell_type": "code",
      "metadata": {
        "id": "21OZVddtFmmZ"
      },
      "source": [
        "# PIL.Image.open('/content/drive/MyDrive/colon_dataset/NCT-CRC-HE-100K/NORM/NORM-AAAKGLVQ.tif')"
      ],
      "id": "21OZVddtFmmZ",
      "execution_count": 4,
      "outputs": []
    },
    {
      "cell_type": "code",
      "metadata": {
        "id": "Ibm97lLLlaME"
      },
      "source": [
        "# os.listdir()"
      ],
      "id": "Ibm97lLLlaME",
      "execution_count": 5,
      "outputs": []
    },
    {
      "cell_type": "code",
      "metadata": {
        "id": "jyLRIKjumsaO"
      },
      "source": [
        "# normal_image_count = len(list(glob.glob('/content/drive/MyDrive/colon_dataset/NCT-CRC-HE-100K/NORM/*.tif')))\n",
        "# cancer_image_count = len(list(glob.glob('/content/drive/MyDrive/colon_dataset/NCT-CRC-HE-100K/TUM/*.tif')))\n",
        "# print('Normal images: {}'.format(normal_image_count))\n",
        "# print('Cancer images: {}'.format(cancer_image_count))"
      ],
      "id": "jyLRIKjumsaO",
      "execution_count": 6,
      "outputs": []
    },
    {
      "cell_type": "markdown",
      "metadata": {
        "id": "syF6mGXZkQFy"
      },
      "source": [
        "The images in the dataset are in TIF format. Let's convert the images into jpegs."
      ],
      "id": "syF6mGXZkQFy"
    },
    {
      "cell_type": "code",
      "metadata": {
        "id": "ZjZTTwbskGaq"
      },
      "source": [
        "# ell to convert the TIF images to jpeg\n",
        "\n",
        "# paths = ['/content/drive/MyDrive/colon_dataset/NCT-CRC-HE-100K/NORM',\n",
        "#          '/content/drive/MyDrive/colon_dataset/NCT-CRC-HE-100K/TUM']\n",
        "# for path in paths:\n",
        "#   for root, dirs, files in os.walk(path, topdown=False,):\n",
        "#       for name in files:\n",
        "#           print(os.path.join(root, name))\n",
        "#           #if os.path.splitext(os.path.join(root, name))[1].lower() == \".tiff\":\n",
        "#           if os.path.splitext(os.path.join(root, name))[1].lower() == \".tif\":\n",
        "#               if os.path.isfile(os.path.splitext(os.path.join(root, name))[0] + \".jpg\"):\n",
        "#                   print (\"A jpeg file already exists for %s\" % name)\n",
        "#               # If a jpeg with the name does *NOT* exist, convert one from the tif.\n",
        "#               else:\n",
        "#                   outputfile = os.path.splitext(os.path.join(root, name))[0] + \".jpg\"\n",
        "#                   try:\n",
        "#                       im = PIL.Image.open(os.path.join(root, name))\n",
        "#                       print (\"Converting jpeg for %s\" % name)\n",
        "#                       im.thumbnail(im.size)\n",
        "#                       im.save(outputfile, \"JPEG\", quality=100)\n",
        "#                   except Exception as e: \n",
        "#                     print(e)"
      ],
      "id": "ZjZTTwbskGaq",
      "execution_count": 12,
      "outputs": []
    },
    {
      "cell_type": "markdown",
      "metadata": {
        "id": "dtVCWaN3Lknz"
      },
      "source": [
        "# Jpegs have been converted. Now separate into subdirectories."
      ],
      "id": "dtVCWaN3Lknz"
    },
    {
      "cell_type": "markdown",
      "metadata": {
        "id": "ArRWuyW8ZVSk"
      },
      "source": [
        "Now let's divide the images into subdirecotiries."
      ],
      "id": "ArRWuyW8ZVSk"
    },
    {
      "cell_type": "code",
      "metadata": {
        "id": "wsbi5eR-I3Z4"
      },
      "source": [
        "# os.chdir('drive/MyDrive/colon_dataset')"
      ],
      "id": "wsbi5eR-I3Z4",
      "execution_count": 13,
      "outputs": []
    },
    {
      "cell_type": "code",
      "metadata": {
        "id": "PerdFhSOI85c"
      },
      "source": [
        "# os.listdir()"
      ],
      "id": "PerdFhSOI85c",
      "execution_count": 14,
      "outputs": []
    },
    {
      "cell_type": "code",
      "metadata": {
        "id": "317f608b"
      },
      "source": [
        "# Makes the subdirecoteries for the training, validation, and testing data.\n",
        "# if os.path.isdir('train/normal') is False:\n",
        "#     os.makedirs('train/normal')\n",
        "#     os.makedirs('train/cancer')\n",
        "#     os.makedirs('validation/normal')\n",
        "#     os.makedirs('validation/cancer')\n",
        "#     os.makedirs('test/')"
      ],
      "id": "317f608b",
      "execution_count": 15,
      "outputs": []
    },
    {
      "cell_type": "markdown",
      "metadata": {
        "id": "4mptET7qZulj"
      },
      "source": [
        "Currently we have Tif and jpeg duplicates in our directory. Now we will move the jpeg images to the newly created directories."
      ],
      "id": "4mptET7qZulj"
    },
    {
      "cell_type": "code",
      "metadata": {
        "id": "jIeZcNn6KQuv"
      },
      "source": [
        "# Run this code to move the images from the original dataset directory to the newly created dataset that the model will read.\n",
        "# for image in random.sample(glob.glob('/content/drive/MyDrive/colon_dataset/NCT-CRC-HE-100K/NORM/*.jpg'), 8000):\n",
        "#   shutil.move(image, '/content/drive/MyDrive/colon_dataset/train/normal/')\n",
        "\n",
        "\n",
        "# for image in random.sample(glob.glob('/content/drive/MyDrive/colon_dataset/NCT-CRC-HE-100K/TUM/*.jpg'), 8000):\n",
        "#   shutil.move(image, '/content/drive/MyDrive/colon_dataset/train/cancer/')\n",
        "\n",
        "\n",
        "# for image in random.sample(glob.glob('/content/drive/MyDrive/colon_dataset/NCT-CRC-HE-100K/NORM/*.jpg'), 400):\n",
        "#   shutil.move(image, '/content/drive/MyDrive/colon_dataset/validation/normal/')\n",
        "\n",
        "\n",
        "# for image in random.sample(glob.glob('/content/drive/MyDrive/colon_dataset/NCT-CRC-HE-100K/TUM/*.jpg'), 400):\n",
        "#   shutil.move(image, '/content/drive/MyDrive/colon_dataset/validation/cancer/')\n",
        "\n",
        "\n",
        "# for image in random.sample(glob.glob('/content/drive/MyDrive/colon_dataset/NCT-CRC-HE-100K/NORM/*.jpg'), 360):\n",
        "#   shutil.move(image, '/content/drive/MyDrive/colon_dataset/test/')\n",
        "\n",
        "\n",
        "# for image in random.sample(glob.glob('/content/drive/MyDrive/colon_dataset/NCT-CRC-HE-100K/TUM/*.jpg'), 360):\n",
        "#   shutil.move(image, '/content/drive/MyDrive/colon_dataset/test/')"
      ],
      "id": "jIeZcNn6KQuv",
      "execution_count": 16,
      "outputs": []
    },
    {
      "cell_type": "code",
      "metadata": {
        "id": "fawpQmtgsm4o"
      },
      "source": [
        "# current_path_list = ['/content/drive/MyDrive/colon_dataset/validation',\n",
        "#                      '/content/drive/MyDrive/colon_dataset/test',\n",
        "#                      '/content/drive/MyDrive/colon_dataset/train']"
      ],
      "id": "fawpQmtgsm4o",
      "execution_count": 17,
      "outputs": []
    },
    {
      "cell_type": "markdown",
      "metadata": {
        "id": "rtNqYMuWeIMt"
      },
      "source": [
        "# Image Data Generator #"
      ],
      "id": "rtNqYMuWeIMt"
    },
    {
      "cell_type": "markdown",
      "metadata": {
        "id": "hrjYntT5wlRo"
      },
      "source": [
        ""
      ],
      "id": "hrjYntT5wlRo"
    },
    {
      "cell_type": "code",
      "metadata": {
        "id": "EmxTqUstUJTy"
      },
      "source": [
        "data_gen = ImageDataGenerator(\n",
        "    rescale = 1./255,\n",
        "    zoom_range = (0.95,0.95),\n",
        "    brightness_range = [0.5, 1.0]\n",
        ")"
      ],
      "id": "EmxTqUstUJTy",
      "execution_count": 18,
      "outputs": []
    },
    {
      "cell_type": "code",
      "metadata": {
        "colab": {
          "base_uri": "https://localhost:8080/"
        },
        "id": "rL7yGbVjUJWR",
        "outputId": "e97a5aa7-5790-4b03-fa39-3c5544c9c779"
      },
      "source": [
        "train_generator = data_gen.flow_from_directory(\n",
        "    '/content/drive/MyDrive/colon_dataset/train',\n",
        "    target_size = (224,224),\n",
        "    batch_size = 20,\n",
        "    color_mode = 'rgb',\n",
        "    shuffle = True,\n",
        "    class_mode = 'binary',\n",
        "    subset = 'training',\n",
        "    seed = 20\n",
        ")\n",
        "validation_generator = data_gen.flow_from_directory(\n",
        "    '/content/drive/MyDrive/colon_dataset/validation',\n",
        "    target_size = (224,224),\n",
        "    batch_size = 20,\n",
        "    color_mode = 'rgb',\n",
        "    shuffle = True,\n",
        "    class_mode = 'binary',\n",
        "    subset = 'training',\n",
        "    seed = 20\n",
        ")"
      ],
      "id": "rL7yGbVjUJWR",
      "execution_count": 19,
      "outputs": [
        {
          "output_type": "stream",
          "text": [
            "Found 16000 images belonging to 2 classes.\n",
            "Found 800 images belonging to 2 classes.\n"
          ],
          "name": "stdout"
        }
      ]
    },
    {
      "cell_type": "markdown",
      "metadata": {
        "id": "b6eb164b"
      },
      "source": [
        "# Model 1 #"
      ],
      "id": "b6eb164b"
    },
    {
      "cell_type": "markdown",
      "metadata": {
        "id": "vd3FpAu7C-TC"
      },
      "source": [
        ""
      ],
      "id": "vd3FpAu7C-TC"
    },
    {
      "cell_type": "markdown",
      "metadata": {
        "id": "-ycD3pq5C-Vb"
      },
      "source": [
        "Let's create our first model based on the data generator that we created above.\n",
        "\n",
        "Our first model will be a rather simple one with the following layers:\n",
        "\n",
        "\n",
        "\n",
        "\n",
        "1.   A convolutional layer with a (10,10) kernel size or the height and width of our convolutional window.\n",
        "2.   A Max Pooling Layer that with a height and width of (5,5).\n",
        "1.   A Dense Layer with a 64 output size\n",
        "2.  \n",
        "\n",
        "\n",
        "\n",
        "\n",
        "\n",
        "\n",
        "\n",
        "\n"
      ],
      "id": "-ycD3pq5C-Vb"
    },
    {
      "cell_type": "code",
      "metadata": {
        "id": "a83a3761"
      },
      "source": [
        "model = Sequential()\n",
        "model.add(Conv2D(32, kernel_size=(5,5), activation='relu' , input_shape = (224,224,3)))\n",
        "model.add(MaxPooling2D(3,3))\n",
        "model.add(Dense(64, activation='relu'))\n",
        "model.add(Flatten())\n",
        "model.add(Dense(1, activation='sigmoid'))"
      ],
      "id": "a83a3761",
      "execution_count": 20,
      "outputs": []
    },
    {
      "cell_type": "code",
      "metadata": {
        "colab": {
          "base_uri": "https://localhost:8080/"
        },
        "id": "8b024ebc",
        "outputId": "7571d919-7a77-4728-b2d1-cc0409cd9e72"
      },
      "source": [
        "model.summary()"
      ],
      "id": "8b024ebc",
      "execution_count": 21,
      "outputs": [
        {
          "output_type": "stream",
          "text": [
            "Model: \"sequential\"\n",
            "_________________________________________________________________\n",
            "Layer (type)                 Output Shape              Param #   \n",
            "=================================================================\n",
            "conv2d (Conv2D)              (None, 220, 220, 32)      2432      \n",
            "_________________________________________________________________\n",
            "max_pooling2d (MaxPooling2D) (None, 73, 73, 32)        0         \n",
            "_________________________________________________________________\n",
            "dense (Dense)                (None, 73, 73, 64)        2112      \n",
            "_________________________________________________________________\n",
            "flatten (Flatten)            (None, 341056)            0         \n",
            "_________________________________________________________________\n",
            "dense_1 (Dense)              (None, 1)                 341057    \n",
            "=================================================================\n",
            "Total params: 345,601\n",
            "Trainable params: 345,601\n",
            "Non-trainable params: 0\n",
            "_________________________________________________________________\n"
          ],
          "name": "stdout"
        }
      ]
    },
    {
      "cell_type": "code",
      "metadata": {
        "id": "apgO3Djblo3T"
      },
      "source": [
        "from tensorflow.keras.metrics import Precision, Recall\n",
        "from tensorflow.keras.layers import Dropout\n",
        "import seaborn as sns"
      ],
      "id": "apgO3Djblo3T",
      "execution_count": 22,
      "outputs": []
    },
    {
      "cell_type": "code",
      "metadata": {
        "id": "c5d56d50"
      },
      "source": [
        "model.compile(loss='binary_crossentropy', optimizer='adam', metrics=[Precision(), Recall()])"
      ],
      "id": "c5d56d50",
      "execution_count": 23,
      "outputs": []
    },
    {
      "cell_type": "code",
      "metadata": {
        "colab": {
          "base_uri": "https://localhost:8080/"
        },
        "id": "414194a3",
        "outputId": "a28e49d2-3721-4764-8071-c89743083ba1"
      },
      "source": [
        "history = model.fit(x= train_generator,\n",
        "                    validation_data = validation_generator,\n",
        "                    epochs = 5)"
      ],
      "id": "414194a3",
      "execution_count": 24,
      "outputs": [
        {
          "output_type": "stream",
          "text": [
            "Epoch 1/5\n",
            "800/800 [==============================] - 7794s 10s/step - loss: 0.5910 - precision: 0.7202 - recall: 0.7139 - val_loss: 0.4249 - val_precision: 0.7925 - val_recall: 0.8975\n",
            "Epoch 2/5\n",
            "800/800 [==============================] - 219s 273ms/step - loss: 0.4151 - precision: 0.8227 - recall: 0.8225 - val_loss: 0.4722 - val_precision: 0.8367 - val_recall: 0.7300\n",
            "Epoch 3/5\n",
            "800/800 [==============================] - 219s 274ms/step - loss: 0.3747 - precision: 0.8395 - recall: 0.8454 - val_loss: 0.4890 - val_precision: 0.7323 - val_recall: 0.9575\n",
            "Epoch 4/5\n",
            "800/800 [==============================] - 220s 275ms/step - loss: 0.3293 - precision: 0.8658 - recall: 0.8622 - val_loss: 0.3185 - val_precision: 0.9056 - val_recall: 0.8150\n",
            "Epoch 5/5\n",
            "800/800 [==============================] - 218s 272ms/step - loss: 0.2812 - precision: 0.8865 - recall: 0.8855 - val_loss: 0.5241 - val_precision: 0.6840 - val_recall: 0.9850\n"
          ],
          "name": "stdout"
        }
      ]
    },
    {
      "cell_type": "code",
      "metadata": {
        "colab": {
          "base_uri": "https://localhost:8080/"
        },
        "id": "TDXulPclMxy-",
        "outputId": "f82192f9-8a5d-49b0-ab2f-b5ac06154a94"
      },
      "source": [
        "preds_train_1 = model.predict(train_generator)\n",
        "preds_val_1 = model.predict(validation_generator)"
      ],
      "id": "TDXulPclMxy-",
      "execution_count": 25,
      "outputs": [
        {
          "output_type": "stream",
          "text": [
            "800/800 [==============================] - 115s 142ms/step\n",
            "40/40 [==============================] - 6s 127ms/step\n"
          ],
          "name": "stdout"
        }
      ]
    },
    {
      "cell_type": "code",
      "metadata": {
        "colab": {
          "base_uri": "https://localhost:8080/"
        },
        "id": "Lq2hv_aCMx5F",
        "outputId": "8fb9495a-09dc-4800-9eac-a2c5ba2854eb"
      },
      "source": [
        "model_metrics = model.evaluate(validation_generator)\n",
        "model_metrics"
      ],
      "id": "Lq2hv_aCMx5F",
      "execution_count": 26,
      "outputs": [
        {
          "output_type": "stream",
          "text": [
            "40/40 [==============================] - 11s 269ms/step - loss: 0.5227 - precision: 0.6747 - recall: 0.9850\n"
          ],
          "name": "stdout"
        },
        {
          "output_type": "execute_result",
          "data": {
            "text/plain": [
              "[0.5226746797561646, 0.6746575236320496, 0.9850000143051147]"
            ]
          },
          "metadata": {
            "tags": []
          },
          "execution_count": 26
        }
      ]
    },
    {
      "cell_type": "code",
      "metadata": {
        "id": "febWJjiZOjYl"
      },
      "source": [
        "perf_df = pd.DataFrame(columns=['model', 'loss', 'precision', 'recall'])\n",
        "perf_df.loc[len(perf_df.index)] = ['model'] + model_metrics"
      ],
      "id": "febWJjiZOjYl",
      "execution_count": 27,
      "outputs": []
    },
    {
      "cell_type": "code",
      "metadata": {
        "id": "sfvaUsC1OjbO",
        "colab": {
          "base_uri": "https://localhost:8080/",
          "height": 80
        },
        "outputId": "24e90a32-8baa-4854-9b4e-561401661aea"
      },
      "source": [
        "perf_df"
      ],
      "id": "sfvaUsC1OjbO",
      "execution_count": 28,
      "outputs": [
        {
          "output_type": "execute_result",
          "data": {
            "text/html": [
              "<div>\n",
              "<style scoped>\n",
              "    .dataframe tbody tr th:only-of-type {\n",
              "        vertical-align: middle;\n",
              "    }\n",
              "\n",
              "    .dataframe tbody tr th {\n",
              "        vertical-align: top;\n",
              "    }\n",
              "\n",
              "    .dataframe thead th {\n",
              "        text-align: right;\n",
              "    }\n",
              "</style>\n",
              "<table border=\"1\" class=\"dataframe\">\n",
              "  <thead>\n",
              "    <tr style=\"text-align: right;\">\n",
              "      <th></th>\n",
              "      <th>model</th>\n",
              "      <th>loss</th>\n",
              "      <th>precision</th>\n",
              "      <th>recall</th>\n",
              "    </tr>\n",
              "  </thead>\n",
              "  <tbody>\n",
              "    <tr>\n",
              "      <th>0</th>\n",
              "      <td>model</td>\n",
              "      <td>0.522675</td>\n",
              "      <td>0.674658</td>\n",
              "      <td>0.985</td>\n",
              "    </tr>\n",
              "  </tbody>\n",
              "</table>\n",
              "</div>"
            ],
            "text/plain": [
              "   model      loss  precision  recall\n",
              "0  model  0.522675   0.674658   0.985"
            ]
          },
          "metadata": {
            "tags": []
          },
          "execution_count": 28
        }
      ]
    },
    {
      "cell_type": "code",
      "metadata": {
        "id": "jT_wkVc1Ojdk"
      },
      "source": [
        "def plot_confusion_matrix(y_true, y_pred):\n",
        "    cm = confusion_matrix(y_true, y_pred,)\n",
        "    \n",
        "    ax= plt.subplot()\n",
        "    # annot=True to annotate cells, fmt='g' to disable scientific notation\n",
        "    sns.heatmap(cm, annot=True, ax=ax, fmt='g', cmap='magma', linewidths=1, linecolor='black')\n",
        "\n",
        "    # labels, title and ticks\n",
        "    ax.set_xlabel('Predicted labels')\n",
        "    ax.set_ylabel('True labels')\n",
        "    ax.set_title('Confusion Matrix')\n",
        "    ax.xaxis.set_ticklabels(['NORMAL', 'PNEUMONIA'])\n",
        "    ax.yaxis.set_ticklabels(['NORMAL', 'PNEUMONIA'])\n",
        "    plt.show();"
      ],
      "id": "jT_wkVc1Ojdk",
      "execution_count": 29,
      "outputs": []
    },
    {
      "cell_type": "code",
      "metadata": {
        "id": "xzZdvoCdOtNd",
        "colab": {
          "base_uri": "https://localhost:8080/",
          "height": 295
        },
        "outputId": "1e9fddb0-9673-4f4f-b0ac-d285af226531"
      },
      "source": [
        "plot_confusion_matrix(train_generator.labels, np.rint(preds_train_1))"
      ],
      "id": "xzZdvoCdOtNd",
      "execution_count": 30,
      "outputs": [
        {
          "output_type": "display_data",
          "data": {
            "image/png": "[encoded data removed]",
            "text/plain": [
              "<Figure size 432x288 with 2 Axes>"
            ]
          },
          "metadata": {
            "tags": [],
            "needs_background": "light"
          }
        }
      ]
    },
    {
      "cell_type": "code",
      "metadata": {
        "id": "Q0eJIj_VxB49"
      },
      "source": [
        "def visualize_training_results_1(history):\n",
        "    '''\n",
        "    From https://machinelearningmastery.com/display-deep-learning-model-training-history-in-keras/\n",
        "    \n",
        "    Input: keras history object (output from trained model)\n",
        "    '''\n",
        "    fig, (ax1, ax2, ax3) = plt.subplots(3, sharex=True)\n",
        "    fig.suptitle('Model Results')\n",
        "\n",
        "    # summarize history for accuracy\n",
        "    ax1.plot(history.history['recall'])\n",
        "    ax1.plot(history.history['val_recall'])\n",
        "    ax1.set_ylabel('Recall')\n",
        "    ax1.legend(['train', 'test'], loc='upper left')\n",
        "    # summarize history for loss\n",
        "    ax2.plot(history.history['loss'])\n",
        "    ax2.plot(history.history['val_loss'])\n",
        "    ax2.set_ylabel('Loss')\n",
        "    ax2.legend(['train', 'test'], loc='upper left')\n",
        "    \n",
        "    ax3.plot(history.history['precision'])\n",
        "    ax3.plot(history.history['val_precision'])\n",
        "    ax3.set_ylabel('Precision')\n",
        "    ax3.legend(['train', 'test'], loc='upper left')\n",
        "    \n",
        "    plt.xlabel('Epoch')\n",
        "    plt.show()\n",
        "    pass"
      ],
      "id": "Q0eJIj_VxB49",
      "execution_count": 31,
      "outputs": []
    },
    {
      "cell_type": "code",
      "metadata": {
        "id": "VEABSmW2kiHw",
        "colab": {
          "base_uri": "https://localhost:8080/",
          "height": 308
        },
        "outputId": "b29d2dc1-6105-436c-b77f-8d5a4e803977"
      },
      "source": [
        "visualize_training_results_1(history)"
      ],
      "id": "VEABSmW2kiHw",
      "execution_count": 32,
      "outputs": [
        {
          "output_type": "display_data",
          "data": {
            "image/png": "[encoded data removed]",
            "text/plain": [
              "<Figure size 432x288 with 3 Axes>"
            ]
          },
          "metadata": {
            "tags": [],
            "needs_background": "light"
          }
        }
      ]
    },
    {
      "cell_type": "markdown",
      "metadata": {
        "id": "PVRb3HwlPF0S"
      },
      "source": [
        "# Model 2 #"
      ],
      "id": "PVRb3HwlPF0S"
    },
    {
      "cell_type": "code",
      "metadata": {
        "id": "Ly2YLvg1G7r9"
      },
      "source": [
        "model_2 = Sequential()\n",
        "model_2.add(Conv2D(16, kernel_size=(5,5), padding='valid', input_shape = (224,224,3)))\n",
        "model_2.add(MaxPooling2D(3,3))\n",
        "model_2.add(Dense(32, activation='relu'))\n",
        "model_2.add(Flatten())\n",
        "model_2.add(Dense(128, activation='relu'))\n",
        "model_2.add(LeakyReLU(alpha=(.3)))\n",
        "model_2.add(Dropout(.20))\n",
        "model_2.add(Dense(256, activation='relu'))\n",
        "model_2.add(Dense(1, activation='sigmoid'))"
      ],
      "id": "Ly2YLvg1G7r9",
      "execution_count": 33,
      "outputs": []
    },
    {
      "cell_type": "code",
      "metadata": {
        "id": "DdOdfAZRG7ud",
        "colab": {
          "base_uri": "https://localhost:8080/"
        },
        "outputId": "21d6aec6-97ea-4b6e-f48c-4e942d25d4cd"
      },
      "source": [
        "model_2.summary()"
      ],
      "id": "DdOdfAZRG7ud",
      "execution_count": 34,
      "outputs": [
        {
          "output_type": "stream",
          "text": [
            "Model: \"sequential_1\"\n",
            "_________________________________________________________________\n",
            "Layer (type)                 Output Shape              Param #   \n",
            "=================================================================\n",
            "conv2d_1 (Conv2D)            (None, 220, 220, 16)      1216      \n",
            "_________________________________________________________________\n",
            "max_pooling2d_1 (MaxPooling2 (None, 73, 73, 16)        0         \n",
            "_________________________________________________________________\n",
            "dense_2 (Dense)              (None, 73, 73, 32)        544       \n",
            "_________________________________________________________________\n",
            "flatten_1 (Flatten)          (None, 170528)            0         \n",
            "_________________________________________________________________\n",
            "dense_3 (Dense)              (None, 128)               21827712  \n",
            "_________________________________________________________________\n",
            "leaky_re_lu (LeakyReLU)      (None, 128)               0         \n",
            "_________________________________________________________________\n",
            "dropout (Dropout)            (None, 128)               0         \n",
            "_________________________________________________________________\n",
            "dense_4 (Dense)              (None, 256)               33024     \n",
            "_________________________________________________________________\n",
            "dense_5 (Dense)              (None, 1)                 257       \n",
            "=================================================================\n",
            "Total params: 21,862,753\n",
            "Trainable params: 21,862,753\n",
            "Non-trainable params: 0\n",
            "_________________________________________________________________\n"
          ],
          "name": "stdout"
        }
      ]
    },
    {
      "cell_type": "code",
      "metadata": {
        "id": "b2fnTZD5G7xC"
      },
      "source": [
        "model_2.compile(loss='binary_crossentropy', optimizer='adam', metrics=[Precision(), Recall()])"
      ],
      "id": "b2fnTZD5G7xC",
      "execution_count": 35,
      "outputs": []
    },
    {
      "cell_type": "code",
      "metadata": {
        "id": "5AukokUjG7zc",
        "colab": {
          "base_uri": "https://localhost:8080/"
        },
        "outputId": "d48a0c19-db0b-4d6f-a30f-c10c2de6495f"
      },
      "source": [
        "model_2.fit(\n",
        "    x = train_generator,\n",
        "    validation_data = validation_generator,\n",
        "    batch_size = 20,\n",
        "    epochs = 10\n",
        ")"
      ],
      "id": "5AukokUjG7zc",
      "execution_count": 36,
      "outputs": [
        {
          "output_type": "stream",
          "text": [
            "Epoch 1/10\n",
            "800/800 [==============================] - 217s 270ms/step - loss: 0.6988 - precision_1: 0.5862 - recall_1: 0.5249 - val_loss: 0.6376 - val_precision_1: 0.7606 - val_recall_1: 0.4925\n",
            "Epoch 2/10\n",
            "800/800 [==============================] - 219s 274ms/step - loss: 0.6382 - precision_1: 0.6699 - recall_1: 0.6100 - val_loss: 0.5055 - val_precision_1: 0.8401 - val_recall_1: 0.7750\n",
            "Epoch 3/10\n",
            "800/800 [==============================] - 216s 270ms/step - loss: 0.5281 - precision_1: 0.7661 - recall_1: 0.7475 - val_loss: 0.5396 - val_precision_1: 0.7714 - val_recall_1: 0.6750\n",
            "Epoch 4/10\n",
            "800/800 [==============================] - 215s 269ms/step - loss: 0.4116 - precision_1: 0.8289 - recall_1: 0.8171 - val_loss: 0.4151 - val_precision_1: 0.8779 - val_recall_1: 0.7550\n",
            "Epoch 5/10\n",
            "800/800 [==============================] - 215s 269ms/step - loss: 0.2966 - precision_1: 0.8755 - recall_1: 0.8892 - val_loss: 0.4055 - val_precision_1: 0.8438 - val_recall_1: 0.8375\n",
            "Epoch 6/10\n",
            "800/800 [==============================] - 215s 269ms/step - loss: 0.2151 - precision_1: 0.9086 - recall_1: 0.9262 - val_loss: 0.4771 - val_precision_1: 0.7941 - val_recall_1: 0.8775\n",
            "Epoch 7/10\n",
            "800/800 [==============================] - 215s 269ms/step - loss: 0.1604 - precision_1: 0.9307 - recall_1: 0.9500 - val_loss: 0.5086 - val_precision_1: 0.8563 - val_recall_1: 0.7300\n",
            "Epoch 8/10\n",
            "800/800 [==============================] - 216s 270ms/step - loss: 0.1231 - precision_1: 0.9479 - recall_1: 0.9650 - val_loss: 0.4918 - val_precision_1: 0.8300 - val_recall_1: 0.8300\n",
            "Epoch 9/10\n",
            "800/800 [==============================] - 216s 271ms/step - loss: 0.1036 - precision_1: 0.9557 - recall_1: 0.9732 - val_loss: 0.5168 - val_precision_1: 0.8653 - val_recall_1: 0.7550\n",
            "Epoch 10/10\n",
            "800/800 [==============================] - 217s 272ms/step - loss: 0.0813 - precision_1: 0.9642 - recall_1: 0.9808 - val_loss: 0.6815 - val_precision_1: 0.8723 - val_recall_1: 0.7175\n"
          ],
          "name": "stdout"
        },
        {
          "output_type": "execute_result",
          "data": {
            "text/plain": [
              "<tensorflow.python.keras.callbacks.History at 0x7fe528097c10>"
            ]
          },
          "metadata": {
            "tags": []
          },
          "execution_count": 36
        }
      ]
    },
    {
      "cell_type": "code",
      "metadata": {
        "id": "AzcEdAZSOXye"
      },
      "source": [
        "preds_train_2 = model_2.predict(train_generator)\n",
        "preds_val_2 = model_2.predict(validation_generator)"
      ],
      "id": "AzcEdAZSOXye",
      "execution_count": 37,
      "outputs": []
    },
    {
      "cell_type": "code",
      "metadata": {
        "id": "T9D_H0hjOYkE",
        "colab": {
          "base_uri": "https://localhost:8080/"
        },
        "outputId": "098481bf-c14d-4d97-ca4b-df395957c8dc"
      },
      "source": [
        "model_metrics = model_2.evaluate(validation_generator)\n",
        "model_metrics"
      ],
      "id": "T9D_H0hjOYkE",
      "execution_count": 38,
      "outputs": [
        {
          "output_type": "stream",
          "text": [
            "40/40 [==============================] - 11s 267ms/step - loss: 0.6756 - precision_1: 0.8693 - recall_1: 0.7150\n"
          ],
          "name": "stdout"
        },
        {
          "output_type": "execute_result",
          "data": {
            "text/plain": [
              "[0.675639271736145, 0.869300901889801, 0.7149999737739563]"
            ]
          },
          "metadata": {
            "tags": []
          },
          "execution_count": 38
        }
      ]
    },
    {
      "cell_type": "code",
      "metadata": {
        "id": "XPZcvMmFOYnQ"
      },
      "source": [
        "perf_df = pd.DataFrame(columns=['model', 'loss', 'precision', 'recall'])\n",
        "perf_df.loc[len(perf_df.index)] = ['model'] + model_metrics"
      ],
      "id": "XPZcvMmFOYnQ",
      "execution_count": 39,
      "outputs": []
    },
    {
      "cell_type": "code",
      "metadata": {
        "id": "iEgti_-yOYqq",
        "colab": {
          "base_uri": "https://localhost:8080/",
          "height": 295
        },
        "outputId": "e74c910c-63d6-4aaf-9c3d-0463247db3e6"
      },
      "source": [
        "plot_confusion_matrix(train_generator.labels, np.rint(preds_train_2))"
      ],
      "id": "iEgti_-yOYqq",
      "execution_count": 40,
      "outputs": [
        {
          "output_type": "display_data",
          "data": {
            "image/png": "[encoded data removed]",
            "text/plain": [
              "<Figure size 432x288 with 2 Axes>"
            ]
          },
          "metadata": {
            "tags": [],
            "needs_background": "light"
          }
        }
      ]
    },
    {
      "cell_type": "code",
      "metadata": {
        "id": "Y-f-2y1IsCV-"
      },
      "source": [
        ""
      ],
      "id": "Y-f-2y1IsCV-",
      "execution_count": 41,
      "outputs": []
    },
    {
      "cell_type": "code",
      "metadata": {
        "id": "Xcse3zpWsCZE"
      },
      "source": [
        "def visualize_training_results(history, iteration):\n",
        "    '''\n",
        "    From https://machinelearningmastery.com/display-deep-learning-model-training-history-in-keras/\n",
        "    \n",
        "    Input: keras history object (output from trained model)\n",
        "    '''\n",
        "    fig, (ax1, ax2, ax3) = plt.subplots(3, sharex=True)\n",
        "    fig.suptitle('Model Results')\n",
        "\n",
        "    # summarize history for accuracy\n",
        "    ax1.plot(history.history['recall_{}'.format(iteration)])\n",
        "    ax1.plot(history.history['val_recall_{}'.format(iteration)])\n",
        "    ax1.set_ylabel('Recall')\n",
        "    ax1.legend(['train', 'test'], loc='upper left')\n",
        "    # summarize history for loss\n",
        "    ax2.plot(history.history['loss'])\n",
        "    ax2.plot(history.history['val_loss'])\n",
        "    ax2.set_ylabel('Loss')\n",
        "    ax2.legend(['train', 'test'], loc='upper left')\n",
        "    \n",
        "    ax3.plot(history.history['precision_{}'.format(iteration)])\n",
        "    ax3.plot(history.history['val_precision_{}'.format(iteration)])\n",
        "    ax3.set_ylabel('Precision')\n",
        "    ax3.legend(['train', 'test'], loc='upper left')\n",
        "    \n",
        "    plt.xlabel('Epoch')\n",
        "    plt.show()\n",
        "    pass"
      ],
      "id": "Xcse3zpWsCZE",
      "execution_count": 42,
      "outputs": []
    },
    {
      "cell_type": "code",
      "metadata": {
        "id": "OcY2JC2uuk1D",
        "colab": {
          "base_uri": "https://localhost:8080/",
          "height": 560
        },
        "outputId": "03cd8b33-a747-45f7-cd32-75cd640546a3"
      },
      "source": [
        "visualize_training_results(model_2.history, 1)"
      ],
      "id": "OcY2JC2uuk1D",
      "execution_count": 47,
      "outputs": [
        {
          "output_type": "error",
          "ename": "KeyError",
          "evalue": "ignored",
          "traceback": [
            "\u001b[0;31m---------------------------------------------------------------------------\u001b[0m",
            "\u001b[0;31mKeyError\u001b[0m                                  Traceback (most recent call last)",
            "\u001b[0;32m<ipython-input-47-1a9d5f49cb51>\u001b[0m in \u001b[0;36m<module>\u001b[0;34m()\u001b[0m\n\u001b[0;32m----> 1\u001b[0;31m \u001b[0mvisualize_training_results\u001b[0m\u001b[0;34m(\u001b[0m\u001b[0mmodel_2\u001b[0m\u001b[0;34m.\u001b[0m\u001b[0mhistory\u001b[0m\u001b[0;34m,\u001b[0m \u001b[0;34m'1'\u001b[0m\u001b[0;34m)\u001b[0m\u001b[0;34m\u001b[0m\u001b[0;34m\u001b[0m\u001b[0m\n\u001b[0m",
            "\u001b[0;32m<ipython-input-42-188bc4904b75>\u001b[0m in \u001b[0;36mvisualize_training_results\u001b[0;34m(history, iteration)\u001b[0m\n\u001b[1;32m      9\u001b[0m \u001b[0;34m\u001b[0m\u001b[0m\n\u001b[1;32m     10\u001b[0m     \u001b[0;31m# summarize history for accuracy\u001b[0m\u001b[0;34m\u001b[0m\u001b[0;34m\u001b[0m\u001b[0;34m\u001b[0m\u001b[0m\n\u001b[0;32m---> 11\u001b[0;31m     \u001b[0max1\u001b[0m\u001b[0;34m.\u001b[0m\u001b[0mplot\u001b[0m\u001b[0;34m(\u001b[0m\u001b[0mhistory\u001b[0m\u001b[0;34m.\u001b[0m\u001b[0mhistory\u001b[0m\u001b[0;34m[\u001b[0m\u001b[0;34m'recall_{}'\u001b[0m\u001b[0;34m.\u001b[0m\u001b[0mformat\u001b[0m\u001b[0;34m(\u001b[0m\u001b[0miteration\u001b[0m\u001b[0;34m)\u001b[0m\u001b[0;34m]\u001b[0m\u001b[0;34m)\u001b[0m\u001b[0;34m\u001b[0m\u001b[0;34m\u001b[0m\u001b[0m\n\u001b[0m\u001b[1;32m     12\u001b[0m     \u001b[0max1\u001b[0m\u001b[0;34m.\u001b[0m\u001b[0mplot\u001b[0m\u001b[0;34m(\u001b[0m\u001b[0mhistory\u001b[0m\u001b[0;34m.\u001b[0m\u001b[0mhistory\u001b[0m\u001b[0;34m[\u001b[0m\u001b[0;34m'val_recall_{}'\u001b[0m\u001b[0;34m.\u001b[0m\u001b[0mformat\u001b[0m\u001b[0;34m(\u001b[0m\u001b[0miteration\u001b[0m\u001b[0;34m)\u001b[0m\u001b[0;34m]\u001b[0m\u001b[0;34m)\u001b[0m\u001b[0;34m\u001b[0m\u001b[0;34m\u001b[0m\u001b[0m\n\u001b[1;32m     13\u001b[0m     \u001b[0max1\u001b[0m\u001b[0;34m.\u001b[0m\u001b[0mset_ylabel\u001b[0m\u001b[0;34m(\u001b[0m\u001b[0;34m'Recall'\u001b[0m\u001b[0;34m)\u001b[0m\u001b[0;34m\u001b[0m\u001b[0;34m\u001b[0m\u001b[0m\n",
            "\u001b[0;31mKeyError\u001b[0m: 'recall_1'"
          ]
        },
        {
          "output_type": "display_data",
          "data": {
            "image/png": "[encoded data removed]",
            "text/plain": [
              "<Figure size 432x288 with 3 Axes>"
            ]
          },
          "metadata": {
            "tags": [],
            "needs_background": "light"
          }
        }
      ]
    },
    {
      "cell_type": "markdown",
      "metadata": {
        "id": "dz-HEZooQg9w"
      },
      "source": [
        "# Model 3 #"
      ],
      "id": "dz-HEZooQg9w"
    },
    {
      "cell_type": "code",
      "metadata": {
        "id": "Bzs5txCruk9f"
      },
      "source": [
        "model_3 = Sequential()\n",
        "model_3.add(Conv2D(256, kernel_size=(10,10), activation='relu', input_shape = (224,224,3)))\n",
        "model_3.add(MaxPooling2D(7,7))\n",
        "model_3.add(Dense(256, activation='relu'))\n",
        "model_3.add(Conv2D(128, kernel_size=(7,7), activation='relu'))\n",
        "model_3.add(MaxPooling2D(5,5))\n",
        "model_3.add(Dense(64))\n",
        "model_3.add(Flatten())\n",
        "model_3.add(Dropout(.15))\n",
        "model_3.add(Dense(512,activation='relu'))\n",
        "model_3.add(LeakyReLU(alpha=.2))\n",
        "model_3.add(Dropout(.15))\n",
        "model_3.add(Dense(512, activation='relu'))\n",
        "model_3.add(Dense(1, activation='sigmoid'))"
      ],
      "id": "Bzs5txCruk9f",
      "execution_count": 48,
      "outputs": []
    },
    {
      "cell_type": "code",
      "metadata": {
        "id": "CrpyaqVlulXA",
        "colab": {
          "base_uri": "https://localhost:8080/"
        },
        "outputId": "84cb3276-77a8-4100-dc60-4890317b63dc"
      },
      "source": [
        "model_3.summary()"
      ],
      "id": "CrpyaqVlulXA",
      "execution_count": 49,
      "outputs": [
        {
          "output_type": "stream",
          "text": [
            "Model: \"sequential_2\"\n",
            "_________________________________________________________________\n",
            "Layer (type)                 Output Shape              Param #   \n",
            "=================================================================\n",
            "conv2d_2 (Conv2D)            (None, 215, 215, 256)     77056     \n",
            "_________________________________________________________________\n",
            "max_pooling2d_2 (MaxPooling2 (None, 30, 30, 256)       0         \n",
            "_________________________________________________________________\n",
            "dense_6 (Dense)              (None, 30, 30, 256)       65792     \n",
            "_________________________________________________________________\n",
            "conv2d_3 (Conv2D)            (None, 24, 24, 128)       1605760   \n",
            "_________________________________________________________________\n",
            "max_pooling2d_3 (MaxPooling2 (None, 4, 4, 128)         0         \n",
            "_________________________________________________________________\n",
            "dense_7 (Dense)              (None, 4, 4, 64)          8256      \n",
            "_________________________________________________________________\n",
            "flatten_2 (Flatten)          (None, 1024)              0         \n",
            "_________________________________________________________________\n",
            "dropout_1 (Dropout)          (None, 1024)              0         \n",
            "_________________________________________________________________\n",
            "dense_8 (Dense)              (None, 512)               524800    \n",
            "_________________________________________________________________\n",
            "leaky_re_lu_1 (LeakyReLU)    (None, 512)               0         \n",
            "_________________________________________________________________\n",
            "dropout_2 (Dropout)          (None, 512)               0         \n",
            "_________________________________________________________________\n",
            "dense_9 (Dense)              (None, 512)               262656    \n",
            "_________________________________________________________________\n",
            "dense_10 (Dense)             (None, 1)                 513       \n",
            "=================================================================\n",
            "Total params: 2,544,833\n",
            "Trainable params: 2,544,833\n",
            "Non-trainable params: 0\n",
            "_________________________________________________________________\n"
          ],
          "name": "stdout"
        }
      ]
    },
    {
      "cell_type": "code",
      "metadata": {
        "id": "aSMRL0kBRpEW"
      },
      "source": [
        "model_3.compile(loss='binary_crossentropy', optimizer='adam', metrics=[Precision(), Recall()])"
      ],
      "id": "aSMRL0kBRpEW",
      "execution_count": 50,
      "outputs": []
    },
    {
      "cell_type": "code",
      "metadata": {
        "id": "WJluWp21SHHG",
        "colab": {
          "base_uri": "https://localhost:8080/"
        },
        "outputId": "187448a8-9550-471b-8a7e-f8450b67be29"
      },
      "source": [
        "model_3.fit(x=train_generator,\n",
        "            validation_data = validation_generator,\n",
        "            epochs=10)"
      ],
      "id": "WJluWp21SHHG",
      "execution_count": 51,
      "outputs": [
        {
          "output_type": "stream",
          "text": [
            "Epoch 1/10\n",
            "800/800 [==============================] - 223s 277ms/step - loss: 0.6945 - precision_2: 0.4965 - recall_2: 0.3506 - val_loss: 0.6932 - val_precision_2: 0.0000e+00 - val_recall_2: 0.0000e+00\n",
            "Epoch 2/10\n",
            "800/800 [==============================] - 221s 276ms/step - loss: 0.6934 - precision_2: 0.5008 - recall_2: 0.3325 - val_loss: 0.6934 - val_precision_2: 0.5000 - val_recall_2: 1.0000\n",
            "Epoch 3/10\n",
            "800/800 [==============================] - 220s 275ms/step - loss: 0.6935 - precision_2: 0.4923 - recall_2: 0.5437 - val_loss: 0.6932 - val_precision_2: 0.0000e+00 - val_recall_2: 0.0000e+00\n",
            "Epoch 4/10\n",
            "800/800 [==============================] - 220s 276ms/step - loss: 0.6932 - precision_2: 0.5056 - recall_2: 0.4755 - val_loss: 0.6933 - val_precision_2: 0.0000e+00 - val_recall_2: 0.0000e+00\n",
            "Epoch 5/10\n",
            "800/800 [==============================] - 221s 276ms/step - loss: 0.6932 - precision_2: 0.5013 - recall_2: 0.3501 - val_loss: 0.6932 - val_precision_2: 0.5000 - val_recall_2: 1.0000\n",
            "Epoch 6/10\n",
            "800/800 [==============================] - 221s 276ms/step - loss: 0.6932 - precision_2: 0.5023 - recall_2: 0.7799 - val_loss: 0.6934 - val_precision_2: 0.0000e+00 - val_recall_2: 0.0000e+00\n",
            "Epoch 7/10\n",
            "800/800 [==============================] - 221s 277ms/step - loss: 0.6933 - precision_2: 0.4858 - recall_2: 0.3243 - val_loss: 0.6932 - val_precision_2: 0.0000e+00 - val_recall_2: 0.0000e+00\n",
            "Epoch 8/10\n",
            "800/800 [==============================] - 221s 276ms/step - loss: 0.6932 - precision_2: 0.5019 - recall_2: 0.3046 - val_loss: 0.6932 - val_precision_2: 0.5000 - val_recall_2: 1.0000\n",
            "Epoch 9/10\n",
            "800/800 [==============================] - 221s 276ms/step - loss: 0.6932 - precision_2: 0.5000 - recall_2: 0.7186 - val_loss: 0.6932 - val_precision_2: 0.0000e+00 - val_recall_2: 0.0000e+00\n",
            "Epoch 10/10\n",
            "800/800 [==============================] - 221s 276ms/step - loss: 0.6932 - precision_2: 0.4950 - recall_2: 0.4257 - val_loss: 0.6932 - val_precision_2: 0.5000 - val_recall_2: 1.0000\n"
          ],
          "name": "stdout"
        },
        {
          "output_type": "execute_result",
          "data": {
            "text/plain": [
              "<tensorflow.python.keras.callbacks.History at 0x7fe45ff8dcd0>"
            ]
          },
          "metadata": {
            "tags": []
          },
          "execution_count": 51
        }
      ]
    },
    {
      "cell_type": "code",
      "metadata": {
        "id": "3riwWNecSHJW"
      },
      "source": [
        ""
      ],
      "id": "3riwWNecSHJW",
      "execution_count": null,
      "outputs": []
    },
    {
      "cell_type": "code",
      "metadata": {
        "id": "5gJxJKV3SHLl"
      },
      "source": [
        ""
      ],
      "id": "5gJxJKV3SHLl",
      "execution_count": null,
      "outputs": []
    },
    {
      "cell_type": "markdown",
      "metadata": {
        "id": "6d6af51a"
      },
      "source": [
        "As per the documentation of the dataset it appears that the images in the zenodo dataset are 224x224 pixels. The dataset in the kaggle dataset are 768x768. IN this case we will make the 224x224 size standard accross all images."
      ],
      "id": "6d6af51a"
    }
  ]
}