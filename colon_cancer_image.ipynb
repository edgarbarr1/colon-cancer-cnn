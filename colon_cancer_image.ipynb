{
  "nbformat": 4,
  "nbformat_minor": 5,
  "metadata": {
    "accelerator": "GPU",
    "colab": {
      "name": "colon cancer image",
      "provenance": [],
      "collapsed_sections": [
        "b6eb164b",
        "PVRb3HwlPF0S",
        "dz-HEZooQg9w"
      ],
      "machine_shape": "hm",
      "include_colab_link": true
    },
    "kernelspec": {
      "display_name": "Python 3",
      "language": "python",
      "name": "python3"
    },
    "language_info": {
      "codemirror_mode": {
        "name": "ipython",
        "version": 3
      },
      "file_extension": ".py",
      "mimetype": "text/x-python",
      "name": "python",
      "nbconvert_exporter": "python",
      "pygments_lexer": "ipython3",
      "version": "3.7.10"
    }
  },
  "cells": [
    {
      "cell_type": "markdown",
      "metadata": {
        "id": "view-in-github",
        "colab_type": "text"
      },
      "source": [
        "<a href=\"https://colab.research.google.com/github/edgarbarr1/colon-cancer-cnn/blob/main/colon_cancer_image.ipynb\" target=\"_parent\"><img src=\"https://colab.research.google.com/assets/colab-badge.svg\" alt=\"Open In Colab\"/></a>"
      ]
    },
    {
      "cell_type": "markdown",
      "metadata": {
        "id": "1b304e1a"
      },
      "source": [
        "# Colon Cancer #\n",
        "### _Predicting the outcomes of colon cells to predict cancer_ ###\n",
        "\n",
        "### Business Understanding ###\n",
        "Colon cancer has been deemed the number 3 most common cancer in the world, according to the World Cancer Research Fund. Based on this statistic, it is not a surprise to know that more approximately 19 million colonoscopies are perfeormed each year in the United States.\n",
        "\n",
        "Some experts believe that some of the main causes of this cancer is the Western food diet along with living a sedentary lifestyle as well as being obese. Unfortunately, according to the CDC, the US appears to be on an upward trend in obesity which in turn increses the likelihood of men and women to develop colorectal cancers.\n",
        "\n",
        "Although the morttality rate for the most part appears to be relatively low (80% survival rate), it is important to note that like everything, there is always something to improve with either accurate test results, the time it takes to report those results and the resources available to compile said results.\n",
        "\n",
        "Currently, as per the American Cancer Society, it takes 2-3 days to report the findings of a colonoscopy biopsy.\n",
        "\n",
        "Objective\n",
        "This notebook has the objective of finding out the population that is deeply affected by colon cancer and build a Convolutional Neural Network that can get close to the 1-2% accuracy that current tests. We will also strive to have an efficient model that can give accurate results faster than 2-3 days and ideally within the time frame of \"same-day\" results.\n",
        "\n",
        "Before doing so, we will look at some mortality rates among different populations and determine whether the economic status of a population affects the mortality rate of colon cancer.\n",
        "\n"
      ],
      "id": "1b304e1a"
    },
    {
      "cell_type": "code",
      "metadata": {
        "id": "f9116373"
      },
      "source": [
        "import pandas as pd\n",
        "import numpy as np\n",
        "import os\n",
        "import matplotlib.pyplot as plt\n",
        "import cv2\n",
        "import random\n",
        "\n",
        "import PIL\n",
        "import PIL.Image\n",
        "import pathlib\n",
        "# Packages to import and preprocess images\n",
        "import glob\n",
        "import random\n",
        "import shutil\n",
        "import tensorflow as tf\n",
        "from tensorflow.keras.preprocessing.image import ImageDataGenerator\n",
        "from google.colab import drive\n",
        "\n",
        "# Packages for our models\n",
        "from tensorflow.keras.models import Sequential\n",
        "from tensorflow.keras.layers import Activation, Dense, Flatten, Conv2D, MaxPooling2D, LeakyReLU\n",
        "from sklearn.metrics import confusion_matrix\n",
        "from keras.callbacks import EarlyStopping\n",
        "from tensorflow.keras.metrics import Precision, Recall\n",
        "from tensorflow.keras.layers import Dropout\n",
        "import seaborn as sns\n",
        "\n",
        "# Model performance\n",
        "from tensorflow.keras.callbacks import EarlyStopping\n",
        "\n",
        "%matplotlib inline"
      ],
      "id": "f9116373",
      "execution_count": null,
      "outputs": []
    },
    {
      "cell_type": "code",
      "metadata": {
        "colab": {
          "base_uri": "https://localhost:8080/"
        },
        "id": "aIjBG7g1iuDj",
        "outputId": "19bf125d-fb1b-43de-ab5b-13e6d0ba10ae"
      },
      "source": [
        "drive.mount('/content/drive')"
      ],
      "id": "aIjBG7g1iuDj",
      "execution_count": null,
      "outputs": [
        {
          "output_type": "stream",
          "text": [
            "Mounted at /content/drive\n"
          ],
          "name": "stdout"
        }
      ]
    },
    {
      "cell_type": "code",
      "metadata": {
        "colab": {
          "base_uri": "https://localhost:8080/"
        },
        "id": "bbd1156b",
        "outputId": "626bbe60-e6fa-42d2-eba8-045525f986ce"
      },
      "source": [
        "print(tf.__version__)"
      ],
      "id": "bbd1156b",
      "execution_count": null,
      "outputs": [
        {
          "output_type": "stream",
          "text": [
            "2.5.0\n"
          ],
          "name": "stdout"
        }
      ]
    },
    {
      "cell_type": "markdown",
      "metadata": {
        "id": "c81a4495"
      },
      "source": [
        "Deleted all folders from zenodo except NORM which is normal and TUM which is the cancer cells"
      ],
      "id": "c81a4495"
    },
    {
      "cell_type": "markdown",
      "metadata": {
        "id": "e778f70c"
      },
      "source": [
        "Inspiration for the function in the creation of the [directories](https://www.youtube.com/watch?v=_L2uYfVV48I)"
      ],
      "id": "e778f70c"
    },
    {
      "cell_type": "markdown",
      "metadata": {
        "id": "f3b87c4b"
      },
      "source": [
        "In order to have class balance in the dataset we will be using a total of 24,000 images for our model training, 1,800 items for the validation, and 1,720 images for our test dataset to generate predictions. This brings our total of images used to 27,520 images used in this Convolutional Neural Network."
      ],
      "id": "f3b87c4b"
    },
    {
      "cell_type": "code",
      "metadata": {
        "id": "21OZVddtFmmZ"
      },
      "source": [
        "# PIL.Image.open('/content/drive/MyDrive/colon_dataset/NCT-CRC-HE-100K/NORM/NORM-AAAKGLVQ.tif')"
      ],
      "id": "21OZVddtFmmZ",
      "execution_count": null,
      "outputs": []
    },
    {
      "cell_type": "code",
      "metadata": {
        "id": "Ibm97lLLlaME"
      },
      "source": [
        "# os.listdir()"
      ],
      "id": "Ibm97lLLlaME",
      "execution_count": null,
      "outputs": []
    },
    {
      "cell_type": "code",
      "metadata": {
        "id": "jyLRIKjumsaO"
      },
      "source": [
        "# normal_image_count = len(list(glob.glob('/content/drive/MyDrive/colon_dataset/NCT-CRC-HE-100K/NORM/*.tif')))\n",
        "# cancer_image_count = len(list(glob.glob('/content/drive/MyDrive/colon_dataset/NCT-CRC-HE-100K/TUM/*.tif')))\n",
        "# print('Normal images: {}'.format(normal_image_count))\n",
        "# print('Cancer images: {}'.format(cancer_image_count))"
      ],
      "id": "jyLRIKjumsaO",
      "execution_count": null,
      "outputs": []
    },
    {
      "cell_type": "markdown",
      "metadata": {
        "id": "syF6mGXZkQFy"
      },
      "source": [
        "The images in the dataset are in TIF format. Let's convert the images into jpegs."
      ],
      "id": "syF6mGXZkQFy"
    },
    {
      "cell_type": "code",
      "metadata": {
        "id": "ZjZTTwbskGaq"
      },
      "source": [
        "# ell to convert the TIF images to jpeg\n",
        "\n",
        "# paths = ['/content/drive/MyDrive/colon_dataset/NCT-CRC-HE-100K/NORM',\n",
        "#          '/content/drive/MyDrive/colon_dataset/NCT-CRC-HE-100K/TUM']\n",
        "# for path in paths:\n",
        "#   for root, dirs, files in os.walk(path, topdown=False,):\n",
        "#       for name in files:\n",
        "#           print(os.path.join(root, name))\n",
        "#           #if os.path.splitext(os.path.join(root, name))[1].lower() == \".tiff\":\n",
        "#           if os.path.splitext(os.path.join(root, name))[1].lower() == \".tif\":\n",
        "#               if os.path.isfile(os.path.splitext(os.path.join(root, name))[0] + \".jpg\"):\n",
        "#                   print (\"A jpeg file already exists for %s\" % name)\n",
        "#               # If a jpeg with the name does *NOT* exist, convert one from the tif.\n",
        "#               else:\n",
        "#                   outputfile = os.path.splitext(os.path.join(root, name))[0] + \".jpg\"\n",
        "#                   try:\n",
        "#                       im = PIL.Image.open(os.path.join(root, name))\n",
        "#                       print (\"Converting jpeg for %s\" % name)\n",
        "#                       im.thumbnail(im.size)\n",
        "#                       im.save(outputfile, \"JPEG\", quality=100)\n",
        "#                   except Exception as e: \n",
        "#                     print(e)"
      ],
      "id": "ZjZTTwbskGaq",
      "execution_count": null,
      "outputs": []
    },
    {
      "cell_type": "markdown",
      "metadata": {
        "id": "dtVCWaN3Lknz"
      },
      "source": [
        "# Jpegs have been converted. Now separate into subdirectories."
      ],
      "id": "dtVCWaN3Lknz"
    },
    {
      "cell_type": "markdown",
      "metadata": {
        "id": "ArRWuyW8ZVSk"
      },
      "source": [
        "Now let's divide the images into subdirecotiries."
      ],
      "id": "ArRWuyW8ZVSk"
    },
    {
      "cell_type": "code",
      "metadata": {
        "id": "wsbi5eR-I3Z4"
      },
      "source": [
        "# os.chdir('drive/MyDrive/colon_dataset')"
      ],
      "id": "wsbi5eR-I3Z4",
      "execution_count": null,
      "outputs": []
    },
    {
      "cell_type": "code",
      "metadata": {
        "id": "PerdFhSOI85c"
      },
      "source": [
        "# os.listdir()"
      ],
      "id": "PerdFhSOI85c",
      "execution_count": null,
      "outputs": []
    },
    {
      "cell_type": "code",
      "metadata": {
        "id": "317f608b"
      },
      "source": [
        "# Makes the subdirecoteries for the training, validation, and testing data.\n",
        "# if os.path.isdir('train/normal') is False:\n",
        "#     os.makedirs('train/normal')\n",
        "#     os.makedirs('train/cancer')\n",
        "#     os.makedirs('validation/normal')\n",
        "#     os.makedirs('validation/cancer')\n",
        "#     os.makedirs('test/')"
      ],
      "id": "317f608b",
      "execution_count": null,
      "outputs": []
    },
    {
      "cell_type": "markdown",
      "metadata": {
        "id": "4mptET7qZulj"
      },
      "source": [
        "Currently we have Tif and jpeg duplicates in our directory. Now we will move the jpeg images to the newly created directories."
      ],
      "id": "4mptET7qZulj"
    },
    {
      "cell_type": "code",
      "metadata": {
        "id": "jIeZcNn6KQuv"
      },
      "source": [
        "# Run this code to move the images from the original dataset directory to the newly created dataset that the model will read.\n",
        "# for image in random.sample(glob.glob('/content/drive/MyDrive/colon_dataset/NCT-CRC-HE-100K/NORM/*.jpg'), 8000):\n",
        "#   shutil.move(image, '/content/drive/MyDrive/colon_dataset/train/normal/')\n",
        "\n",
        "\n",
        "# for image in random.sample(glob.glob('/content/drive/MyDrive/colon_dataset/NCT-CRC-HE-100K/TUM/*.jpg'), 8000):\n",
        "#   shutil.move(image, '/content/drive/MyDrive/colon_dataset/train/cancer/')\n",
        "\n",
        "\n",
        "# for image in random.sample(glob.glob('/content/drive/MyDrive/colon_dataset/NCT-CRC-HE-100K/NORM/*.jpg'), 400):\n",
        "#   shutil.move(image, '/content/drive/MyDrive/colon_dataset/validation/normal/')\n",
        "\n",
        "\n",
        "# for image in random.sample(glob.glob('/content/drive/MyDrive/colon_dataset/NCT-CRC-HE-100K/TUM/*.jpg'), 400):\n",
        "#   shutil.move(image, '/content/drive/MyDrive/colon_dataset/validation/cancer/')\n",
        "\n",
        "\n",
        "# for image in random.sample(glob.glob('/content/drive/MyDrive/colon_dataset/NCT-CRC-HE-100K/NORM/*.jpg'), 360):\n",
        "#   shutil.move(image, '/content/drive/MyDrive/colon_dataset/test/')\n",
        "\n",
        "\n",
        "# for image in random.sample(glob.glob('/content/drive/MyDrive/colon_dataset/NCT-CRC-HE-100K/TUM/*.jpg'), 360):\n",
        "#   shutil.move(image, '/content/drive/MyDrive/colon_dataset/test/')"
      ],
      "id": "jIeZcNn6KQuv",
      "execution_count": null,
      "outputs": []
    },
    {
      "cell_type": "code",
      "metadata": {
        "id": "fawpQmtgsm4o"
      },
      "source": [
        "# current_path_list = ['/content/drive/MyDrive/colon_dataset/validation',\n",
        "#                      '/content/drive/MyDrive/colon_dataset/test',\n",
        "#                      '/content/drive/MyDrive/colon_dataset/train']"
      ],
      "id": "fawpQmtgsm4o",
      "execution_count": null,
      "outputs": []
    },
    {
      "cell_type": "markdown",
      "metadata": {
        "id": "rtNqYMuWeIMt"
      },
      "source": [
        "# Image Data Generator #"
      ],
      "id": "rtNqYMuWeIMt"
    },
    {
      "cell_type": "markdown",
      "metadata": {
        "id": "hrjYntT5wlRo"
      },
      "source": [
        ""
      ],
      "id": "hrjYntT5wlRo"
    },
    {
      "cell_type": "code",
      "metadata": {
        "id": "EmxTqUstUJTy"
      },
      "source": [
        "data_gen = ImageDataGenerator(\n",
        "    rescale = 1./255,\n",
        "    zoom_range = (0.85,1),\n",
        "    brightness_range = [0.5, 1.0],\n",
        "    horizontal_flip = True,\n",
        "    rotation_range = 45\n",
        ")\n",
        "\n",
        "valid_data_gen = ImageDataGenerator(\n",
        "    rescale = 1./255\n",
        ")"
      ],
      "id": "EmxTqUstUJTy",
      "execution_count": null,
      "outputs": []
    },
    {
      "cell_type": "code",
      "metadata": {
        "colab": {
          "base_uri": "https://localhost:8080/"
        },
        "id": "rL7yGbVjUJWR",
        "outputId": "0293ad0f-5f09-4e07-f85c-365ed1d8e756"
      },
      "source": [
        "train_generator = data_gen.flow_from_directory(\n",
        "    '/content/drive/MyDrive/colon_dataset/train',\n",
        "    target_size = (224,224),\n",
        "    batch_size = 10,\n",
        "    color_mode = 'rgb',\n",
        "    shuffle = True,\n",
        "    class_mode = 'binary',\n",
        "    seed = 20\n",
        ")\n",
        "validation_generator = valid_data_gen.flow_from_directory(\n",
        "    '/content/drive/MyDrive/colon_dataset/validation',\n",
        "    target_size = (224,224),\n",
        "    batch_size = 10,\n",
        "    color_mode = 'rgb',\n",
        "    shuffle = True,\n",
        "    class_mode = 'binary',\n",
        "    seed = 20\n",
        ")"
      ],
      "id": "rL7yGbVjUJWR",
      "execution_count": null,
      "outputs": [
        {
          "output_type": "stream",
          "text": [
            "Found 16000 images belonging to 2 classes.\n",
            "Found 800 images belonging to 2 classes.\n"
          ],
          "name": "stdout"
        }
      ]
    },
    {
      "cell_type": "markdown",
      "metadata": {
        "id": "hLxqaKXjjhgG"
      },
      "source": [
        "# DataFrame to Save Model results"
      ],
      "id": "hLxqaKXjjhgG"
    },
    {
      "cell_type": "code",
      "metadata": {
        "id": "mphy3lNjjgXK"
      },
      "source": [
        "performance_df = pd.DataFrame()"
      ],
      "id": "mphy3lNjjgXK",
      "execution_count": null,
      "outputs": []
    },
    {
      "cell_type": "markdown",
      "metadata": {
        "id": "z1nt_pQslUqd"
      },
      "source": [
        "# Definining Callbacks"
      ],
      "id": "z1nt_pQslUqd"
    },
    {
      "cell_type": "code",
      "metadata": {
        "id": "3vUFS3hclTqi"
      },
      "source": [
        "early_stop = EarlyStopping(monitor='val_loss', patience=2,\n",
        "                           mode='auto')"
      ],
      "id": "3vUFS3hclTqi",
      "execution_count": null,
      "outputs": []
    },
    {
      "cell_type": "markdown",
      "metadata": {
        "id": "b6eb164b"
      },
      "source": [
        "# Model 1 #"
      ],
      "id": "b6eb164b"
    },
    {
      "cell_type": "markdown",
      "metadata": {
        "id": "vd3FpAu7C-TC"
      },
      "source": [
        ""
      ],
      "id": "vd3FpAu7C-TC"
    },
    {
      "cell_type": "markdown",
      "metadata": {
        "id": "-ycD3pq5C-Vb"
      },
      "source": [
        "Let's create our first model based on the data generator that we created above.\n",
        "\n",
        "Our first model will be a rather simple one with the following layers:\n",
        "\n",
        "\n",
        "\n",
        "\n",
        "1.   A convolutional layer with a (10,10) kernel size or the height and width of our convolutional window.\n",
        "2.   A Max Pooling Layer that with a height and width of (5,5).\n",
        "1.   A Dense Layer with a 64 output size\n",
        "2.  \n",
        "\n",
        "\n",
        "\n",
        "\n",
        "\n",
        "\n",
        "\n",
        "\n"
      ],
      "id": "-ycD3pq5C-Vb"
    },
    {
      "cell_type": "code",
      "metadata": {
        "id": "a83a3761"
      },
      "source": [
        "model = Sequential()\n",
        "model.add(Conv2D(32, kernel_size=(2,2), activation='relu', padding='same', input_shape = (224,224,3)))\n",
        "model.add(MaxPooling2D(2,2))\n",
        "model.add(Flatten())\n",
        "model.add(Dense(32, activation='relu'))\n",
        "model.add(Dense(1, activation='sigmoid'))"
      ],
      "id": "a83a3761",
      "execution_count": null,
      "outputs": []
    },
    {
      "cell_type": "code",
      "metadata": {
        "colab": {
          "base_uri": "https://localhost:8080/"
        },
        "id": "8b024ebc",
        "outputId": "5632817a-5c01-437d-90a2-010c417d73ff"
      },
      "source": [
        "model.summary()"
      ],
      "id": "8b024ebc",
      "execution_count": null,
      "outputs": [
        {
          "output_type": "stream",
          "text": [
            "Model: \"sequential\"\n",
            "_________________________________________________________________\n",
            "Layer (type)                 Output Shape              Param #   \n",
            "=================================================================\n",
            "conv2d (Conv2D)              (None, 224, 224, 32)      416       \n",
            "_________________________________________________________________\n",
            "max_pooling2d (MaxPooling2D) (None, 112, 112, 32)      0         \n",
            "_________________________________________________________________\n",
            "flatten (Flatten)            (None, 401408)            0         \n",
            "_________________________________________________________________\n",
            "dense (Dense)                (None, 32)                12845088  \n",
            "_________________________________________________________________\n",
            "dense_1 (Dense)              (None, 1)                 33        \n",
            "=================================================================\n",
            "Total params: 12,845,537\n",
            "Trainable params: 12,845,537\n",
            "Non-trainable params: 0\n",
            "_________________________________________________________________\n"
          ],
          "name": "stdout"
        }
      ]
    },
    {
      "cell_type": "code",
      "metadata": {
        "id": "c5d56d50"
      },
      "source": [
        "model.compile(loss='binary_crossentropy', optimizer='adam', metrics=[Precision(), Recall(), 'accuracy'])"
      ],
      "id": "c5d56d50",
      "execution_count": null,
      "outputs": []
    },
    {
      "cell_type": "code",
      "metadata": {
        "colab": {
          "base_uri": "https://localhost:8080/"
        },
        "id": "414194a3",
        "outputId": "d8189c97-784d-45e9-e09a-d532eaa058a2"
      },
      "source": [
        "history = model.fit(x = train_generator,\n",
        "                    validation_data = validation_generator,\n",
        "                    epochs = 10,\n",
        "                    steps_per_epoch = 50,\n",
        "                    callbacks = early_stop)"
      ],
      "id": "414194a3",
      "execution_count": null,
      "outputs": [
        {
          "output_type": "stream",
          "text": [
            "Epoch 1/10\n",
            "50/50 [==============================] - 293s 6s/step - loss: 1.7378 - precision: 0.4674 - recall: 0.7458 - accuracy: 0.4700 - val_loss: 0.6932 - val_precision: 0.5000 - val_recall: 1.0000 - val_accuracy: 0.5000\n",
            "Epoch 2/10\n",
            "50/50 [==============================] - 110s 2s/step - loss: 0.6930 - precision: 0.5220 - recall: 1.0000 - accuracy: 0.5220 - val_loss: 0.6932 - val_precision: 0.5000 - val_recall: 1.0000 - val_accuracy: 0.5000\n",
            "Epoch 3/10\n",
            "50/50 [==============================] - 105s 2s/step - loss: 0.6929 - precision: 0.5280 - recall: 1.0000 - accuracy: 0.5280 - val_loss: 0.6932 - val_precision: 0.5000 - val_recall: 1.0000 - val_accuracy: 0.5000\n"
          ],
          "name": "stdout"
        }
      ]
    },
    {
      "cell_type": "code",
      "metadata": {
        "id": "ZX31TQXZyZRK"
      },
      "source": [
        "model.save('drive/MyDrive/colon_dataset/baseline_model', save_format='h5')"
      ],
      "id": "ZX31TQXZyZRK",
      "execution_count": null,
      "outputs": []
    },
    {
      "cell_type": "code",
      "metadata": {
        "id": "TDXulPclMxy-"
      },
      "source": [
        "preds_train_1 = model.predict(train_generator, use_multiprocessing=True)\n",
        "preds_val_1 = model.predict(validation_generator)"
      ],
      "id": "TDXulPclMxy-",
      "execution_count": null,
      "outputs": []
    },
    {
      "cell_type": "code",
      "metadata": {
        "colab": {
          "base_uri": "https://localhost:8080/"
        },
        "id": "Lq2hv_aCMx5F",
        "outputId": "8dfddf2f-3cf4-47c7-bfd8-72fe88982863"
      },
      "source": [
        "model_metrics = model.evaluate(train_generator)\n",
        "model_metrics"
      ],
      "id": "Lq2hv_aCMx5F",
      "execution_count": null,
      "outputs": [
        {
          "output_type": "stream",
          "text": [
            "1600/1600 [==============================] - 253s 158ms/step - loss: 0.6932 - precision: 0.5000 - recall: 1.0000 - accuracy: 0.5000\n"
          ],
          "name": "stdout"
        },
        {
          "output_type": "execute_result",
          "data": {
            "text/plain": [
              "[0.6931692957878113, 0.5, 1.0, 0.5]"
            ]
          },
          "metadata": {
            "tags": []
          },
          "execution_count": 23
        }
      ]
    },
    {
      "cell_type": "code",
      "metadata": {
        "id": "febWJjiZOjYl"
      },
      "source": [
        "performance_df = pd.DataFrame(columns=['model', 'loss', 'precision', 'recall', 'accuracy'])\n",
        "performance_df.loc[len(performance_df.index)] = ['model'] + model_metrics"
      ],
      "id": "febWJjiZOjYl",
      "execution_count": null,
      "outputs": []
    },
    {
      "cell_type": "code",
      "metadata": {
        "colab": {
          "base_uri": "https://localhost:8080/",
          "height": 80
        },
        "id": "sfvaUsC1OjbO",
        "outputId": "3c998cc9-7c08-4b64-c02d-d98fea739629"
      },
      "source": [
        "performance_df.head()"
      ],
      "id": "sfvaUsC1OjbO",
      "execution_count": null,
      "outputs": [
        {
          "output_type": "execute_result",
          "data": {
            "text/html": [
              "<div>\n",
              "<style scoped>\n",
              "    .dataframe tbody tr th:only-of-type {\n",
              "        vertical-align: middle;\n",
              "    }\n",
              "\n",
              "    .dataframe tbody tr th {\n",
              "        vertical-align: top;\n",
              "    }\n",
              "\n",
              "    .dataframe thead th {\n",
              "        text-align: right;\n",
              "    }\n",
              "</style>\n",
              "<table border=\"1\" class=\"dataframe\">\n",
              "  <thead>\n",
              "    <tr style=\"text-align: right;\">\n",
              "      <th></th>\n",
              "      <th>model</th>\n",
              "      <th>loss</th>\n",
              "      <th>precision</th>\n",
              "      <th>recall</th>\n",
              "      <th>accuracy</th>\n",
              "    </tr>\n",
              "  </thead>\n",
              "  <tbody>\n",
              "    <tr>\n",
              "      <th>0</th>\n",
              "      <td>model</td>\n",
              "      <td>0.693169</td>\n",
              "      <td>0.5</td>\n",
              "      <td>1.0</td>\n",
              "      <td>0.5</td>\n",
              "    </tr>\n",
              "  </tbody>\n",
              "</table>\n",
              "</div>"
            ],
            "text/plain": [
              "   model      loss  precision  recall  accuracy\n",
              "0  model  0.693169        0.5     1.0       0.5"
            ]
          },
          "metadata": {
            "tags": []
          },
          "execution_count": 25
        }
      ]
    },
    {
      "cell_type": "code",
      "metadata": {
        "colab": {
          "base_uri": "https://localhost:8080/"
        },
        "id": "wuEHi_62voY0",
        "outputId": "ba1c0a1a-0174-47de-a915-ed10310d2a7c"
      },
      "source": [
        "os.listdir()"
      ],
      "id": "wuEHi_62voY0",
      "execution_count": null,
      "outputs": [
        {
          "output_type": "execute_result",
          "data": {
            "text/plain": [
              "['.config', 'drive', 'sample_data']"
            ]
          },
          "metadata": {
            "tags": []
          },
          "execution_count": 27
        }
      ]
    },
    {
      "cell_type": "code",
      "metadata": {
        "id": "jT_wkVc1Ojdk"
      },
      "source": [
        "def plot_confusion_matrix(y_true, y_pred):\n",
        "    cm = confusion_matrix(y_true, y_pred,)\n",
        "    \n",
        "    ax= plt.subplot()\n",
        "    # annot=True to annotate cells, fmt='g' to disable scientific notation\n",
        "    sns.heatmap(cm, annot=True, ax=ax, fmt='g', cmap='magma', linewidths=1, linecolor='black')\n",
        "\n",
        "    # labels, title and ticks\n",
        "    ax.set_xlabel('Predicted labels')\n",
        "    ax.set_ylabel('True labels')\n",
        "    ax.set_title('Confusion Matrix')\n",
        "    ax.xaxis.set_ticklabels(['NORMAL', 'CANCER'])\n",
        "    ax.yaxis.set_ticklabels(['NORMAL', 'CANCER'])\n",
        "    plt.show();"
      ],
      "id": "jT_wkVc1Ojdk",
      "execution_count": null,
      "outputs": []
    },
    {
      "cell_type": "code",
      "metadata": {
        "colab": {
          "base_uri": "https://localhost:8080/",
          "height": 295
        },
        "id": "xzZdvoCdOtNd",
        "outputId": "6a0d5662-9b43-4c8c-c0bc-030016e666ff"
      },
      "source": [
        "plot_confusion_matrix(train_generator.labels, np.rint(preds_train_1))"
      ],
      "id": "xzZdvoCdOtNd",
      "execution_count": null,
      "outputs": [
        {
          "output_type": "display_data",
          "data": {
            "image/png": "[encoded data removed]",
            "text/plain": [
              "<Figure size 432x288 with 2 Axes>"
            ]
          },
          "metadata": {
            "tags": [],
            "needs_background": "light"
          }
        }
      ]
    },
    {
      "cell_type": "code",
      "metadata": {
        "id": "Eo-LDpCvTAbd"
      },
      "source": [
        ""
      ],
      "id": "Eo-LDpCvTAbd",
      "execution_count": null,
      "outputs": []
    },
    {
      "cell_type": "markdown",
      "metadata": {
        "id": "IMH0mWCMTBJL"
      },
      "source": [
        "As per the confusion matrix above, the model appears to be predicting NORMAL values only. This can be attributed to the fact that we have a very shallow Neural Network that is not able to pickup the very fine details of the images and therefore attributing every image as NORMAL."
      ],
      "id": "IMH0mWCMTBJL"
    },
    {
      "cell_type": "code",
      "metadata": {
        "id": "Q0eJIj_VxB49"
      },
      "source": [
        "def visualize_training_results_1(history):\n",
        "    '''\n",
        "    From https://machinelearningmastery.com/display-deep-learning-model-training-history-in-keras/\n",
        "    \n",
        "    Input: keras history object (output from trained model)\n",
        "    '''\n",
        "    fig, (ax1, ax2, ax3) = plt.subplots(3, sharex=True)\n",
        "    fig.suptitle('Model Results')\n",
        "\n",
        "    # summarize history for accuracy\n",
        "    ax1.plot(history.history['recall'])\n",
        "    ax1.plot(history.history['val_recall'])\n",
        "    ax1.set_ylabel('Recall')\n",
        "    ax1.legend(['train', 'test'], loc='upper left')\n",
        "    # summarize history for loss\n",
        "    ax2.plot(history.history['loss'])\n",
        "    ax2.plot(history.history['val_loss'])\n",
        "    ax2.set_ylabel('Loss')\n",
        "    ax2.legend(['train', 'test'], loc='upper left')\n",
        "    \n",
        "    ax3.plot(history.history['precision'])\n",
        "    ax3.plot(history.history['val_precision'])\n",
        "    ax3.set_ylabel('Precision')\n",
        "    ax3.legend(['train', 'test'], loc='upper left')\n",
        "    \n",
        "    plt.xlabel('Epoch')\n",
        "    plt.show()\n",
        "    pass"
      ],
      "id": "Q0eJIj_VxB49",
      "execution_count": null,
      "outputs": []
    },
    {
      "cell_type": "code",
      "metadata": {
        "id": "VEABSmW2kiHw",
        "colab": {
          "base_uri": "https://localhost:8080/",
          "height": 308
        },
        "outputId": "2fa65469-65ed-4bfc-b896-da5cc5f8186f"
      },
      "source": [
        "visualize_training_results_1(history)"
      ],
      "id": "VEABSmW2kiHw",
      "execution_count": null,
      "outputs": [
        {
          "output_type": "display_data",
          "data": {
            "image/png": "[encoded data removed]",
            "text/plain": [
              "<Figure size 432x288 with 3 Axes>"
            ]
          },
          "metadata": {
            "tags": [],
            "needs_background": "light"
          }
        }
      ]
    },
    {
      "cell_type": "markdown",
      "metadata": {
        "id": "PVRb3HwlPF0S"
      },
      "source": [
        "# Model 2 #"
      ],
      "id": "PVRb3HwlPF0S"
    },
    {
      "cell_type": "code",
      "metadata": {
        "id": "Ly2YLvg1G7r9"
      },
      "source": [
        "model_2 = Sequential()\n",
        "model_2.add(Conv2D(32, kernel_size=(2,2), padding='valid', input_shape = (224,224,3)))\n",
        "model_2.add(MaxPooling2D(2,2))\n",
        "model_2.add(Conv2D(32, kernel_size=(2,2), padding='same', activation='relu'))\n",
        "model_2.add(Conv2D(32, kernel_size=(2,2), padding='same', activation='relu'))\n",
        "model_2.add(MaxPooling2D(2,2))\n",
        "model_2.add(Flatten())\n",
        "model_2.add(Dense(128, activation='relu'))\n",
        "model_2.add(LeakyReLU(alpha=(.3)))\n",
        "model_2.add(Dropout(.20))\n",
        "model_2.add(Dense(128, activation='relu'))\n",
        "model_2.add(Dense(1, activation='sigmoid'))"
      ],
      "id": "Ly2YLvg1G7r9",
      "execution_count": null,
      "outputs": []
    },
    {
      "cell_type": "code",
      "metadata": {
        "id": "DdOdfAZRG7ud",
        "colab": {
          "base_uri": "https://localhost:8080/"
        },
        "outputId": "b7a9e859-8cf1-4c50-e8c9-fab8ea51d3ec"
      },
      "source": [
        "model_2.summary()"
      ],
      "id": "DdOdfAZRG7ud",
      "execution_count": null,
      "outputs": [
        {
          "output_type": "stream",
          "text": [
            "Model: \"sequential_2\"\n",
            "_________________________________________________________________\n",
            "Layer (type)                 Output Shape              Param #   \n",
            "=================================================================\n",
            "conv2d_3 (Conv2D)            (None, 223, 223, 32)      416       \n",
            "_________________________________________________________________\n",
            "max_pooling2d_2 (MaxPooling2 (None, 111, 111, 32)      0         \n",
            "_________________________________________________________________\n",
            "conv2d_4 (Conv2D)            (None, 111, 111, 32)      4128      \n",
            "_________________________________________________________________\n",
            "conv2d_5 (Conv2D)            (None, 111, 111, 32)      4128      \n",
            "_________________________________________________________________\n",
            "max_pooling2d_3 (MaxPooling2 (None, 55, 55, 32)        0         \n",
            "_________________________________________________________________\n",
            "flatten_2 (Flatten)          (None, 96800)             0         \n",
            "_________________________________________________________________\n",
            "dense_5 (Dense)              (None, 128)               12390528  \n",
            "_________________________________________________________________\n",
            "leaky_re_lu_1 (LeakyReLU)    (None, 128)               0         \n",
            "_________________________________________________________________\n",
            "dropout_1 (Dropout)          (None, 128)               0         \n",
            "_________________________________________________________________\n",
            "dense_6 (Dense)              (None, 128)               16512     \n",
            "_________________________________________________________________\n",
            "dense_7 (Dense)              (None, 1)                 129       \n",
            "=================================================================\n",
            "Total params: 12,415,841\n",
            "Trainable params: 12,415,841\n",
            "Non-trainable params: 0\n",
            "_________________________________________________________________\n"
          ],
          "name": "stdout"
        }
      ]
    },
    {
      "cell_type": "code",
      "metadata": {
        "id": "b2fnTZD5G7xC"
      },
      "source": [
        "model_2.compile(loss='binary_crossentropy', optimizer='adam', metrics=[Precision(), Recall(), 'accuracy'])"
      ],
      "id": "b2fnTZD5G7xC",
      "execution_count": null,
      "outputs": []
    },
    {
      "cell_type": "code",
      "metadata": {
        "id": "5AukokUjG7zc",
        "colab": {
          "base_uri": "https://localhost:8080/"
        },
        "outputId": "6ac67fed-6d6c-409e-9744-af900c979fdb"
      },
      "source": [
        "history_2 = model_2.fit(\n",
        "    x = train_generator,\n",
        "    validation_data = validation_generator,\n",
        "    epochs = 10,\n",
        "    callbacks = early_stop,\n",
        "    steps_per_epoch = 50\n",
        ")"
      ],
      "id": "5AukokUjG7zc",
      "execution_count": null,
      "outputs": [
        {
          "output_type": "stream",
          "text": [
            "Epoch 1/10\n",
            "50/50 [==============================] - 12s 227ms/step - loss: 0.8325 - precision_1: 0.5571 - recall_1: 0.7303 - accuracy: 0.5460 - val_loss: 0.6896 - val_precision_1: 0.5000 - val_recall_1: 1.0000 - val_accuracy: 0.5000\n",
            "Epoch 2/10\n",
            "50/50 [==============================] - 11s 215ms/step - loss: 0.6939 - precision_1: 0.5018 - recall_1: 0.5779 - accuracy: 0.5140 - val_loss: 0.6712 - val_precision_1: 0.5262 - val_recall_1: 0.9800 - val_accuracy: 0.5487\n",
            "Epoch 3/10\n",
            "50/50 [==============================] - 11s 217ms/step - loss: 0.6804 - precision_1: 0.5101 - recall_1: 0.7303 - accuracy: 0.5320 - val_loss: 0.8666 - val_precision_1: 0.5000 - val_recall_1: 1.0000 - val_accuracy: 0.5000\n",
            "Epoch 4/10\n",
            "50/50 [==============================] - 11s 218ms/step - loss: 0.7022 - precision_1: 0.3667 - recall_1: 0.0435 - accuracy: 0.4780 - val_loss: 0.6833 - val_precision_1: 0.0000e+00 - val_recall_1: 0.0000e+00 - val_accuracy: 0.5000\n"
          ],
          "name": "stdout"
        }
      ]
    },
    {
      "cell_type": "code",
      "metadata": {
        "id": "biHwBWwq0M4B"
      },
      "source": [
        "model_2.save('drive/MyDrive/colon_dataset/model_2', save_format='h5')"
      ],
      "id": "biHwBWwq0M4B",
      "execution_count": null,
      "outputs": []
    },
    {
      "cell_type": "code",
      "metadata": {
        "id": "AzcEdAZSOXye"
      },
      "source": [
        "preds_train_2 = model_2.predict(train_generator)\n",
        "preds_val_2 = model_2.predict(validation_generator)"
      ],
      "id": "AzcEdAZSOXye",
      "execution_count": null,
      "outputs": []
    },
    {
      "cell_type": "code",
      "metadata": {
        "id": "T9D_H0hjOYkE",
        "colab": {
          "base_uri": "https://localhost:8080/"
        },
        "outputId": "2bdc31bc-8670-4986-a539-e3d010194dfb"
      },
      "source": [
        "model_metrics_2 = model_2.evaluate(validation_generator)\n",
        "model_metrics_2"
      ],
      "id": "T9D_H0hjOYkE",
      "execution_count": null,
      "outputs": [
        {
          "output_type": "stream",
          "text": [
            "80/80 [==============================] - 3s 37ms/step - loss: 0.6833 - precision_1: 0.0000e+00 - recall_1: 0.0000e+00 - accuracy: 0.5000\n"
          ],
          "name": "stdout"
        },
        {
          "output_type": "execute_result",
          "data": {
            "text/plain": [
              "[0.6832504868507385, 0.0, 0.0, 0.5]"
            ]
          },
          "metadata": {
            "tags": []
          },
          "execution_count": 43
        }
      ]
    },
    {
      "cell_type": "code",
      "metadata": {
        "id": "XPZcvMmFOYnQ"
      },
      "source": [
        "performance_df.loc[len(performance_df.index)] = ['model_2'] + model_metrics_2"
      ],
      "id": "XPZcvMmFOYnQ",
      "execution_count": null,
      "outputs": []
    },
    {
      "cell_type": "code",
      "metadata": {
        "id": "ehhYQHVK746T",
        "colab": {
          "base_uri": "https://localhost:8080/",
          "height": 111
        },
        "outputId": "792e5f8c-bc90-4e27-90a7-abd2fda250c4"
      },
      "source": [
        "performance_df"
      ],
      "id": "ehhYQHVK746T",
      "execution_count": null,
      "outputs": [
        {
          "output_type": "execute_result",
          "data": {
            "text/html": [
              "<div>\n",
              "<style scoped>\n",
              "    .dataframe tbody tr th:only-of-type {\n",
              "        vertical-align: middle;\n",
              "    }\n",
              "\n",
              "    .dataframe tbody tr th {\n",
              "        vertical-align: top;\n",
              "    }\n",
              "\n",
              "    .dataframe thead th {\n",
              "        text-align: right;\n",
              "    }\n",
              "</style>\n",
              "<table border=\"1\" class=\"dataframe\">\n",
              "  <thead>\n",
              "    <tr style=\"text-align: right;\">\n",
              "      <th></th>\n",
              "      <th>model</th>\n",
              "      <th>loss</th>\n",
              "      <th>precision</th>\n",
              "      <th>recall</th>\n",
              "      <th>accuracy</th>\n",
              "    </tr>\n",
              "  </thead>\n",
              "  <tbody>\n",
              "    <tr>\n",
              "      <th>0</th>\n",
              "      <td>model</td>\n",
              "      <td>0.693169</td>\n",
              "      <td>0.5</td>\n",
              "      <td>1.0</td>\n",
              "      <td>0.5</td>\n",
              "    </tr>\n",
              "    <tr>\n",
              "      <th>1</th>\n",
              "      <td>model_2</td>\n",
              "      <td>0.683250</td>\n",
              "      <td>0.0</td>\n",
              "      <td>0.0</td>\n",
              "      <td>0.5</td>\n",
              "    </tr>\n",
              "  </tbody>\n",
              "</table>\n",
              "</div>"
            ],
            "text/plain": [
              "     model      loss  precision  recall  accuracy\n",
              "0    model  0.693169        0.5     1.0       0.5\n",
              "1  model_2  0.683250        0.0     0.0       0.5"
            ]
          },
          "metadata": {
            "tags": []
          },
          "execution_count": 45
        }
      ]
    },
    {
      "cell_type": "code",
      "metadata": {
        "id": "iEgti_-yOYqq",
        "colab": {
          "base_uri": "https://localhost:8080/",
          "height": 295
        },
        "outputId": "4cbfd8b2-e3d6-4a98-96d9-81d9b874d650"
      },
      "source": [
        "plot_confusion_matrix(train_generator.labels, np.rint(preds_train_2))"
      ],
      "id": "iEgti_-yOYqq",
      "execution_count": null,
      "outputs": [
        {
          "output_type": "display_data",
          "data": {
            "image/png": "[encoded data removed]",
            "text/plain": [
              "<Figure size 432x288 with 2 Axes>"
            ]
          },
          "metadata": {
            "tags": [],
            "needs_background": "light"
          }
        }
      ]
    },
    {
      "cell_type": "code",
      "metadata": {
        "id": "Y-f-2y1IsCV-"
      },
      "source": [
        ""
      ],
      "id": "Y-f-2y1IsCV-",
      "execution_count": null,
      "outputs": []
    },
    {
      "cell_type": "code",
      "metadata": {
        "id": "Xcse3zpWsCZE"
      },
      "source": [
        "def visualize_training_results(history, iteration):\n",
        "    '''\n",
        "    From https://machinelearningmastery.com/display-deep-learning-model-training-history-in-keras/\n",
        "    \n",
        "    Input: keras history object (output from trained model)\n",
        "    '''\n",
        "    fig, (ax1, ax2, ax3) = plt.subplots(3, sharex=True)\n",
        "    fig.suptitle('Model Results')\n",
        "\n",
        "    # summarize history for accuracy\n",
        "    ax1.plot(history.history['recall_{}'.format(iteration)])\n",
        "    ax1.plot(history.history['val_recall_{}'.format(iteration)])\n",
        "    ax1.set_ylabel('Recall')\n",
        "    ax1.legend(['train', 'test'], loc='upper left')\n",
        "    # summarize history for loss\n",
        "    ax2.plot(history.history['loss'])\n",
        "    ax2.plot(history.history['val_loss'])\n",
        "    ax2.set_ylabel('Loss')\n",
        "    ax2.legend(['train', 'test'], loc='upper left')\n",
        "    \n",
        "    ax3.plot(history.history['precision_{}'.format(iteration)])\n",
        "    ax3.plot(history.history['val_precision_{}'.format(iteration)])\n",
        "    ax3.set_ylabel('Precision')\n",
        "    ax3.legend(['train', 'test'], loc='upper left')\n",
        "    \n",
        "    plt.xlabel('Epoch')\n",
        "    plt.show()\n",
        "    pass"
      ],
      "id": "Xcse3zpWsCZE",
      "execution_count": null,
      "outputs": []
    },
    {
      "cell_type": "code",
      "metadata": {
        "id": "OcY2JC2uuk1D",
        "colab": {
          "base_uri": "https://localhost:8080/",
          "height": 308
        },
        "outputId": "a96ff492-3f48-4c5a-877f-a92b854d2ff2"
      },
      "source": [
        "visualize_training_results(history_2, 1)"
      ],
      "id": "OcY2JC2uuk1D",
      "execution_count": null,
      "outputs": [
        {
          "output_type": "display_data",
          "data": {
            "image/png": "[encoded data removed]",
            "text/plain": [
              "<Figure size 432x288 with 3 Axes>"
            ]
          },
          "metadata": {
            "tags": [],
            "needs_background": "light"
          }
        }
      ]
    },
    {
      "cell_type": "markdown",
      "metadata": {
        "id": "dz-HEZooQg9w"
      },
      "source": [
        "# Model 3 #"
      ],
      "id": "dz-HEZooQg9w"
    },
    {
      "cell_type": "code",
      "metadata": {
        "id": "Bzs5txCruk9f"
      },
      "source": [
        "model_3 = Sequential()\n",
        "model_3.add(Conv2D(32, kernel_size=(2,2), activation='relu',padding='valid', input_shape = (224,224,3)))\n",
        "model_3.add(Conv2D(32, kernel_size=(2,2), activation='relu', padding='valid'))\n",
        "model_3.add(Conv2D(64, kernel_size=(2,2), padding='same', activation=LeakyReLU()))\n",
        "model_3.add(MaxPooling2D(3,3))\n",
        "model_3.add(Conv2D(64, kernel_size=(3,3), padding='same', activation='relu'))\n",
        "model_3.add(Conv2D(64, kernel_size=(3,3), padding='same', activation=LeakyReLU()))\n",
        "model_3.add(MaxPooling2D(2,2))\n",
        "model_3.add(Conv2D(64, kernel_size=(3,3), activation=LeakyReLU(), padding='valid'))\n",
        "model_3.add(Flatten())\n",
        "model_3.add(Dense(64,activation='relu'))\n",
        "model_3.add(Dense(64, activation=LeakyReLU()))\n",
        "model_3.add(Dropout(.20))\n",
        "model_3.add(Dense(64,activation='relu'))\n",
        "model_3.add(Dense(64, activation=LeakyReLU()))\n",
        "model_3.add(Dense(1, activation='sigmoid'))"
      ],
      "id": "Bzs5txCruk9f",
      "execution_count": null,
      "outputs": []
    },
    {
      "cell_type": "code",
      "metadata": {
        "id": "CrpyaqVlulXA",
        "colab": {
          "base_uri": "https://localhost:8080/"
        },
        "outputId": "4d13e6cd-5931-441f-8519-49806a2997ed"
      },
      "source": [
        "model_3.summary()"
      ],
      "id": "CrpyaqVlulXA",
      "execution_count": null,
      "outputs": [
        {
          "output_type": "stream",
          "text": [
            "Model: \"sequential_4\"\n",
            "_________________________________________________________________\n",
            "Layer (type)                 Output Shape              Param #   \n",
            "=================================================================\n",
            "conv2d_12 (Conv2D)           (None, 223, 223, 32)      416       \n",
            "_________________________________________________________________\n",
            "conv2d_13 (Conv2D)           (None, 222, 222, 32)      4128      \n",
            "_________________________________________________________________\n",
            "conv2d_14 (Conv2D)           (None, 222, 222, 64)      8256      \n",
            "_________________________________________________________________\n",
            "max_pooling2d_7 (MaxPooling2 (None, 74, 74, 64)        0         \n",
            "_________________________________________________________________\n",
            "conv2d_15 (Conv2D)           (None, 74, 74, 64)        36928     \n",
            "_________________________________________________________________\n",
            "conv2d_16 (Conv2D)           (None, 74, 74, 64)        36928     \n",
            "_________________________________________________________________\n",
            "max_pooling2d_8 (MaxPooling2 (None, 37, 37, 64)        0         \n",
            "_________________________________________________________________\n",
            "conv2d_17 (Conv2D)           (None, 35, 35, 64)        36928     \n",
            "_________________________________________________________________\n",
            "flatten_3 (Flatten)          (None, 78400)             0         \n",
            "_________________________________________________________________\n",
            "dense_8 (Dense)              (None, 64)                5017664   \n",
            "_________________________________________________________________\n",
            "dense_9 (Dense)              (None, 64)                4160      \n",
            "_________________________________________________________________\n",
            "dropout_2 (Dropout)          (None, 64)                0         \n",
            "_________________________________________________________________\n",
            "dense_10 (Dense)             (None, 64)                4160      \n",
            "_________________________________________________________________\n",
            "dense_11 (Dense)             (None, 64)                4160      \n",
            "_________________________________________________________________\n",
            "dense_12 (Dense)             (None, 1)                 65        \n",
            "=================================================================\n",
            "Total params: 5,153,793\n",
            "Trainable params: 5,153,793\n",
            "Non-trainable params: 0\n",
            "_________________________________________________________________\n"
          ],
          "name": "stdout"
        }
      ]
    },
    {
      "cell_type": "code",
      "metadata": {
        "id": "aSMRL0kBRpEW"
      },
      "source": [
        "model_3.compile(loss='binary_crossentropy', optimizer='adam', metrics=[Precision(), Recall(), 'accuracy'])"
      ],
      "id": "aSMRL0kBRpEW",
      "execution_count": null,
      "outputs": []
    },
    {
      "cell_type": "code",
      "metadata": {
        "id": "WJluWp21SHHG",
        "colab": {
          "base_uri": "https://localhost:8080/"
        },
        "outputId": "b64c4812-f698-425a-90cd-a8aa3afdc58d"
      },
      "source": [
        "history_3 = model_3.fit(x=train_generator,\n",
        "            validation_data = validation_generator,\n",
        "            epochs=15,\n",
        "            steps_per_epoch = 100)"
      ],
      "id": "WJluWp21SHHG",
      "execution_count": null,
      "outputs": [
        {
          "output_type": "stream",
          "text": [
            "Epoch 1/15\n",
            "100/100 [==============================] - 21s 195ms/step - loss: 0.7016 - precision_2: 0.4699 - recall_2: 0.4840 - accuracy: 0.4690 - val_loss: 0.6950 - val_precision_2: 0.0000e+00 - val_recall_2: 0.0000e+00 - val_accuracy: 0.5000\n",
            "Epoch 2/15\n",
            "100/100 [==============================] - 19s 193ms/step - loss: 0.6965 - precision_2: 0.4751 - recall_2: 0.3411 - accuracy: 0.5080 - val_loss: 0.6974 - val_precision_2: 0.0000e+00 - val_recall_2: 0.0000e+00 - val_accuracy: 0.5000\n",
            "Epoch 3/15\n",
            "100/100 [==============================] - 19s 193ms/step - loss: 0.7011 - precision_2: 0.5043 - recall_2: 0.4531 - accuracy: 0.4920 - val_loss: 0.7041 - val_precision_2: 0.0000e+00 - val_recall_2: 0.0000e+00 - val_accuracy: 0.5000\n",
            "Epoch 4/15\n",
            "100/100 [==============================] - 19s 192ms/step - loss: 0.6982 - precision_2: 0.4988 - recall_2: 0.4143 - accuracy: 0.5090 - val_loss: 0.6932 - val_precision_2: 0.0000e+00 - val_recall_2: 0.0000e+00 - val_accuracy: 0.5000\n",
            "Epoch 5/15\n",
            "100/100 [==============================] - 19s 192ms/step - loss: 0.6974 - precision_2: 0.5230 - recall_2: 0.8050 - accuracy: 0.5140 - val_loss: 0.6944 - val_precision_2: 0.5000 - val_recall_2: 1.0000 - val_accuracy: 0.5000\n",
            "Epoch 6/15\n",
            "100/100 [==============================] - 19s 194ms/step - loss: 0.6954 - precision_2: 0.5035 - recall_2: 0.5714 - accuracy: 0.5000 - val_loss: 0.6936 - val_precision_2: 0.5000 - val_recall_2: 1.0000 - val_accuracy: 0.5000\n",
            "Epoch 7/15\n",
            "100/100 [==============================] - 19s 193ms/step - loss: 0.6938 - precision_2: 0.5092 - recall_2: 0.9183 - accuracy: 0.5030 - val_loss: 0.6931 - val_precision_2: 0.0000e+00 - val_recall_2: 0.0000e+00 - val_accuracy: 0.5000\n",
            "Epoch 8/15\n",
            "100/100 [==============================] - 19s 192ms/step - loss: 0.6940 - precision_2: 0.4899 - recall_2: 0.7328 - accuracy: 0.4910 - val_loss: 0.6932 - val_precision_2: 0.0000e+00 - val_recall_2: 0.0000e+00 - val_accuracy: 0.5000\n",
            "Epoch 9/15\n",
            "100/100 [==============================] - 19s 194ms/step - loss: 0.6932 - precision_2: 0.4314 - recall_2: 0.0921 - accuracy: 0.5080 - val_loss: 0.6937 - val_precision_2: 0.0000e+00 - val_recall_2: 0.0000e+00 - val_accuracy: 0.5000\n",
            "Epoch 10/15\n",
            "100/100 [==============================] - 19s 195ms/step - loss: 0.6930 - precision_2: 0.0000e+00 - recall_2: 0.0000e+00 - accuracy: 0.5150 - val_loss: 0.6934 - val_precision_2: 0.0000e+00 - val_recall_2: 0.0000e+00 - val_accuracy: 0.5000\n",
            "Epoch 11/15\n",
            "100/100 [==============================] - 19s 192ms/step - loss: 0.6918 - precision_2: 0.0000e+00 - recall_2: 0.0000e+00 - accuracy: 0.5320 - val_loss: 0.6941 - val_precision_2: 0.0000e+00 - val_recall_2: 0.0000e+00 - val_accuracy: 0.5000\n",
            "Epoch 12/15\n",
            "100/100 [==============================] - 19s 192ms/step - loss: 0.6935 - precision_2: 0.0000e+00 - recall_2: 0.0000e+00 - accuracy: 0.5050 - val_loss: 0.6937 - val_precision_2: 0.0000e+00 - val_recall_2: 0.0000e+00 - val_accuracy: 0.5000\n",
            "Epoch 13/15\n",
            "100/100 [==============================] - 19s 194ms/step - loss: 0.6922 - precision_2: 0.3333 - recall_2: 0.0021 - accuracy: 0.5300 - val_loss: 0.6942 - val_precision_2: 0.0000e+00 - val_recall_2: 0.0000e+00 - val_accuracy: 0.5000\n",
            "Epoch 14/15\n",
            "100/100 [==============================] - 19s 194ms/step - loss: 0.6946 - precision_2: 0.0000e+00 - recall_2: 0.0000e+00 - accuracy: 0.4890 - val_loss: 0.6932 - val_precision_2: 0.0000e+00 - val_recall_2: 0.0000e+00 - val_accuracy: 0.5000\n",
            "Epoch 15/15\n",
            "100/100 [==============================] - 19s 192ms/step - loss: 0.6932 - precision_2: 0.0000e+00 - recall_2: 0.0000e+00 - accuracy: 0.5180 - val_loss: 0.6935 - val_precision_2: 0.0000e+00 - val_recall_2: 0.0000e+00 - val_accuracy: 0.5000\n"
          ],
          "name": "stdout"
        }
      ]
    },
    {
      "cell_type": "code",
      "metadata": {
        "id": "wApCPy6B0TRg"
      },
      "source": [
        "model_3.save('drive/MyDrive/colon_dataset/model_3', save_format='h5')"
      ],
      "id": "wApCPy6B0TRg",
      "execution_count": null,
      "outputs": []
    },
    {
      "cell_type": "code",
      "metadata": {
        "colab": {
          "base_uri": "https://localhost:8080/"
        },
        "id": "mQeR83ET1rd0",
        "outputId": "4c517cac-02c9-4018-d1e0-28f9c1d988aa"
      },
      "source": [
        "model_metrics_3 = model_3.evaluate(validation_generator)\n",
        "model_metrics_3"
      ],
      "id": "mQeR83ET1rd0",
      "execution_count": null,
      "outputs": [
        {
          "output_type": "stream",
          "text": [
            "80/80 [==============================] - 3s 37ms/step - loss: 0.6935 - precision_2: 0.0000e+00 - recall_2: 0.0000e+00 - accuracy: 0.5000\n"
          ],
          "name": "stdout"
        },
        {
          "output_type": "execute_result",
          "data": {
            "text/plain": [
              "[0.6934548020362854, 0.0, 0.0, 0.5]"
            ]
          },
          "metadata": {
            "tags": []
          },
          "execution_count": 59
        }
      ]
    },
    {
      "cell_type": "code",
      "metadata": {
        "id": "tHerRhv71fna"
      },
      "source": [
        "performance_df.loc[len(performance_df.index)] = ['model_3'] + model_metrics_3"
      ],
      "id": "tHerRhv71fna",
      "execution_count": null,
      "outputs": []
    },
    {
      "cell_type": "code",
      "metadata": {
        "colab": {
          "base_uri": "https://localhost:8080/",
          "height": 173
        },
        "id": "7qemZYhX1ySy",
        "outputId": "a367e243-cebb-488b-e6fa-3a6048fb4461"
      },
      "source": [
        "performance_df"
      ],
      "id": "7qemZYhX1ySy",
      "execution_count": null,
      "outputs": [
        {
          "output_type": "execute_result",
          "data": {
            "text/html": [
              "<div>\n",
              "<style scoped>\n",
              "    .dataframe tbody tr th:only-of-type {\n",
              "        vertical-align: middle;\n",
              "    }\n",
              "\n",
              "    .dataframe tbody tr th {\n",
              "        vertical-align: top;\n",
              "    }\n",
              "\n",
              "    .dataframe thead th {\n",
              "        text-align: right;\n",
              "    }\n",
              "</style>\n",
              "<table border=\"1\" class=\"dataframe\">\n",
              "  <thead>\n",
              "    <tr style=\"text-align: right;\">\n",
              "      <th></th>\n",
              "      <th>model</th>\n",
              "      <th>loss</th>\n",
              "      <th>precision</th>\n",
              "      <th>recall</th>\n",
              "      <th>accuracy</th>\n",
              "    </tr>\n",
              "  </thead>\n",
              "  <tbody>\n",
              "    <tr>\n",
              "      <th>0</th>\n",
              "      <td>model</td>\n",
              "      <td>0.693169</td>\n",
              "      <td>0.5</td>\n",
              "      <td>1.0</td>\n",
              "      <td>0.5</td>\n",
              "    </tr>\n",
              "    <tr>\n",
              "      <th>1</th>\n",
              "      <td>model_2</td>\n",
              "      <td>0.683250</td>\n",
              "      <td>0.0</td>\n",
              "      <td>0.0</td>\n",
              "      <td>0.5</td>\n",
              "    </tr>\n",
              "    <tr>\n",
              "      <th>2</th>\n",
              "      <td>model_3</td>\n",
              "      <td>0.683250</td>\n",
              "      <td>0.0</td>\n",
              "      <td>0.0</td>\n",
              "      <td>0.5</td>\n",
              "    </tr>\n",
              "    <tr>\n",
              "      <th>3</th>\n",
              "      <td>model_3</td>\n",
              "      <td>0.693455</td>\n",
              "      <td>0.0</td>\n",
              "      <td>0.0</td>\n",
              "      <td>0.5</td>\n",
              "    </tr>\n",
              "  </tbody>\n",
              "</table>\n",
              "</div>"
            ],
            "text/plain": [
              "     model      loss  precision  recall  accuracy\n",
              "0    model  0.693169        0.5     1.0       0.5\n",
              "1  model_2  0.683250        0.0     0.0       0.5\n",
              "2  model_3  0.683250        0.0     0.0       0.5\n",
              "3  model_3  0.693455        0.0     0.0       0.5"
            ]
          },
          "metadata": {
            "tags": []
          },
          "execution_count": 62
        }
      ]
    },
    {
      "cell_type": "code",
      "metadata": {
        "id": "3riwWNecSHJW",
        "colab": {
          "base_uri": "https://localhost:8080/",
          "height": 308
        },
        "outputId": "f94c3f6f-bb41-4325-c5a9-d717fe1dd32a"
      },
      "source": [
        "visualize_training_results(history_3, 2)"
      ],
      "id": "3riwWNecSHJW",
      "execution_count": null,
      "outputs": [
        {
          "output_type": "display_data",
          "data": {
            "image/png": "[encoded data removed]",
            "text/plain": [
              "<Figure size 432x288 with 3 Axes>"
            ]
          },
          "metadata": {
            "tags": [],
            "needs_background": "light"
          }
        }
      ]
    },
    {
      "cell_type": "markdown",
      "metadata": {
        "id": "wkk55t0GDVlX"
      },
      "source": [
        "# ResNet"
      ],
      "id": "wkk55t0GDVlX"
    },
    {
      "cell_type": "code",
      "metadata": {
        "id": "F1HhNX9eSWgO"
      },
      "source": [
        "from keras.applications.resnet50 import ResNet50\n",
        "from tensorflow.keras.callbacks import ModelCheckpoint"
      ],
      "id": "F1HhNX9eSWgO",
      "execution_count": null,
      "outputs": []
    },
    {
      "cell_type": "code",
      "metadata": {
        "colab": {
          "base_uri": "https://localhost:8080/"
        },
        "id": "byLJP7TUIcBA",
        "outputId": "331781ed-50a9-4969-d1d3-381800b68b03"
      },
      "source": [
        "resnet_gen = ImageDataGenerator(rescale=1./255).flow_from_directory(\n",
        "    '/content/drive/MyDrive/colon_dataset/train',\n",
        "    target_size = (224,224),\n",
        "    batch_size = 10,\n",
        "    color_mode = 'rgb',\n",
        "    shuffle = True,\n",
        "    class_mode = 'binary',\n",
        "    seed = 20\n",
        ")\n",
        "resnet_val_gen = ImageDataGenerator(rescale=1./255).flow_from_directory(\n",
        "    '/content/drive/MyDrive/colon_dataset/validation',\n",
        "    target_size = (224,224),\n",
        "    batch_size = 10,\n",
        "    color_mode = 'rgb',\n",
        "    shuffle = True,\n",
        "    class_mode = 'binary',\n",
        "    seed = 20\n",
        ")"
      ],
      "id": "byLJP7TUIcBA",
      "execution_count": null,
      "outputs": [
        {
          "output_type": "stream",
          "text": [
            "Found 16000 images belonging to 2 classes.\n",
            "Found 800 images belonging to 2 classes.\n"
          ],
          "name": "stdout"
        }
      ]
    },
    {
      "cell_type": "code",
      "metadata": {
        "id": "94j2ZMPuS6AQ"
      },
      "source": [
        "model_4 = Sequential()\n",
        "\n",
        "resnet_model = ResNet50(weights = 'imagenet',\n",
        "                        include_top = False,\n",
        "                        pooling= 'avg')\n",
        "\n",
        "model_4.add(resnet_model)\n",
        "model_4.add(Dense(1, activation='sigmoid'))\n",
        "for layer in resnet_model.layers:\n",
        "  layer.trainable = False"
      ],
      "id": "94j2ZMPuS6AQ",
      "execution_count": null,
      "outputs": []
    },
    {
      "cell_type": "code",
      "metadata": {
        "id": "lS6WwUuIS9Np"
      },
      "source": [
        "from tensorflow.keras.optimizers import SGD"
      ],
      "id": "lS6WwUuIS9Np",
      "execution_count": null,
      "outputs": []
    },
    {
      "cell_type": "code",
      "metadata": {
        "colab": {
          "base_uri": "https://localhost:8080/"
        },
        "id": "WR6z8e-0Tjph",
        "outputId": "bb5ba1cd-8dce-4924-e022-c14ae43feeae"
      },
      "source": [
        "sgd = SGD(learning_rate=0.001)\n",
        "model_4.compile(optimizer=sgd,loss='binary_crossentropy',metrics = [Precision(),Recall(), 'accuracy'])\n",
        "model_4.summary()"
      ],
      "id": "WR6z8e-0Tjph",
      "execution_count": null,
      "outputs": [
        {
          "output_type": "stream",
          "text": [
            "Model: \"sequential_2\"\n",
            "_________________________________________________________________\n",
            "Layer (type)                 Output Shape              Param #   \n",
            "=================================================================\n",
            "resnet50 (Functional)        (None, 2048)              23587712  \n",
            "_________________________________________________________________\n",
            "dense_1 (Dense)              (None, 1)                 2049      \n",
            "=================================================================\n",
            "Total params: 23,589,761\n",
            "Trainable params: 2,049\n",
            "Non-trainable params: 23,587,712\n",
            "_________________________________________________________________\n"
          ],
          "name": "stdout"
        }
      ]
    },
    {
      "cell_type": "code",
      "metadata": {
        "id": "zbVghdfKT_3z"
      },
      "source": [
        "checkpoint = ModelCheckpoint('resnet.h5',\n",
        "                             save_best_only = True,\n",
        "                             monitor = 'val_loss')"
      ],
      "id": "zbVghdfKT_3z",
      "execution_count": null,
      "outputs": []
    },
    {
      "cell_type": "code",
      "metadata": {
        "colab": {
          "base_uri": "https://localhost:8080/"
        },
        "id": "LyHpKreAUYOf",
        "outputId": "3d944c50-fe34-470b-e55b-d66b623cb521"
      },
      "source": [
        "history_resnet = model_4.fit(x = resnet_gen,\n",
        "                             validation_data = resnet_val_gen,\n",
        "                             steps_per_epoch = (resnet_gen.n//20),\n",
        "                             validation_steps = (resnet_val_gen.n//20),\n",
        "                             epochs = 5,\n",
        "                             callbacks = checkpoint)"
      ],
      "id": "LyHpKreAUYOf",
      "execution_count": null,
      "outputs": [
        {
          "output_type": "stream",
          "text": [
            "Epoch 1/5\n",
            "800/800 [==============================] - 5031s 6s/step - loss: 0.6770 - precision_2: 0.5709 - recall_2: 0.5287 - accuracy: 0.5742 - val_loss: 0.6580 - val_precision_2: 0.5374 - val_recall_2: 0.9853 - val_accuracy: 0.5600\n"
          ],
          "name": "stdout"
        },
        {
          "output_type": "stream",
          "text": [
            "/usr/local/lib/python3.7/dist-packages/tensorflow/python/keras/utils/generic_utils.py:497: CustomMaskWarning: Custom mask layers require a config and must override get_config. When loading, the custom mask layer must be passed to the custom_objects argument.\n",
            "  category=CustomMaskWarning)\n"
          ],
          "name": "stderr"
        },
        {
          "output_type": "stream",
          "text": [
            "Epoch 2/5\n",
            "800/800 [==============================] - 2550s 3s/step - loss: 0.6486 - precision_2: 0.6482 - recall_2: 0.6361 - accuracy: 0.6407 - val_loss: 0.6363 - val_precision_2: 0.7425 - val_recall_2: 0.5877 - val_accuracy: 0.6750\n",
            "Epoch 3/5\n",
            "800/800 [==============================] - 1224s 2s/step - loss: 0.6285 - precision_2: 0.6814 - recall_2: 0.6092 - accuracy: 0.6635 - val_loss: 0.6169 - val_precision_2: 0.6906 - val_recall_2: 0.6378 - val_accuracy: 0.6825\n",
            "Epoch 4/5\n",
            "800/800 [==============================] - 650s 812ms/step - loss: 0.6158 - precision_2: 0.6993 - recall_2: 0.6099 - accuracy: 0.6775 - val_loss: 0.6218 - val_precision_2: 0.8269 - val_recall_2: 0.4343 - val_accuracy: 0.6750\n",
            "Epoch 5/5\n",
            "800/800 [==============================] - 337s 421ms/step - loss: 0.6057 - precision_2: 0.7067 - recall_2: 0.6185 - accuracy: 0.6842 - val_loss: 0.5970 - val_precision_2: 0.7486 - val_recall_2: 0.6569 - val_accuracy: 0.7125\n"
          ],
          "name": "stdout"
        }
      ]
    },
    {
      "cell_type": "code",
      "metadata": {
        "id": "n1FMG-vxUqI-"
      },
      "source": [
        "for layer in resnet_model.layers:\n",
        "  layer.trainable = True"
      ],
      "id": "n1FMG-vxUqI-",
      "execution_count": null,
      "outputs": []
    },
    {
      "cell_type": "code",
      "metadata": {
        "colab": {
          "base_uri": "https://localhost:8080/"
        },
        "id": "5EDAoTEx7qpr",
        "outputId": "344873be-3d41-47be-cf36-d1fae7120ba0"
      },
      "source": [
        "sgd = SGD(learning_rate=0.01)\n",
        "\n",
        "model_4.compile(optimizer=sgd,\n",
        "                loss = 'binary_crossentropy',\n",
        "                metrics = [Precision(), Recall(), 'accuracy'])\n",
        "model_4.summary()"
      ],
      "id": "5EDAoTEx7qpr",
      "execution_count": null,
      "outputs": [
        {
          "output_type": "stream",
          "text": [
            "Model: \"sequential_2\"\n",
            "_________________________________________________________________\n",
            "Layer (type)                 Output Shape              Param #   \n",
            "=================================================================\n",
            "resnet50 (Functional)        (None, 2048)              23587712  \n",
            "_________________________________________________________________\n",
            "dense_1 (Dense)              (None, 1)                 2049      \n",
            "=================================================================\n",
            "Total params: 23,589,761\n",
            "Trainable params: 23,536,641\n",
            "Non-trainable params: 53,120\n",
            "_________________________________________________________________\n"
          ],
          "name": "stdout"
        }
      ]
    },
    {
      "cell_type": "code",
      "metadata": {
        "id": "r2cd4WKa79Kr"
      },
      "source": [
        "checkpoint = ModelCheckpoint('drive/MyDrive/colon_dataset/resnet_checkpoint.h5',\n",
        "                             save_best_only = True,\n",
        "                             monitor = 'val_loss')"
      ],
      "id": "r2cd4WKa79Kr",
      "execution_count": null,
      "outputs": []
    },
    {
      "cell_type": "code",
      "metadata": {
        "colab": {
          "base_uri": "https://localhost:8080/"
        },
        "id": "iupl0hTc8aaj",
        "outputId": "808f2942-bfd8-4248-9766-023c3edbbcbf"
      },
      "source": [
        "history_resnet_unfrozen = model_4.fit(x = resnet_gen,\n",
        "                                      validation_data = resnet_val_gen,\n",
        "                                      epochs = 15,\n",
        "                                      steps_per_epoch = (resnet_gen.n//20),\n",
        "                                      validation_steps = (resnet_val_gen.n//20),\n",
        "                                      callbacks = checkpoint)"
      ],
      "id": "iupl0hTc8aaj",
      "execution_count": null,
      "outputs": [
        {
          "output_type": "stream",
          "text": [
            "Epoch 1/15\n",
            "800/800 [==============================] - 199s 243ms/step - loss: 0.1142 - precision_4: 0.9533 - recall_4: 0.9571 - accuracy: 0.9548 - val_loss: 1.2482 - val_precision_4: 0.5607 - val_recall_4: 1.0000 - val_accuracy: 0.5750\n"
          ],
          "name": "stdout"
        },
        {
          "output_type": "stream",
          "text": [
            "/usr/local/lib/python3.7/dist-packages/tensorflow/python/keras/utils/generic_utils.py:497: CustomMaskWarning: Custom mask layers require a config and must override get_config. When loading, the custom mask layer must be passed to the custom_objects argument.\n",
            "  category=CustomMaskWarning)\n"
          ],
          "name": "stderr"
        },
        {
          "output_type": "stream",
          "text": [
            "Epoch 2/15\n",
            "800/800 [==============================] - 127s 158ms/step - loss: 0.0497 - precision_4: 0.9841 - recall_4: 0.9851 - accuracy: 0.9845 - val_loss: 0.1083 - val_precision_4: 1.0000 - val_recall_4: 0.9286 - val_accuracy: 0.9650\n",
            "Epoch 3/15\n",
            "800/800 [==============================] - 90s 112ms/step - loss: 0.0377 - precision_4: 0.9893 - recall_4: 0.9866 - accuracy: 0.9879 - val_loss: 0.0136 - val_precision_4: 0.9948 - val_recall_4: 0.9948 - val_accuracy: 0.9950\n",
            "Epoch 4/15\n",
            "800/800 [==============================] - 75s 94ms/step - loss: 0.0241 - precision_4: 0.9924 - recall_4: 0.9914 - accuracy: 0.9920 - val_loss: 0.2927 - val_precision_4: 1.0000 - val_recall_4: 0.7583 - val_accuracy: 0.8725\n",
            "Epoch 5/15\n",
            "800/800 [==============================] - 64s 81ms/step - loss: 0.0182 - precision_4: 0.9940 - recall_4: 0.9948 - accuracy: 0.9944 - val_loss: 0.0717 - val_precision_4: 0.9950 - val_recall_4: 0.9755 - val_accuracy: 0.9850\n",
            "Epoch 6/15\n",
            "800/800 [==============================] - 64s 80ms/step - loss: 0.0174 - precision_4: 0.9957 - recall_4: 0.9955 - accuracy: 0.9956 - val_loss: 0.0080 - val_precision_4: 0.9951 - val_recall_4: 1.0000 - val_accuracy: 0.9975\n",
            "Epoch 7/15\n",
            "800/800 [==============================] - 61s 77ms/step - loss: 0.0164 - precision_4: 0.9960 - recall_4: 0.9955 - accuracy: 0.9958 - val_loss: 0.0269 - val_precision_4: 0.9815 - val_recall_4: 1.0000 - val_accuracy: 0.9900\n",
            "Epoch 8/15\n",
            "800/800 [==============================] - 60s 74ms/step - loss: 0.0111 - precision_4: 0.9972 - recall_4: 0.9975 - accuracy: 0.9974 - val_loss: 0.0576 - val_precision_4: 0.9704 - val_recall_4: 1.0000 - val_accuracy: 0.9850\n",
            "Epoch 9/15\n",
            "800/800 [==============================] - 60s 75ms/step - loss: 0.0112 - precision_4: 0.9975 - recall_4: 0.9975 - accuracy: 0.9975 - val_loss: 0.0240 - val_precision_4: 0.9792 - val_recall_4: 1.0000 - val_accuracy: 0.9900\n",
            "Epoch 10/15\n",
            "800/800 [==============================] - 59s 73ms/step - loss: 0.0036 - precision_4: 0.9995 - recall_4: 0.9987 - accuracy: 0.9991 - val_loss: 0.0331 - val_precision_4: 0.9899 - val_recall_4: 0.9949 - val_accuracy: 0.9925\n",
            "Epoch 11/15\n",
            "800/800 [==============================] - 59s 73ms/step - loss: 0.0120 - precision_4: 0.9967 - recall_4: 0.9967 - accuracy: 0.9967 - val_loss: 0.0655 - val_precision_4: 0.9653 - val_recall_4: 1.0000 - val_accuracy: 0.9825\n",
            "Epoch 12/15\n",
            "800/800 [==============================] - 59s 73ms/step - loss: 0.0074 - precision_4: 0.9972 - recall_4: 0.9982 - accuracy: 0.9977 - val_loss: 0.0198 - val_precision_4: 0.9952 - val_recall_4: 0.9952 - val_accuracy: 0.9950\n",
            "Epoch 13/15\n",
            "800/800 [==============================] - 59s 74ms/step - loss: 0.0116 - precision_4: 0.9982 - recall_4: 0.9972 - accuracy: 0.9977 - val_loss: 0.0078 - val_precision_4: 1.0000 - val_recall_4: 0.9896 - val_accuracy: 0.9950\n",
            "Epoch 14/15\n",
            "800/800 [==============================] - 59s 73ms/step - loss: 0.0061 - precision_4: 0.9983 - recall_4: 0.9983 - accuracy: 0.9983 - val_loss: 0.0035 - val_precision_4: 1.0000 - val_recall_4: 0.9947 - val_accuracy: 0.9975\n",
            "Epoch 15/15\n",
            "800/800 [==============================] - 59s 73ms/step - loss: 0.0031 - precision_4: 0.9995 - recall_4: 0.9993 - accuracy: 0.9994 - val_loss: 0.0188 - val_precision_4: 0.9950 - val_recall_4: 1.0000 - val_accuracy: 0.9975\n"
          ],
          "name": "stdout"
        }
      ]
    },
    {
      "cell_type": "code",
      "metadata": {
        "colab": {
          "base_uri": "https://localhost:8080/",
          "height": 308
        },
        "id": "8in3KD6-8x_z",
        "outputId": "bc70a829-c840-4d93-e1b3-d4952de572c4"
      },
      "source": [
        "visualize_training_results(history_resnet_unfrozen, 4)"
      ],
      "id": "8in3KD6-8x_z",
      "execution_count": null,
      "outputs": [
        {
          "output_type": "display_data",
          "data": {
            "image/png": "[encoded data removed]",
            "text/plain": [
              "<Figure size 432x288 with 3 Axes>"
            ]
          },
          "metadata": {
            "tags": [],
            "needs_background": "light"
          }
        }
      ]
    },
    {
      "cell_type": "code",
      "metadata": {
        "colab": {
          "base_uri": "https://localhost:8080/"
        },
        "id": "C5MOtmLiDavP",
        "outputId": "1b6b6aec-8daf-47b0-f110-e9cbf181e918"
      },
      "source": [
        "resnet_train_eval_generator = ImageDataGenerator(rescale=1.0/255).flow_from_directory(\n",
        "    '/content/drive/MyDrive/colon_dataset/train',\n",
        "    color_mode='rgb',    # 3 channels\n",
        "    target_size=(224,224), \n",
        "    batch_size=20,\n",
        "    seed=20,\n",
        "    shuffle=False\n",
        ")\n",
        "resnet_validation_eval_generator = ImageDataGenerator(rescale=1.0/255).flow_from_directory(\n",
        "    '/content/drive/MyDrive/colon_dataset/validation',\n",
        "    color_mode='rgb',    # 3 channels\n",
        "    target_size=(224,224), \n",
        "    batch_size=20,\n",
        "    seed=20,\n",
        "    shuffle=False   \n",
        ")"
      ],
      "id": "C5MOtmLiDavP",
      "execution_count": null,
      "outputs": [
        {
          "output_type": "stream",
          "text": [
            "Found 16000 images belonging to 2 classes.\n",
            "Found 800 images belonging to 2 classes.\n"
          ],
          "name": "stdout"
        }
      ]
    },
    {
      "cell_type": "code",
      "metadata": {
        "colab": {
          "base_uri": "https://localhost:8080/"
        },
        "id": "64XEwi9bBWZ1",
        "outputId": "3de5b32d-b3a4-4ddc-b090-2cea13dba48e"
      },
      "source": [
        "preds_train_resnet = model_4.predict(resnet_train_eval_generator, verbose=1)\n",
        "preds_val_resnet = model_4.predict(resnet_validation_eval_generator, verbose=1)"
      ],
      "id": "64XEwi9bBWZ1",
      "execution_count": null,
      "outputs": [
        {
          "output_type": "stream",
          "text": [
            "800/800 [==============================] - 47s 57ms/step\n",
            "40/40 [==============================] - 2s 56ms/step\n"
          ],
          "name": "stdout"
        }
      ]
    },
    {
      "cell_type": "code",
      "metadata": {
        "colab": {
          "base_uri": "https://localhost:8080/",
          "height": 295
        },
        "id": "3XGsC-8DB6rB",
        "outputId": "aa94f926-a048-47d8-f180-80e14a194fb7"
      },
      "source": [
        "plot_confusion_matrix(resnet_train_eval_generator.labels, np.rint(preds_train_resnet))"
      ],
      "id": "3XGsC-8DB6rB",
      "execution_count": null,
      "outputs": [
        {
          "output_type": "display_data",
          "data": {
            "image/png": "[encoded data removed]",
            "text/plain": [
              "<Figure size 432x288 with 2 Axes>"
            ]
          },
          "metadata": {
            "tags": [],
            "needs_background": "light"
          }
        }
      ]
    },
    {
      "cell_type": "code",
      "metadata": {
        "id": "cyoM3WFzCw9B"
      },
      "source": [
        ""
      ],
      "id": "cyoM3WFzCw9B",
      "execution_count": null,
      "outputs": []
    }
  ]
}