{
  "nbformat": 4,
  "nbformat_minor": 5,
  "metadata": {
    "accelerator": "GPU",
    "colab": {
      "name": "colon cancer image",
      "provenance": [],
      "collapsed_sections": [],
      "machine_shape": "hm",
      "include_colab_link": true
    },
    "kernelspec": {
      "display_name": "Python 3",
      "language": "python",
      "name": "python3"
    },
    "language_info": {
      "codemirror_mode": {
        "name": "ipython",
        "version": 3
      },
      "file_extension": ".py",
      "mimetype": "text/x-python",
      "name": "python",
      "nbconvert_exporter": "python",
      "pygments_lexer": "ipython3",
      "version": "3.7.10"
    }
  },
  "cells": [
    {
      "cell_type": "markdown",
      "metadata": {
        "id": "view-in-github",
        "colab_type": "text"
      },
      "source": [
        "<a href=\"https://colab.research.google.com/github/edgarbarr1/colon-cancer-cnn/blob/main/colon_cancer_image.ipynb\" target=\"_parent\"><img src=\"https://colab.research.google.com/assets/colab-badge.svg\" alt=\"Open In Colab\"/></a>"
      ]
    },
    {
      "cell_type": "markdown",
      "metadata": {
        "id": "1b304e1a"
      },
      "source": [
        "# Colon Cancer #\n",
        "### _Predicting the outcomes of colon cells to predict cancer_ ###\n",
        "\n",
        "### Business Understanding ###\n",
        "Colon cancer has been deemed the number 3 most common cancer in the world, according to the World Cancer Research Fund. Based on this statistic, it is not a surprise to know that more approximately 19 million colonoscopies are perfeormed each year in the United States.\n",
        "\n",
        "Some experts believe that some of the main causes of this cancer is the Western food diet along with living a sedentary lifestyle as well as being obese. Unfortunately, according to the CDC, the US appears to be on an upward trend in obesity which in turn increses the likelihood of men and women to develop colorectal cancers.\n",
        "\n",
        "Although the morttality rate for the most part appears to be relatively low (80% survival rate), it is important to note that like everything, there is always something to improve with either accurate test results, the time it takes to report those results and the resources available to compile said results.\n",
        "\n",
        "Currently, as per the American Cancer Society, it takes 2-3 days to report the findings of a colonoscopy biopsy.\n",
        "\n",
        "Objective\n",
        "This notebook has the objective of finding out the population that is deeply affected by colon cancer and build a Convolutional Neural Network that can get close to the 1-2% accuracy that current tests. We will also strive to have an efficient model that can give accurate results faster than 2-3 days and ideally within the time frame of \"same-day\" results.\n",
        "\n",
        "Before doing so, we will look at some mortality rates among different populations and determine whether the economic status of a population affects the mortality rate of colon cancer.\n",
        "\n"
      ],
      "id": "1b304e1a"
    },
    {
      "cell_type": "code",
      "metadata": {
        "id": "f9116373"
      },
      "source": [
        "import pandas as pd\n",
        "import numpy as np\n",
        "import os\n",
        "import matplotlib.pyplot as plt\n",
        "import cv2\n",
        "import random\n",
        "\n",
        "import PIL\n",
        "import PIL.Image\n",
        "import pathlib\n",
        "# Packages to import and preprocess images\n",
        "import glob\n",
        "import random\n",
        "import shutil\n",
        "import tensorflow as tf\n",
        "from tensorflow.keras.preprocessing.image import ImageDataGenerator\n",
        "from google.colab import drive\n",
        "\n",
        "# Packages for our models\n",
        "from tensorflow.keras.models import Sequential\n",
        "from tensorflow.keras.layers import Activation, Dense, Flatten, Conv2D, MaxPooling2D, LeakyReLU\n",
        "from sklearn.metrics import confusion_matrix\n",
        "from keras.callbacks import EarlyStopping\n",
        "from tensorflow.keras.metrics import Precision, Recall\n",
        "from tensorflow.keras.layers import Dropout\n",
        "import seaborn as sns\n",
        "\n",
        "# Model performance\n",
        "from tensorflow.keras.callbacks import EarlyStopping, ModelCheckpoint\n",
        "import time\n",
        "\n",
        "%matplotlib inline"
      ],
      "id": "f9116373",
      "execution_count": 40,
      "outputs": []
    },
    {
      "cell_type": "code",
      "metadata": {
        "colab": {
          "base_uri": "https://localhost:8080/"
        },
        "id": "aIjBG7g1iuDj",
        "outputId": "d2993cb4-c617-424b-8377-eecaf86d48fa"
      },
      "source": [
        "drive.mount('/content/drive')"
      ],
      "id": "aIjBG7g1iuDj",
      "execution_count": 15,
      "outputs": [
        {
          "output_type": "stream",
          "text": [
            "Mounted at /content/drive\n"
          ],
          "name": "stdout"
        }
      ]
    },
    {
      "cell_type": "code",
      "metadata": {
        "colab": {
          "base_uri": "https://localhost:8080/"
        },
        "id": "bbd1156b",
        "outputId": "95fac02e-4e71-4098-d5c8-986f910a0040"
      },
      "source": [
        "print(tf.__version__)"
      ],
      "id": "bbd1156b",
      "execution_count": 16,
      "outputs": [
        {
          "output_type": "stream",
          "text": [
            "2.6.0\n"
          ],
          "name": "stdout"
        }
      ]
    },
    {
      "cell_type": "markdown",
      "metadata": {
        "id": "bEBW7pJx8JsH"
      },
      "source": [
        "# Standard global variables"
      ],
      "id": "bEBW7pJx8JsH"
    },
    {
      "cell_type": "code",
      "metadata": {
        "id": "-Q5tg9AD8_bY"
      },
      "source": [
        "EPOCHS = 15\n",
        "BATCH_SIZE = 20\n",
        "IMAGE_SIZE = (224,224)\n",
        "\n",
        "paths_to_jpeg = ['/content/drive/MyDrive/colon_dataset/NCT-CRC-HE-100K/TUM',\n",
        "                 '/content/drive/MyDrive/colon_dataset/NCT-CRC-HE-100K/NORM']\n",
        "\n",
        "separated_dirs = ['/content/drive/MyDrive/colon_dataset/train/normal',\n",
        "                  '/content/drive/MyDrive/colon_dataset/train/cancer',\n",
        "                  '/content/drive/MyDrive/colon_dataset/validation/cancer',\n",
        "                  '/content/drive/MyDrive/colon_dataset/validation/normal',\n",
        "                  '/content/drive/MyDrive/colon_dataset/test/normal',\n",
        "                  '/content/drive/MyDrive/colon_dataset/test/cancer']\n",
        "\n"
      ],
      "id": "-Q5tg9AD8_bY",
      "execution_count": 177,
      "outputs": []
    },
    {
      "cell_type": "markdown",
      "metadata": {
        "id": "GrotZLhcW-O3"
      },
      "source": [
        "# Defining our Functions\n"
      ],
      "id": "GrotZLhcW-O3"
    },
    {
      "cell_type": "markdown",
      "metadata": {
        "id": "YHMkLwY1XO8R"
      },
      "source": [
        "### Converting images from Tif to Jpeg"
      ],
      "id": "YHMkLwY1XO8R"
    },
    {
      "cell_type": "code",
      "metadata": {
        "id": "fjYf0z5hW9xk"
      },
      "source": [
        "def tif_to_jpeg(specified_path):\n",
        "  '''\n",
        "  Converts tif images to jpegs from specified path.\n",
        "  '''\n",
        "  for path in specified_path:\n",
        "    for root, dirs, files in os.walk(path, topdown=False,):\n",
        "      for name in files:\n",
        "          print(os.path.join(root, name))\n",
        "          if os.path.splitext(os.path.join(root, name))[1].lower() == \".tiff\":\n",
        "            if os.path.splitext(os.path.join(root, name))[1].lower() == \".tif\":\n",
        "              if os.path.isfile(os.path.splitext(os.path.join(root, name))[0] + \".jpg\"):\n",
        "                  print (\"A jpeg file already exists for %s\" % name)\n",
        "              # If a jpeg with the name does *NOT* exist, convert one from the tif.\n",
        "              else:\n",
        "                  outputfile = os.path.splitext(os.path.join(root, name))[0] + \".jpg\"\n",
        "                  try:\n",
        "                      im = PIL.Image.open(os.path.join(root, name))\n",
        "                      print (\"Converting jpeg for %s\" % name)\n",
        "                      im.thumbnail(im.size)\n",
        "                      im.save(outputfile, \"JPEG\", quality=100)\n",
        "                  except Exception as e: \n",
        "                    print(e)"
      ],
      "id": "fjYf0z5hW9xk",
      "execution_count": 18,
      "outputs": []
    },
    {
      "cell_type": "markdown",
      "metadata": {
        "id": "Vm_lt4UhXIlR"
      },
      "source": [
        "### Separating our files ###"
      ],
      "id": "Vm_lt4UhXIlR"
    },
    {
      "cell_type": "code",
      "metadata": {
        "id": "m0k6wBLz7ejb"
      },
      "source": [
        "def file_separation(directory_name):\n",
        "  '''\n",
        "  Subdirectory creation and file separation for the training, validation and testing subdirectories.\n",
        "  '''\n",
        "\n",
        "  for dir in directory_name:\n",
        "    if os.path.isdir(dir) is False:\n",
        "      os.makedirs(dir)\n",
        "\n",
        "  for image in random.sample(glob.glob('{}/*.jpg'.format(directory_name[0])), 8000):\n",
        "    shutil.move(image, '/content/drive/MyDrive/colon_dataset/train/cancer/') # make sure to put the correct path you want it to direct to\n",
        "  for image in random.sample(glob.glob('{}/*.jpg'.format(directory_name[1])), 8000):\n",
        "    shutil.move(image, '/content/drive/MyDrive/colon_dataset/train/normal/') # make sure to put the correct path you want it to direct to\n",
        "  for image in random.sample(glob.glob('{}/*.jpg'.format(directory_name[0])), 400):\n",
        "    shutil.move(image, '/content/drive/MyDrive/colon_dataset/validation/cancer/') # make sure to put the correct path you want it to direct to\n",
        "  for image in random.sample(glob.glob('{}/*.jpg'.format(directory_name[1])), 400):\n",
        "    shutil.move(image, '/content/drive/MyDrive/colon_dataset/validation/normal/') # make sure to put the correct path you want it to direct to\n",
        "  for image in random.sample(glob.glob('{}/*.jpg'.format(directory_name[0])), 360):\n",
        "      shutil.move(image, '/content/drive/MyDrive/colon_dataset/test/cancer') # make sure to put the correct path you want it to direct to\n",
        "  for image in random.sample(glob.glob('{}/*.jpg'.format(directory_name[1])), 360):\n",
        "    shutil.move(image, '/content/drive/MyDrive/colon_dataset/test/normal') # make sure to put the correct path you want it to direct to"
      ],
      "id": "m0k6wBLz7ejb",
      "execution_count": 19,
      "outputs": []
    },
    {
      "cell_type": "markdown",
      "metadata": {
        "id": "c81a4495"
      },
      "source": [
        "Deleted all folders from zenodo except NORM which is normal and TUM which is the cancer cells"
      ],
      "id": "c81a4495"
    },
    {
      "cell_type": "markdown",
      "metadata": {
        "id": "e778f70c"
      },
      "source": [
        "Inspiration for the function in the creation of the [directories](https://www.youtube.com/watch?v=_L2uYfVV48I)"
      ],
      "id": "e778f70c"
    },
    {
      "cell_type": "markdown",
      "metadata": {
        "id": "f3b87c4b"
      },
      "source": [
        "In order to have class balance in the dataset we will be using a total of 24,000 images for our model training, 1,800 items for the validation, and 1,720 images for our test dataset to generate predictions. This brings our total of images used to 27,520 images used in this Convolutional Neural Network."
      ],
      "id": "f3b87c4b"
    },
    {
      "cell_type": "code",
      "metadata": {
        "id": "Ibm97lLLlaME"
      },
      "source": [
        "# os.listdir()"
      ],
      "id": "Ibm97lLLlaME",
      "execution_count": 20,
      "outputs": []
    },
    {
      "cell_type": "code",
      "metadata": {
        "id": "21OZVddtFmmZ"
      },
      "source": [
        "# PIL.Image.open('/content/drive/MyDrive/colon_dataset/NCT-CRC-HE-100K/NORM/NORM-AAAKGLVQ.tif')"
      ],
      "id": "21OZVddtFmmZ",
      "execution_count": 21,
      "outputs": []
    },
    {
      "cell_type": "code",
      "metadata": {
        "id": "jyLRIKjumsaO"
      },
      "source": [
        "# normal_image_count = len(list(glob.glob('/content/drive/MyDrive/colon_dataset/NCT-CRC-HE-100K/NORM/*.tif')))\n",
        "# cancer_image_count = len(list(glob.glob('/content/drive/MyDrive/colon_dataset/NCT-CRC-HE-100K/TUM/*.tif')))\n",
        "# print('Normal images: {}'.format(normal_image_count))\n",
        "# print('Cancer images: {}'.format(cancer_image_count))"
      ],
      "id": "jyLRIKjumsaO",
      "execution_count": 22,
      "outputs": []
    },
    {
      "cell_type": "markdown",
      "metadata": {
        "id": "o_GqF8Ez7QeK"
      },
      "source": [
        "# Defining Visualization functions"
      ],
      "id": "o_GqF8Ez7QeK"
    },
    {
      "cell_type": "markdown",
      "metadata": {
        "id": "_1zLsfdp7rfA"
      },
      "source": [
        "### Confusion Matrix Visualization"
      ],
      "id": "_1zLsfdp7rfA"
    },
    {
      "cell_type": "code",
      "metadata": {
        "id": "Li8IaqGl7Uh5"
      },
      "source": [
        "def plot_confusion_matrix(y_true, y_pred):\n",
        "    cm = confusion_matrix(y_true, y_pred,)\n",
        "    \n",
        "    ax= plt.subplot()\n",
        "    # annot=True to annotate cells, fmt='g' to disable scientific notation\n",
        "    sns.heatmap(cm, annot=True, ax=ax, fmt='g', cmap='magma', linewidths=1, linecolor='black')\n",
        "\n",
        "    # labels, title and ticks\n",
        "    ax.set_xlabel('Predicted labels')\n",
        "    ax.set_ylabel('True labels')\n",
        "    ax.set_title('Confusion Matrix')\n",
        "    ax.xaxis.set_ticklabels(['NORMAL', 'CANCER'])\n",
        "    ax.yaxis.set_ticklabels(['NORMAL', 'CANCER'])\n",
        "    plt.show();"
      ],
      "id": "Li8IaqGl7Uh5",
      "execution_count": 23,
      "outputs": []
    },
    {
      "cell_type": "markdown",
      "metadata": {
        "id": "n4JfiVGn7_sS"
      },
      "source": [
        "### Training Visualizations"
      ],
      "id": "n4JfiVGn7_sS"
    },
    {
      "cell_type": "code",
      "metadata": {
        "id": "mcakgvIK7w7j"
      },
      "source": [
        "def visualize_training_results_1(history):\n",
        "    '''\n",
        "    From https://machinelearningmastery.com/display-deep-learning-model-training-history-in-keras/\n",
        "    \n",
        "    Input: keras history object (output from trained model)\n",
        "    '''\n",
        "    fig, (ax1, ax2, ax3) = plt.subplots(3, sharex=True)\n",
        "    fig.suptitle('Model Results')\n",
        "\n",
        "    # summarize history for accuracy\n",
        "    ax1.plot(history.history['recall'])\n",
        "    ax1.plot(history.history['val_recall'])\n",
        "    ax1.set_ylabel('Recall')\n",
        "    ax1.legend(['train', 'test'], loc='upper left')\n",
        "    # summarize history for loss\n",
        "    ax2.plot(history.history['loss'])\n",
        "    ax2.plot(history.history['val_loss'])\n",
        "    ax2.set_ylabel('Loss')\n",
        "    ax2.legend(['train', 'test'], loc='upper left')\n",
        "    \n",
        "    ax3.plot(history.history['precision'])\n",
        "    ax3.plot(history.history['val_precision'])\n",
        "    ax3.set_ylabel('Precision')\n",
        "    ax3.legend(['train', 'test'], loc='upper left')\n",
        "    \n",
        "    plt.xlabel('Epoch')\n",
        "    plt.show()\n",
        "    pass\n",
        "\n",
        "\n",
        "\n",
        "def visualize_training_results(history, iteration):\n",
        "    '''\n",
        "    From https://machinelearningmastery.com/display-deep-learning-model-training-history-in-keras/\n",
        "    \n",
        "    Input: keras history object (output from trained model)\n",
        "    '''\n",
        "    fig, (ax1, ax2, ax3) = plt.subplots(3, sharex=True)\n",
        "    fig.suptitle('Model Results')\n",
        "\n",
        "    # summarize history for accuracy\n",
        "    ax1.plot(history.history['recall_{}'.format(iteration)])\n",
        "    ax1.plot(history.history['val_recall_{}'.format(iteration)])\n",
        "    ax1.set_ylabel('Recall')\n",
        "    ax1.legend(['train', 'test'], loc='upper left')\n",
        "    # summarize history for loss\n",
        "    ax2.plot(history.history['loss'])\n",
        "    ax2.plot(history.history['val_loss'])\n",
        "    ax2.set_ylabel('Loss')\n",
        "    ax2.legend(['train', 'test'], loc='upper left')\n",
        "    \n",
        "    ax3.plot(history.history['precision_{}'.format(iteration)])\n",
        "    ax3.plot(history.history['val_precision_{}'.format(iteration)])\n",
        "    ax3.set_ylabel('Precision')\n",
        "    ax3.legend(['train', 'test'], loc='upper left')\n",
        "    \n",
        "    plt.xlabel('Epoch')\n",
        "    plt.show()\n",
        "    pass"
      ],
      "id": "mcakgvIK7w7j",
      "execution_count": 24,
      "outputs": []
    },
    {
      "cell_type": "markdown",
      "metadata": {
        "id": "0GXHINykmfj2"
      },
      "source": [
        "# Let's convert our images to jpegs"
      ],
      "id": "0GXHINykmfj2"
    },
    {
      "cell_type": "markdown",
      "metadata": {
        "id": "syF6mGXZkQFy"
      },
      "source": [
        "The images in the dataset are in TIF format. Let's convert the images into jpegs. We have fortunately already defined a function to do so."
      ],
      "id": "syF6mGXZkQFy"
    },
    {
      "cell_type": "code",
      "metadata": {
        "id": "ZjZTTwbskGaq"
      },
      "source": [
        "#tif_to_jpeg(paths_to_jpeg)"
      ],
      "id": "ZjZTTwbskGaq",
      "execution_count": 25,
      "outputs": []
    },
    {
      "cell_type": "markdown",
      "metadata": {
        "id": "dtVCWaN3Lknz"
      },
      "source": [
        "# Jpegs have been converted. Now separate into subdirectories."
      ],
      "id": "dtVCWaN3Lknz"
    },
    {
      "cell_type": "markdown",
      "metadata": {
        "id": "ArRWuyW8ZVSk"
      },
      "source": [
        "Now let's divide the images into subdirectories.\n",
        "Currently we have tif and jpeg duplicates in our directory. Now we will move the jpeg images to the newly created directories."
      ],
      "id": "ArRWuyW8ZVSk"
    },
    {
      "cell_type": "code",
      "metadata": {
        "id": "AuM-KBTu-ZWO"
      },
      "source": [
        "# file_separation(separated_dirs)"
      ],
      "id": "AuM-KBTu-ZWO",
      "execution_count": 26,
      "outputs": []
    },
    {
      "cell_type": "markdown",
      "metadata": {
        "id": "rtNqYMuWeIMt"
      },
      "source": [
        "# Image Data Generator #"
      ],
      "id": "rtNqYMuWeIMt"
    },
    {
      "cell_type": "markdown",
      "metadata": {
        "id": "hrjYntT5wlRo"
      },
      "source": [
        "Let's create an Image Generator to augment our training data and a separate generator for our validation data."
      ],
      "id": "hrjYntT5wlRo"
    },
    {
      "cell_type": "code",
      "metadata": {
        "id": "EmxTqUstUJTy"
      },
      "source": [
        "# Image augmentator for training data\n",
        "data_gen = ImageDataGenerator(\n",
        "    rescale = 1./255,\n",
        "    zoom_range = (0.85,1),\n",
        "    brightness_range = [0.5, 1.0],\n",
        "    horizontal_flip = True,\n",
        "    rotation_range = 45\n",
        ")\n",
        "\n",
        "# Image Data generator for the validation data\n",
        "valid_data_gen = ImageDataGenerator(\n",
        "    rescale = 1./255\n",
        ")\n",
        "\n",
        "test_gen = ImageDataGenerator(\n",
        "    rescale = 1./255\n",
        ")"
      ],
      "id": "EmxTqUstUJTy",
      "execution_count": 34,
      "outputs": []
    },
    {
      "cell_type": "code",
      "metadata": {
        "colab": {
          "base_uri": "https://localhost:8080/"
        },
        "id": "rL7yGbVjUJWR",
        "outputId": "f710d061-8d7e-4b7b-906b-2197534f3d04"
      },
      "source": [
        "# Generator that creates training data\n",
        "train_generator = data_gen.flow_from_directory(\n",
        "    '/content/drive/MyDrive/colon_dataset/train',\n",
        "    target_size = (224,224),\n",
        "    batch_size = BATCH_SIZE,\n",
        "    color_mode = 'rgb',\n",
        "    shuffle = True,\n",
        "    class_mode = 'binary',\n",
        "    seed = 20\n",
        ")\n",
        "\n",
        "# Generator that creates the validation generator\n",
        "validation_generator = valid_data_gen.flow_from_directory(\n",
        "    '/content/drive/MyDrive/colon_dataset/validation',\n",
        "    target_size = (224,224),\n",
        "    batch_size = BATCH_SIZE,\n",
        "    color_mode = 'rgb',\n",
        "    shuffle = True,\n",
        "    class_mode = 'binary',\n",
        "    seed = 20\n",
        ")\n",
        "\n",
        "# Evaluation Generator to create predictions and evaluate a model from training data\n",
        "eval_train_generator = ImageDataGenerator(rescale = 1./255).flow_from_directory(\n",
        "    '/content/drive/MyDrive/colon_dataset/train',\n",
        "    target_size = (224,224),\n",
        "    batch_size = BATCH_SIZE,\n",
        "    color_mode = 'rgb',\n",
        "    shuffle = False,\n",
        "    class_mode = 'binary',\n",
        "    seed = 21\n",
        ")\n",
        "\n",
        "# Evaluation Generator to create predictions and evaluate a model from validation data\n",
        "eval_validation_generator = ImageDataGenerator(rescale = 1./255).flow_from_directory(\n",
        "    '/content/drive/MyDrive/colon_dataset/validation',\n",
        "    target_size = (224,224),\n",
        "    batch_size = BATCH_SIZE,\n",
        "    color_mode = 'rgb',\n",
        "    shuffle = False,\n",
        "    class_mode = 'binary',\n",
        "    seed = 21\n",
        ")\n",
        "\n",
        "holdout_data = test_gen.flow_from_directory(\n",
        "    '/content/drive/MyDrive/colon_dataset/test',\n",
        "    target_size = (224,224),\n",
        "    batch_size = BATCH_SIZE,\n",
        "    color_mode = 'rgb',\n",
        "    shuffle = False,\n",
        "    class_mode = 'binary',\n",
        "    seed = 21\n",
        ")"
      ],
      "id": "rL7yGbVjUJWR",
      "execution_count": 35,
      "outputs": [
        {
          "output_type": "stream",
          "text": [
            "Found 16000 images belonging to 2 classes.\n",
            "Found 800 images belonging to 2 classes.\n",
            "Found 16000 images belonging to 2 classes.\n",
            "Found 800 images belonging to 2 classes.\n",
            "Found 720 images belonging to 2 classes.\n"
          ],
          "name": "stdout"
        }
      ]
    },
    {
      "cell_type": "markdown",
      "metadata": {
        "id": "ELNbZf1-nSnQ"
      },
      "source": [
        "Our amount of images checks out based on how many images were ported over to the proper subdirectory."
      ],
      "id": "ELNbZf1-nSnQ"
    },
    {
      "cell_type": "markdown",
      "metadata": {
        "id": "hLxqaKXjjhgG"
      },
      "source": [
        "# DataFrame to Save Model results"
      ],
      "id": "hLxqaKXjjhgG"
    },
    {
      "cell_type": "markdown",
      "metadata": {
        "id": "_5zb0Ro7nUB4"
      },
      "source": [
        "We will instantiate a DataFrame to save our model results to and then compare the metrics between the models."
      ],
      "id": "_5zb0Ro7nUB4"
    },
    {
      "cell_type": "code",
      "metadata": {
        "id": "mphy3lNjjgXK"
      },
      "source": [
        "performance_df = pd.DataFrame()"
      ],
      "id": "mphy3lNjjgXK",
      "execution_count": 36,
      "outputs": []
    },
    {
      "cell_type": "markdown",
      "metadata": {
        "id": "z1nt_pQslUqd"
      },
      "source": [
        "# Definining Callbacks"
      ],
      "id": "z1nt_pQslUqd"
    },
    {
      "cell_type": "markdown",
      "metadata": {
        "id": "aDkHBiwan54R"
      },
      "source": [
        "In order to save time and gather the best model results, we will define some callbacks such as early stop, which will stop a model after 3 epochs of no imporvement in our validation loss. We will also instantiate our Model Checkpoint that will monitor our validation loss and will save our best weights."
      ],
      "id": "aDkHBiwan54R"
    },
    {
      "cell_type": "code",
      "metadata": {
        "id": "3vUFS3hclTqi"
      },
      "source": [
        "early_stop = EarlyStopping(monitor='val_loss', patience=2,\n",
        "                           mode='auto')\n",
        "checkpoint = ModelCheckpoint('/content/drive/MyDrive/colon_dataset/checkpoint',\n",
        "                             monitor='val_loss',\n",
        "                             verbose = 1,\n",
        "                             save_best_only=True)"
      ],
      "id": "3vUFS3hclTqi",
      "execution_count": 37,
      "outputs": []
    },
    {
      "cell_type": "markdown",
      "metadata": {
        "id": "b6eb164b"
      },
      "source": [
        "# Baseline Model"
      ],
      "id": "b6eb164b"
    },
    {
      "cell_type": "markdown",
      "metadata": {
        "id": "-ycD3pq5C-Vb"
      },
      "source": [
        "Let's create our first model based on the data generator that we created above.\n",
        "\n",
        "Our first model will be a rather simple one with the following layers:\n",
        "\n",
        "\n",
        "\n",
        "\n",
        "1.   A convolutional layer with a (2,2) kernel size or the height and width of our convolutional window.\n",
        "2.   A Max Pooling Layer that with a height and width of (2,2).\n",
        "1.   A Dense Layer with a 32 output size\n",
        "2.   Finally a Dense Layer with a 1 output size and a sigmoid activation function.\n",
        "\n",
        "\n",
        "\n",
        "\n",
        "\n",
        "\n",
        "\n",
        "\n"
      ],
      "id": "-ycD3pq5C-Vb"
    },
    {
      "cell_type": "code",
      "metadata": {
        "id": "a83a3761"
      },
      "source": [
        "model = Sequential()\n",
        "model.add(Conv2D(32, kernel_size=(2,2), activation='relu', padding='same', input_shape = (224,224,3)))\n",
        "model.add(MaxPooling2D(2,2))\n",
        "model.add(Flatten())\n",
        "model.add(Dense(32, activation='relu'))\n",
        "model.add(Dense(1, activation='sigmoid'))"
      ],
      "id": "a83a3761",
      "execution_count": 38,
      "outputs": []
    },
    {
      "cell_type": "code",
      "metadata": {
        "colab": {
          "base_uri": "https://localhost:8080/"
        },
        "id": "8b024ebc",
        "outputId": "eac84bf6-0cdc-433a-c5f1-e1da73ad4e0b"
      },
      "source": [
        "model.summary()"
      ],
      "id": "8b024ebc",
      "execution_count": 39,
      "outputs": [
        {
          "output_type": "stream",
          "text": [
            "Model: \"sequential\"\n",
            "_________________________________________________________________\n",
            "Layer (type)                 Output Shape              Param #   \n",
            "=================================================================\n",
            "conv2d (Conv2D)              (None, 224, 224, 32)      416       \n",
            "_________________________________________________________________\n",
            "max_pooling2d (MaxPooling2D) (None, 112, 112, 32)      0         \n",
            "_________________________________________________________________\n",
            "flatten (Flatten)            (None, 401408)            0         \n",
            "_________________________________________________________________\n",
            "dense (Dense)                (None, 32)                12845088  \n",
            "_________________________________________________________________\n",
            "dense_1 (Dense)              (None, 1)                 33        \n",
            "=================================================================\n",
            "Total params: 12,845,537\n",
            "Trainable params: 12,845,537\n",
            "Non-trainable params: 0\n",
            "_________________________________________________________________\n"
          ],
          "name": "stdout"
        }
      ]
    },
    {
      "cell_type": "markdown",
      "metadata": {
        "id": "Tf8K_wEwpICQ"
      },
      "source": [
        "We will be evaluating our model's performance by using Precision, Recall, and Accuracy. Though, we will be paying close attention to Recall because we want the highest amount of true positives and false negatives in our results."
      ],
      "id": "Tf8K_wEwpICQ"
    },
    {
      "cell_type": "code",
      "metadata": {
        "id": "c5d56d50"
      },
      "source": [
        "model.compile(loss='binary_crossentropy', optimizer='adam', metrics=[Precision(), Recall(), 'accuracy'])"
      ],
      "id": "c5d56d50",
      "execution_count": 41,
      "outputs": []
    },
    {
      "cell_type": "code",
      "metadata": {
        "colab": {
          "base_uri": "https://localhost:8080/"
        },
        "id": "414194a3",
        "outputId": "28aefa13-9ca3-47c0-fd6f-877884df8d12"
      },
      "source": [
        "start = time.time()\n",
        "history = model.fit(x = train_generator,\n",
        "                    validation_data = validation_generator,\n",
        "                    epochs = EPOCHS,\n",
        "                    steps_per_epoch = 50,\n",
        "                    callbacks = [early_stop,checkpoint])\n",
        "end = time.time()\n",
        "model_time = end - start # get time it took our model to run/train"
      ],
      "id": "414194a3",
      "execution_count": 42,
      "outputs": [
        {
          "output_type": "stream",
          "text": [
            "Epoch 1/15\n",
            "50/50 [==============================] - 466s 9s/step - loss: 0.9519 - precision: 0.5553 - recall: 0.5318 - accuracy: 0.5780 - val_loss: 1.1605 - val_precision: 0.5019 - val_recall: 1.0000 - val_accuracy: 0.5038\n",
            "\n",
            "Epoch 00001: val_loss improved from inf to 1.16046, saving model to /content/drive/MyDrive/colon_dataset/checkpoint\n",
            "INFO:tensorflow:Assets written to: /content/drive/MyDrive/colon_dataset/checkpoint/assets\n",
            "Epoch 2/15\n",
            "50/50 [==============================] - 240s 5s/step - loss: 0.7136 - precision: 0.5547 - recall: 0.6178 - accuracy: 0.5750 - val_loss: 0.6698 - val_precision: 0.8986 - val_recall: 0.1550 - val_accuracy: 0.5688\n",
            "\n",
            "Epoch 00002: val_loss improved from 1.16046 to 0.66982, saving model to /content/drive/MyDrive/colon_dataset/checkpoint\n",
            "INFO:tensorflow:Assets written to: /content/drive/MyDrive/colon_dataset/checkpoint/assets\n",
            "Epoch 3/15\n",
            "50/50 [==============================] - 225s 5s/step - loss: 0.6650 - precision: 0.5670 - recall: 0.8772 - accuracy: 0.5870 - val_loss: 0.6596 - val_precision: 0.5310 - val_recall: 0.9200 - val_accuracy: 0.5537\n",
            "\n",
            "Epoch 00003: val_loss improved from 0.66982 to 0.65960, saving model to /content/drive/MyDrive/colon_dataset/checkpoint\n",
            "INFO:tensorflow:Assets written to: /content/drive/MyDrive/colon_dataset/checkpoint/assets\n",
            "Epoch 4/15\n",
            "50/50 [==============================] - 220s 4s/step - loss: 0.6669 - precision: 0.5963 - recall: 0.8261 - accuracy: 0.6290 - val_loss: 0.6420 - val_precision: 0.6446 - val_recall: 0.7800 - val_accuracy: 0.6750\n",
            "\n",
            "Epoch 00004: val_loss improved from 0.65960 to 0.64196, saving model to /content/drive/MyDrive/colon_dataset/checkpoint\n",
            "INFO:tensorflow:Assets written to: /content/drive/MyDrive/colon_dataset/checkpoint/assets\n",
            "Epoch 5/15\n",
            "50/50 [==============================] - 206s 4s/step - loss: 0.6577 - precision: 0.6138 - recall: 0.7848 - accuracy: 0.6540 - val_loss: 0.6571 - val_precision: 0.5424 - val_recall: 0.9275 - val_accuracy: 0.5725\n",
            "\n",
            "Epoch 00005: val_loss did not improve from 0.64196\n",
            "Epoch 6/15\n",
            "50/50 [==============================] - 195s 4s/step - loss: 0.6489 - precision: 0.6115 - recall: 0.7933 - accuracy: 0.6390 - val_loss: 0.6259 - val_precision: 0.6165 - val_recall: 0.8600 - val_accuracy: 0.6625\n",
            "\n",
            "Epoch 00006: val_loss improved from 0.64196 to 0.62591, saving model to /content/drive/MyDrive/colon_dataset/checkpoint\n",
            "INFO:tensorflow:Assets written to: /content/drive/MyDrive/colon_dataset/checkpoint/assets\n",
            "Epoch 7/15\n",
            "50/50 [==============================] - 178s 4s/step - loss: 0.6727 - precision: 0.6205 - recall: 0.4247 - accuracy: 0.5950 - val_loss: 0.6940 - val_precision: 1.0000 - val_recall: 0.0025 - val_accuracy: 0.5013\n",
            "\n",
            "Epoch 00007: val_loss did not improve from 0.62591\n",
            "Epoch 8/15\n",
            "50/50 [==============================] - 175s 4s/step - loss: 0.6975 - precision: 0.0000e+00 - recall: 0.0000e+00 - accuracy: 0.4610 - val_loss: 0.6938 - val_precision: 0.0000e+00 - val_recall: 0.0000e+00 - val_accuracy: 0.5000\n",
            "\n",
            "Epoch 00008: val_loss did not improve from 0.62591\n"
          ],
          "name": "stdout"
        }
      ]
    },
    {
      "cell_type": "code",
      "metadata": {
        "id": "VEABSmW2kiHw",
        "colab": {
          "base_uri": "https://localhost:8080/",
          "height": 308
        },
        "outputId": "bd8bd831-114f-4fd5-8118-e98c3afadadb"
      },
      "source": [
        "visualize_training_results_1(history)"
      ],
      "id": "VEABSmW2kiHw",
      "execution_count": 43,
      "outputs": [
        {
          "output_type": "display_data",
          "data": {
            "image/png": "[encoded data removed]",
            "text/plain": [
              "<Figure size 432x288 with 3 Axes>"
            ]
          },
          "metadata": {
            "needs_background": "light"
          }
        }
      ]
    },
    {
      "cell_type": "code",
      "metadata": {
        "colab": {
          "base_uri": "https://localhost:8080/"
        },
        "id": "Lq2hv_aCMx5F",
        "outputId": "0715d38a-2459-4d48-f74b-6f2c1c9da783"
      },
      "source": [
        "train_model_metrics = model.evaluate(eval_train_generator, verbose=1)\n",
        "train_model_metrics"
      ],
      "id": "Lq2hv_aCMx5F",
      "execution_count": 47,
      "outputs": [
        {
          "output_type": "stream",
          "text": [
            "800/800 [==============================] - 45s 56ms/step - loss: 0.6938 - precision: 0.6000 - recall: 3.7500e-04 - accuracy: 0.5001\n"
          ],
          "name": "stdout"
        }
      ]
    },
    {
      "cell_type": "code",
      "metadata": {
        "colab": {
          "base_uri": "https://localhost:8080/"
        },
        "id": "8cLPr2OOzQIs",
        "outputId": "72d3bb2c-5aea-4aa1-8c6d-f41e96ba40b9"
      },
      "source": [
        "val_model_metrics = model.evaluate(eval_validation_generator,verbose=1)\n",
        "val_model_metrics"
      ],
      "id": "8cLPr2OOzQIs",
      "execution_count": 49,
      "outputs": [
        {
          "output_type": "stream",
          "text": [
            "40/40 [==============================] - 2s 55ms/step - loss: 0.6938 - precision: 0.0000e+00 - recall: 0.0000e+00 - accuracy: 0.5000\n"
          ],
          "name": "stdout"
        }
      ]
    },
    {
      "cell_type": "markdown",
      "metadata": {
        "id": "BB7SHaPWx0L2"
      },
      "source": [
        "It does not appear as though our model learned much from the images, though that is to be expected as it is a very simple model and does not learn much from the images."
      ],
      "id": "BB7SHaPWx0L2"
    },
    {
      "cell_type": "markdown",
      "metadata": {
        "id": "pvtfTajtzymg"
      },
      "source": [
        "Let's save these results."
      ],
      "id": "pvtfTajtzymg"
    },
    {
      "cell_type": "code",
      "metadata": {
        "id": "febWJjiZOjYl",
        "colab": {
          "base_uri": "https://localhost:8080/",
          "height": 111
        },
        "outputId": "5445cc6d-42b7-4eaf-9624-2a8f80a8c855"
      },
      "source": [
        "performance_df = pd.DataFrame(columns=['model', 'loss', 'precision', 'recall', 'accuracy'])\n",
        "performance_df.loc[len(performance_df.index)] = ['model_train'] + train_model_metrics\n",
        "performance_df.loc[len(performance_df.index)] = ['model_valid'] + val_model_metrics\n",
        "performance_df.head()"
      ],
      "id": "febWJjiZOjYl",
      "execution_count": 73,
      "outputs": [
        {
          "output_type": "execute_result",
          "data": {
            "text/html": [
              "<div>\n",
              "<style scoped>\n",
              "    .dataframe tbody tr th:only-of-type {\n",
              "        vertical-align: middle;\n",
              "    }\n",
              "\n",
              "    .dataframe tbody tr th {\n",
              "        vertical-align: top;\n",
              "    }\n",
              "\n",
              "    .dataframe thead th {\n",
              "        text-align: right;\n",
              "    }\n",
              "</style>\n",
              "<table border=\"1\" class=\"dataframe\">\n",
              "  <thead>\n",
              "    <tr style=\"text-align: right;\">\n",
              "      <th></th>\n",
              "      <th>model</th>\n",
              "      <th>loss</th>\n",
              "      <th>precision</th>\n",
              "      <th>recall</th>\n",
              "      <th>accuracy</th>\n",
              "    </tr>\n",
              "  </thead>\n",
              "  <tbody>\n",
              "    <tr>\n",
              "      <th>0</th>\n",
              "      <td>model_train</td>\n",
              "      <td>0.693813</td>\n",
              "      <td>0.6</td>\n",
              "      <td>0.000375</td>\n",
              "      <td>0.500063</td>\n",
              "    </tr>\n",
              "    <tr>\n",
              "      <th>1</th>\n",
              "      <td>model_valid</td>\n",
              "      <td>0.693824</td>\n",
              "      <td>0.0</td>\n",
              "      <td>0.000000</td>\n",
              "      <td>0.500000</td>\n",
              "    </tr>\n",
              "  </tbody>\n",
              "</table>\n",
              "</div>"
            ],
            "text/plain": [
              "         model      loss  precision    recall  accuracy\n",
              "0  model_train  0.693813        0.6  0.000375  0.500063\n",
              "1  model_valid  0.693824        0.0  0.000000  0.500000"
            ]
          },
          "metadata": {},
          "execution_count": 73
        }
      ]
    },
    {
      "cell_type": "code",
      "metadata": {
        "id": "55RBGMBF2bUU"
      },
      "source": [
        "performance_df['time_to_train'] = model_time"
      ],
      "id": "55RBGMBF2bUU",
      "execution_count": 74,
      "outputs": []
    },
    {
      "cell_type": "code",
      "metadata": {
        "colab": {
          "base_uri": "https://localhost:8080/",
          "height": 111
        },
        "id": "sfvaUsC1OjbO",
        "outputId": "22c2a872-cd3a-4068-973c-5e45ff1ab3cf"
      },
      "source": [
        "performance_df.head()"
      ],
      "id": "sfvaUsC1OjbO",
      "execution_count": 90,
      "outputs": [
        {
          "output_type": "execute_result",
          "data": {
            "text/html": [
              "<div>\n",
              "<style scoped>\n",
              "    .dataframe tbody tr th:only-of-type {\n",
              "        vertical-align: middle;\n",
              "    }\n",
              "\n",
              "    .dataframe tbody tr th {\n",
              "        vertical-align: top;\n",
              "    }\n",
              "\n",
              "    .dataframe thead th {\n",
              "        text-align: right;\n",
              "    }\n",
              "</style>\n",
              "<table border=\"1\" class=\"dataframe\">\n",
              "  <thead>\n",
              "    <tr style=\"text-align: right;\">\n",
              "      <th></th>\n",
              "      <th>model</th>\n",
              "      <th>loss</th>\n",
              "      <th>precision</th>\n",
              "      <th>recall</th>\n",
              "      <th>accuracy</th>\n",
              "      <th>time_to_train</th>\n",
              "      <th>time_to_predict</th>\n",
              "    </tr>\n",
              "  </thead>\n",
              "  <tbody>\n",
              "    <tr>\n",
              "      <th>0</th>\n",
              "      <td>model_train</td>\n",
              "      <td>0.693813</td>\n",
              "      <td>0.6</td>\n",
              "      <td>0.000375</td>\n",
              "      <td>0.500063</td>\n",
              "      <td>1926.035368</td>\n",
              "      <td>44.777210</td>\n",
              "    </tr>\n",
              "    <tr>\n",
              "      <th>1</th>\n",
              "      <td>model_valid</td>\n",
              "      <td>0.693824</td>\n",
              "      <td>0.0</td>\n",
              "      <td>0.000000</td>\n",
              "      <td>0.500000</td>\n",
              "      <td>1926.035368</td>\n",
              "      <td>2.325076</td>\n",
              "    </tr>\n",
              "  </tbody>\n",
              "</table>\n",
              "</div>"
            ],
            "text/plain": [
              "         model      loss  precision  ...  accuracy  time_to_train  time_to_predict\n",
              "0  model_train  0.693813        0.6  ...  0.500063    1926.035368        44.777210\n",
              "1  model_valid  0.693824        0.0  ...  0.500000    1926.035368         2.325076\n",
              "\n",
              "[2 rows x 7 columns]"
            ]
          },
          "metadata": {},
          "execution_count": 90
        }
      ]
    },
    {
      "cell_type": "code",
      "metadata": {
        "id": "TDXulPclMxy-",
        "colab": {
          "base_uri": "https://localhost:8080/"
        },
        "outputId": "e206f059-093e-4dba-c033-d22e28a9ad77"
      },
      "source": [
        "training_start = time.time()\n",
        "preds_train_1 = model.predict(eval_train_generator, verbose=1)\n",
        "training_end = time.time()\n",
        "\n",
        "validation_start = time.time()\n",
        "preds_val_1 = model.predict(eval_validation_generator, verbose = 1)\n",
        "validation_end = time.time()\n",
        "\n",
        "training_time = training_end - training_start\n",
        "validation_time = validation_end - validation_start"
      ],
      "id": "TDXulPclMxy-",
      "execution_count": 91,
      "outputs": [
        {
          "output_type": "stream",
          "text": [
            "800/800 [==============================] - 44s 55ms/step\n",
            "40/40 [==============================] - 2s 55ms/step\n"
          ],
          "name": "stdout"
        }
      ]
    },
    {
      "cell_type": "code",
      "metadata": {
        "colab": {
          "base_uri": "https://localhost:8080/",
          "height": 111
        },
        "id": "FPhKeGSC4NBN",
        "outputId": "b0633c51-b2ab-444e-874f-6825c3219b97"
      },
      "source": [
        "performance_df.at[0,'time_to_predict'] = training_time\n",
        "performance_df.at[1,'time_to_predict'] = validation_time\n",
        "performance_df"
      ],
      "id": "FPhKeGSC4NBN",
      "execution_count": 93,
      "outputs": [
        {
          "output_type": "execute_result",
          "data": {
            "text/html": [
              "<div>\n",
              "<style scoped>\n",
              "    .dataframe tbody tr th:only-of-type {\n",
              "        vertical-align: middle;\n",
              "    }\n",
              "\n",
              "    .dataframe tbody tr th {\n",
              "        vertical-align: top;\n",
              "    }\n",
              "\n",
              "    .dataframe thead th {\n",
              "        text-align: right;\n",
              "    }\n",
              "</style>\n",
              "<table border=\"1\" class=\"dataframe\">\n",
              "  <thead>\n",
              "    <tr style=\"text-align: right;\">\n",
              "      <th></th>\n",
              "      <th>model</th>\n",
              "      <th>loss</th>\n",
              "      <th>precision</th>\n",
              "      <th>recall</th>\n",
              "      <th>accuracy</th>\n",
              "      <th>time_to_train</th>\n",
              "      <th>time_to_predict</th>\n",
              "    </tr>\n",
              "  </thead>\n",
              "  <tbody>\n",
              "    <tr>\n",
              "      <th>0</th>\n",
              "      <td>model_train</td>\n",
              "      <td>0.693813</td>\n",
              "      <td>0.6</td>\n",
              "      <td>0.000375</td>\n",
              "      <td>0.500063</td>\n",
              "      <td>1926.035368</td>\n",
              "      <td>44.241322</td>\n",
              "    </tr>\n",
              "    <tr>\n",
              "      <th>1</th>\n",
              "      <td>model_valid</td>\n",
              "      <td>0.693824</td>\n",
              "      <td>0.0</td>\n",
              "      <td>0.000000</td>\n",
              "      <td>0.500000</td>\n",
              "      <td>1926.035368</td>\n",
              "      <td>2.285456</td>\n",
              "    </tr>\n",
              "  </tbody>\n",
              "</table>\n",
              "</div>"
            ],
            "text/plain": [
              "         model      loss  precision  ...  accuracy  time_to_train  time_to_predict\n",
              "0  model_train  0.693813        0.6  ...  0.500063    1926.035368        44.241322\n",
              "1  model_valid  0.693824        0.0  ...  0.500000    1926.035368         2.285456\n",
              "\n",
              "[2 rows x 7 columns]"
            ]
          },
          "metadata": {},
          "execution_count": 93
        }
      ]
    },
    {
      "cell_type": "code",
      "metadata": {
        "colab": {
          "base_uri": "https://localhost:8080/",
          "height": 295
        },
        "id": "xzZdvoCdOtNd",
        "outputId": "e0882ef6-f080-4626-82fd-ee231db09fe6"
      },
      "source": [
        "plot_confusion_matrix(eval_train_generator.labels, np.rint(preds_train_1))"
      ],
      "id": "xzZdvoCdOtNd",
      "execution_count": 94,
      "outputs": [
        {
          "output_type": "display_data",
          "data": {
            "image/png": "[encoded data removed]",
            "text/plain": [
              "<Figure size 432x288 with 2 Axes>"
            ]
          },
          "metadata": {
            "needs_background": "light"
          }
        }
      ]
    },
    {
      "cell_type": "code",
      "metadata": {
        "id": "4Ap7rMoG2LWQ",
        "colab": {
          "base_uri": "https://localhost:8080/",
          "height": 295
        },
        "outputId": "86d16c71-39bd-4b06-ce4a-687335e01577"
      },
      "source": [
        "plot_confusion_matrix(eval_validation_generator.labels, np.rint(preds_val_1))"
      ],
      "id": "4Ap7rMoG2LWQ",
      "execution_count": 95,
      "outputs": [
        {
          "output_type": "display_data",
          "data": {
            "image/png": "[encoded data removed]",
            "text/plain": [
              "<Figure size 432x288 with 2 Axes>"
            ]
          },
          "metadata": {
            "needs_background": "light"
          }
        }
      ]
    },
    {
      "cell_type": "markdown",
      "metadata": {
        "id": "IMH0mWCMTBJL"
      },
      "source": [
        "As per the confusion matrix above, the model appears to be predicting, for the most part, NORMAL values only. This can be attributed to the fact that we have a very shallow Neural Network that is not able to pickup the very fine details of the images and therefore attributing every image as NORMAL."
      ],
      "id": "IMH0mWCMTBJL"
    },
    {
      "cell_type": "code",
      "metadata": {
        "id": "e9kJQQTV_R2L"
      },
      "source": [
        "# performance_df.to_csv('/content/drive/MyDrive/colon_dataset/performance.csv')"
      ],
      "id": "e9kJQQTV_R2L",
      "execution_count": 96,
      "outputs": []
    },
    {
      "cell_type": "markdown",
      "metadata": {
        "id": "PVRb3HwlPF0S"
      },
      "source": [
        "# Model 2 #"
      ],
      "id": "PVRb3HwlPF0S"
    },
    {
      "cell_type": "markdown",
      "metadata": {
        "id": "MFefEi4S2eue"
      },
      "source": [
        "We will be adding to our first baseline model by adding more convolutional layers and one more MaxPooling Layer. We will also add one more Dense layer using LeakyReLU as the activation function."
      ],
      "id": "MFefEi4S2eue"
    },
    {
      "cell_type": "code",
      "metadata": {
        "id": "Ly2YLvg1G7r9"
      },
      "source": [
        "model_2 = Sequential()\n",
        "model_2.add(Conv2D(32, kernel_size=(2,2), padding='valid', input_shape = (224,224,3)))\n",
        "model_2.add(MaxPooling2D(2,2))\n",
        "model_2.add(Conv2D(32, kernel_size=(2,2), padding='same', activation='relu'))\n",
        "model_2.add(Conv2D(32, kernel_size=(2,2), padding='same', activation='relu'))\n",
        "model_2.add(MaxPooling2D(2,2))\n",
        "model_2.add(Flatten())\n",
        "model_2.add(Dense(128, activation=LeakyReLU(alpha=(.3))))\n",
        "model_2.add(Dropout(.20))\n",
        "model_2.add(Dense(128, activation='relu'))\n",
        "model_2.add(Dense(1, activation='sigmoid'))"
      ],
      "id": "Ly2YLvg1G7r9",
      "execution_count": 97,
      "outputs": []
    },
    {
      "cell_type": "code",
      "metadata": {
        "id": "DdOdfAZRG7ud",
        "colab": {
          "base_uri": "https://localhost:8080/"
        },
        "outputId": "0fc90b4b-06ba-4017-827e-4777117e00c3"
      },
      "source": [
        "model_2.summary()"
      ],
      "id": "DdOdfAZRG7ud",
      "execution_count": 98,
      "outputs": [
        {
          "output_type": "stream",
          "text": [
            "Model: \"sequential_1\"\n",
            "_________________________________________________________________\n",
            "Layer (type)                 Output Shape              Param #   \n",
            "=================================================================\n",
            "conv2d_1 (Conv2D)            (None, 223, 223, 32)      416       \n",
            "_________________________________________________________________\n",
            "max_pooling2d_1 (MaxPooling2 (None, 111, 111, 32)      0         \n",
            "_________________________________________________________________\n",
            "conv2d_2 (Conv2D)            (None, 111, 111, 32)      4128      \n",
            "_________________________________________________________________\n",
            "conv2d_3 (Conv2D)            (None, 111, 111, 32)      4128      \n",
            "_________________________________________________________________\n",
            "max_pooling2d_2 (MaxPooling2 (None, 55, 55, 32)        0         \n",
            "_________________________________________________________________\n",
            "flatten_1 (Flatten)          (None, 96800)             0         \n",
            "_________________________________________________________________\n",
            "dense_2 (Dense)              (None, 128)               12390528  \n",
            "_________________________________________________________________\n",
            "dropout (Dropout)            (None, 128)               0         \n",
            "_________________________________________________________________\n",
            "dense_3 (Dense)              (None, 128)               16512     \n",
            "_________________________________________________________________\n",
            "dense_4 (Dense)              (None, 1)                 129       \n",
            "=================================================================\n",
            "Total params: 12,415,841\n",
            "Trainable params: 12,415,841\n",
            "Non-trainable params: 0\n",
            "_________________________________________________________________\n"
          ],
          "name": "stdout"
        }
      ]
    },
    {
      "cell_type": "code",
      "metadata": {
        "id": "b2fnTZD5G7xC"
      },
      "source": [
        "model_2.compile(loss='binary_crossentropy', optimizer='adam', metrics=[Precision(), Recall(), 'accuracy'])"
      ],
      "id": "b2fnTZD5G7xC",
      "execution_count": 100,
      "outputs": []
    },
    {
      "cell_type": "code",
      "metadata": {
        "id": "5AukokUjG7zc",
        "colab": {
          "base_uri": "https://localhost:8080/"
        },
        "outputId": "e4e130c5-37b8-46e6-b4b5-d466a2d0e6ca"
      },
      "source": [
        "start = time.time()\n",
        "history_2 = model_2.fit(\n",
        "    x = train_generator,\n",
        "    validation_data = validation_generator,\n",
        "    epochs = 15,\n",
        "    callbacks = [checkpoint,early_stop]\n",
        ")\n",
        "end = time.time()\n",
        "\n",
        "model_2_train_time = end - start"
      ],
      "id": "5AukokUjG7zc",
      "execution_count": 101,
      "outputs": [
        {
          "output_type": "stream",
          "text": [
            "Epoch 1/15\n",
            "800/800 [==============================] - 210s 261ms/step - loss: 0.4406 - precision_1: 0.7775 - recall_1: 0.8305 - accuracy: 0.7964 - val_loss: 0.7701 - val_precision_1: 0.9793 - val_recall_1: 0.4725 - val_accuracy: 0.7312\n",
            "\n",
            "Epoch 00001: val_loss did not improve from 0.62591\n",
            "Epoch 2/15\n",
            "800/800 [==============================] - 210s 262ms/step - loss: 0.3107 - precision_1: 0.8492 - recall_1: 0.8951 - accuracy: 0.8681 - val_loss: 0.2757 - val_precision_1: 0.8551 - val_recall_1: 0.8850 - val_accuracy: 0.8675\n",
            "\n",
            "Epoch 00002: val_loss improved from 0.62591 to 0.27574, saving model to /content/drive/MyDrive/colon_dataset/checkpoint\n"
          ],
          "name": "stdout"
        },
        {
          "output_type": "stream",
          "text": [
            "WARNING:absl:Found untraced functions such as leaky_re_lu_layer_call_and_return_conditional_losses, leaky_re_lu_layer_call_fn, leaky_re_lu_layer_call_fn, leaky_re_lu_layer_call_and_return_conditional_losses, leaky_re_lu_layer_call_and_return_conditional_losses while saving (showing 5 of 5). These functions will not be directly callable after loading.\n"
          ],
          "name": "stderr"
        },
        {
          "output_type": "stream",
          "text": [
            "INFO:tensorflow:Assets written to: /content/drive/MyDrive/colon_dataset/checkpoint/assets\n"
          ],
          "name": "stdout"
        },
        {
          "output_type": "stream",
          "text": [
            "INFO:tensorflow:Assets written to: /content/drive/MyDrive/colon_dataset/checkpoint/assets\n"
          ],
          "name": "stderr"
        },
        {
          "output_type": "stream",
          "text": [
            "Epoch 3/15\n",
            "800/800 [==============================] - 211s 264ms/step - loss: 0.2436 - precision_1: 0.8850 - recall_1: 0.9165 - accuracy: 0.8987 - val_loss: 0.7645 - val_precision_1: 0.9867 - val_recall_1: 0.5575 - val_accuracy: 0.7750\n",
            "\n",
            "Epoch 00003: val_loss did not improve from 0.27574\n",
            "Epoch 4/15\n",
            "800/800 [==============================] - 210s 263ms/step - loss: 0.2171 - precision_1: 0.9012 - recall_1: 0.9309 - accuracy: 0.9144 - val_loss: 0.3066 - val_precision_1: 0.9759 - val_recall_1: 0.7100 - val_accuracy: 0.8462\n",
            "\n",
            "Epoch 00004: val_loss did not improve from 0.27574\n"
          ],
          "name": "stdout"
        }
      ]
    },
    {
      "cell_type": "code",
      "metadata": {
        "id": "OcY2JC2uuk1D",
        "colab": {
          "base_uri": "https://localhost:8080/",
          "height": 308
        },
        "outputId": "ddc6bfaf-4840-4383-c78d-d80f215a132d"
      },
      "source": [
        "visualize_training_results(history_2, 1)"
      ],
      "id": "OcY2JC2uuk1D",
      "execution_count": 149,
      "outputs": [
        {
          "output_type": "display_data",
          "data": {
            "image/png": "[encoded data removed]",
            "text/plain": [
              "<Figure size 432x288 with 3 Axes>"
            ]
          },
          "metadata": {
            "needs_background": "light"
          }
        }
      ]
    },
    {
      "cell_type": "code",
      "metadata": {
        "id": "AzcEdAZSOXye",
        "colab": {
          "base_uri": "https://localhost:8080/"
        },
        "outputId": "a53909db-9fa7-4cdf-ddb0-0dfa360c0835"
      },
      "source": [
        "model_metrics_train = model_2.evaluate(eval_train_generator, verbose=1)\n",
        "model_metrics_train\n",
        "model_metrics_val = model_2.evaluate(eval_validation_generator,verbose=1)\n",
        "model_metrics_train"
      ],
      "id": "AzcEdAZSOXye",
      "execution_count": 102,
      "outputs": [
        {
          "output_type": "stream",
          "text": [
            "800/800 [==============================] - 44s 55ms/step - loss: 0.3122 - precision_1: 0.9781 - recall_1: 0.7079 - accuracy: 0.8460\n",
            "40/40 [==============================] - 2s 55ms/step - loss: 0.3066 - precision_1: 0.9759 - recall_1: 0.7100 - accuracy: 0.8462\n"
          ],
          "name": "stdout"
        },
        {
          "output_type": "execute_result",
          "data": {
            "text/plain": [
              "[0.31216686964035034,\n",
              " 0.9780656099319458,\n",
              " 0.7078750133514404,\n",
              " 0.8460000157356262]"
            ]
          },
          "metadata": {},
          "execution_count": 102
        }
      ]
    },
    {
      "cell_type": "code",
      "metadata": {
        "id": "T9D_H0hjOYkE"
      },
      "source": [
        "model_two_start_train = time.time()\n",
        "preds_train_2 = model_2.predict(eval_train_generator)\n",
        "model_two_end_train = time.time()\n",
        "\n",
        "model_two_start_val = time.time()\n",
        "preds_val_2 = model_2.predict(eval_validation_generator)\n",
        "model_two_end_val = time.time()\n",
        "\n",
        "model_two_train_time = model_two_end_train - model_two_start_train\n",
        "model_two_val_time = model_two_end_val - model_two_start_val"
      ],
      "id": "T9D_H0hjOYkE",
      "execution_count": 103,
      "outputs": []
    },
    {
      "cell_type": "code",
      "metadata": {
        "id": "XPZcvMmFOYnQ"
      },
      "source": [
        "performance_df.at[2,'model'] = 'model_two_train'\n",
        "performance_df.at[2,'loss'] = model_metrics_train[0]\n",
        "performance_df.at[2,'precision'] = model_metrics_train[1]\n",
        "performance_df.at[2, 'recall'] = model_metrics_train[2]\n",
        "performance_df.at[2,'accuracy'] = model_metrics_train[3]\n",
        "performance_df.at[2,'time_to_train'] = model_2_train_time\n",
        "performance_df.at[2,'time_to_predict'] = model_two_train_time"
      ],
      "id": "XPZcvMmFOYnQ",
      "execution_count": 161,
      "outputs": []
    },
    {
      "cell_type": "code",
      "metadata": {
        "id": "zQ1JUNGFEts-"
      },
      "source": [
        "performance_df.at[3,'model'] = 'model_two_val'\n",
        "performance_df.at[3,'loss'] = model_metrics_val[0]\n",
        "performance_df.at[3,'precision'] = model_metrics_val[1]\n",
        "performance_df.at[3, 'recall'] = model_metrics_val[2]\n",
        "performance_df.at[3,'accuracy'] = model_metrics_val[3]\n",
        "performance_df.at[3,'time_to_train'] = model_2_train_time\n",
        "performance_df.at[3,'time_to_predict'] = model_two_val_time"
      ],
      "id": "zQ1JUNGFEts-",
      "execution_count": 162,
      "outputs": []
    },
    {
      "cell_type": "code",
      "metadata": {
        "id": "ehhYQHVK746T",
        "colab": {
          "base_uri": "https://localhost:8080/",
          "height": 173
        },
        "outputId": "7cd0dfea-30c8-4c6f-d062-0d177d18e0ef"
      },
      "source": [
        "performance_df"
      ],
      "id": "ehhYQHVK746T",
      "execution_count": 163,
      "outputs": [
        {
          "output_type": "execute_result",
          "data": {
            "text/html": [
              "<div>\n",
              "<style scoped>\n",
              "    .dataframe tbody tr th:only-of-type {\n",
              "        vertical-align: middle;\n",
              "    }\n",
              "\n",
              "    .dataframe tbody tr th {\n",
              "        vertical-align: top;\n",
              "    }\n",
              "\n",
              "    .dataframe thead th {\n",
              "        text-align: right;\n",
              "    }\n",
              "</style>\n",
              "<table border=\"1\" class=\"dataframe\">\n",
              "  <thead>\n",
              "    <tr style=\"text-align: right;\">\n",
              "      <th></th>\n",
              "      <th>model</th>\n",
              "      <th>loss</th>\n",
              "      <th>precision</th>\n",
              "      <th>recall</th>\n",
              "      <th>accuracy</th>\n",
              "      <th>time_to_train</th>\n",
              "      <th>time_to_predict</th>\n",
              "    </tr>\n",
              "  </thead>\n",
              "  <tbody>\n",
              "    <tr>\n",
              "      <th>0</th>\n",
              "      <td>model_train</td>\n",
              "      <td>0.693813</td>\n",
              "      <td>0.600000</td>\n",
              "      <td>0.000375</td>\n",
              "      <td>0.500063</td>\n",
              "      <td>1926.035368</td>\n",
              "      <td>44.241322</td>\n",
              "    </tr>\n",
              "    <tr>\n",
              "      <th>1</th>\n",
              "      <td>model_val</td>\n",
              "      <td>0.693824</td>\n",
              "      <td>0.000000</td>\n",
              "      <td>0.000000</td>\n",
              "      <td>0.500000</td>\n",
              "      <td>1926.035368</td>\n",
              "      <td>2.285456</td>\n",
              "    </tr>\n",
              "    <tr>\n",
              "      <th>2</th>\n",
              "      <td>model_two_train</td>\n",
              "      <td>0.312167</td>\n",
              "      <td>0.978066</td>\n",
              "      <td>0.707875</td>\n",
              "      <td>0.846000</td>\n",
              "      <td>842.737414</td>\n",
              "      <td>41.175385</td>\n",
              "    </tr>\n",
              "    <tr>\n",
              "      <th>3</th>\n",
              "      <td>model_two_val</td>\n",
              "      <td>0.306575</td>\n",
              "      <td>0.975945</td>\n",
              "      <td>0.710000</td>\n",
              "      <td>0.846250</td>\n",
              "      <td>842.737414</td>\n",
              "      <td>2.193514</td>\n",
              "    </tr>\n",
              "  </tbody>\n",
              "</table>\n",
              "</div>"
            ],
            "text/plain": [
              "             model      loss  ...  time_to_train  time_to_predict\n",
              "0      model_train  0.693813  ...    1926.035368        44.241322\n",
              "1        model_val  0.693824  ...    1926.035368         2.285456\n",
              "2  model_two_train  0.312167  ...     842.737414        41.175385\n",
              "3    model_two_val  0.306575  ...     842.737414         2.193514\n",
              "\n",
              "[4 rows x 7 columns]"
            ]
          },
          "metadata": {},
          "execution_count": 163
        }
      ]
    },
    {
      "cell_type": "code",
      "metadata": {
        "id": "iEgti_-yOYqq",
        "colab": {
          "base_uri": "https://localhost:8080/",
          "height": 295
        },
        "outputId": "0eab4a14-c7b5-4a32-8edf-881b3864fb3f"
      },
      "source": [
        "plot_confusion_matrix(eval_train_generator.labels, np.rint(preds_train_2))"
      ],
      "id": "iEgti_-yOYqq",
      "execution_count": 147,
      "outputs": [
        {
          "output_type": "display_data",
          "data": {
            "image/png": "[encoded data removed]",
            "text/plain": [
              "<Figure size 432x288 with 2 Axes>"
            ]
          },
          "metadata": {
            "needs_background": "light"
          }
        }
      ]
    },
    {
      "cell_type": "code",
      "metadata": {
        "colab": {
          "base_uri": "https://localhost:8080/",
          "height": 295
        },
        "id": "hdytVHwJFZLp",
        "outputId": "c0a18469-bcd0-4f73-cc4a-f2645eb6aace"
      },
      "source": [
        "plot_confusion_matrix(eval_validation_generator.labels, np.rint(preds_val_2))"
      ],
      "id": "hdytVHwJFZLp",
      "execution_count": 148,
      "outputs": [
        {
          "output_type": "display_data",
          "data": {
            "image/png": "[encoded data removed]",
            "text/plain": [
              "<Figure size 432x288 with 2 Axes>"
            ]
          },
          "metadata": {
            "needs_background": "light"
          }
        }
      ]
    },
    {
      "cell_type": "markdown",
      "metadata": {
        "id": "Zo7eHz2YFqxV"
      },
      "source": [
        "We can See that we are not getting amazing results on the model as we have alot of Normal cells being predicted correctly while having a higher margin of error in the prediction of cancer cells which we certainly don't want."
      ],
      "id": "Zo7eHz2YFqxV"
    },
    {
      "cell_type": "markdown",
      "metadata": {
        "id": "dz-HEZooQg9w"
      },
      "source": [
        "# Model 3 #"
      ],
      "id": "dz-HEZooQg9w"
    },
    {
      "cell_type": "code",
      "metadata": {
        "id": "Bzs5txCruk9f"
      },
      "source": [
        "model_3 = Sequential()\n",
        "model_3.add(Conv2D(32, kernel_size=(2,2), activation='relu',padding='valid', input_shape = (224,224,3)))\n",
        "model_3.add(Conv2D(32, kernel_size=(2,2), activation='relu', padding='valid'))\n",
        "model_3.add(Conv2D(64, kernel_size=(2,2), padding='same', activation=LeakyReLU()))\n",
        "model_3.add(MaxPooling2D(3,3))\n",
        "model_3.add(Conv2D(64, kernel_size=(3,3), padding='same', activation='relu'))\n",
        "model_3.add(Conv2D(64, kernel_size=(3,3), padding='same', activation=LeakyReLU()))\n",
        "model_3.add(MaxPooling2D(2,2))\n",
        "model_3.add(Conv2D(64, kernel_size=(3,3), activation=LeakyReLU(), padding='valid'))\n",
        "model_3.add(Flatten())\n",
        "model_3.add(Dense(64,activation='relu'))\n",
        "model_3.add(Dense(64, activation=LeakyReLU()))\n",
        "model_3.add(Dropout(.20))\n",
        "model_3.add(Dense(64,activation='relu'))\n",
        "model_3.add(Dense(64, activation=LeakyReLU()))\n",
        "model_3.add(Dense(1, activation='sigmoid'))"
      ],
      "id": "Bzs5txCruk9f",
      "execution_count": 150,
      "outputs": []
    },
    {
      "cell_type": "code",
      "metadata": {
        "id": "CrpyaqVlulXA",
        "colab": {
          "base_uri": "https://localhost:8080/"
        },
        "outputId": "3f97d117-2e61-4e84-c0f9-8fdae808ba10"
      },
      "source": [
        "model_3.summary()"
      ],
      "id": "CrpyaqVlulXA",
      "execution_count": 151,
      "outputs": [
        {
          "output_type": "stream",
          "text": [
            "Model: \"sequential_2\"\n",
            "_________________________________________________________________\n",
            "Layer (type)                 Output Shape              Param #   \n",
            "=================================================================\n",
            "conv2d_4 (Conv2D)            (None, 223, 223, 32)      416       \n",
            "_________________________________________________________________\n",
            "conv2d_5 (Conv2D)            (None, 222, 222, 32)      4128      \n",
            "_________________________________________________________________\n",
            "conv2d_6 (Conv2D)            (None, 222, 222, 64)      8256      \n",
            "_________________________________________________________________\n",
            "max_pooling2d_3 (MaxPooling2 (None, 74, 74, 64)        0         \n",
            "_________________________________________________________________\n",
            "conv2d_7 (Conv2D)            (None, 74, 74, 64)        36928     \n",
            "_________________________________________________________________\n",
            "conv2d_8 (Conv2D)            (None, 74, 74, 64)        36928     \n",
            "_________________________________________________________________\n",
            "max_pooling2d_4 (MaxPooling2 (None, 37, 37, 64)        0         \n",
            "_________________________________________________________________\n",
            "conv2d_9 (Conv2D)            (None, 35, 35, 64)        36928     \n",
            "_________________________________________________________________\n",
            "flatten_2 (Flatten)          (None, 78400)             0         \n",
            "_________________________________________________________________\n",
            "dense_5 (Dense)              (None, 64)                5017664   \n",
            "_________________________________________________________________\n",
            "dense_6 (Dense)              (None, 64)                4160      \n",
            "_________________________________________________________________\n",
            "dropout_1 (Dropout)          (None, 64)                0         \n",
            "_________________________________________________________________\n",
            "dense_7 (Dense)              (None, 64)                4160      \n",
            "_________________________________________________________________\n",
            "dense_8 (Dense)              (None, 64)                4160      \n",
            "_________________________________________________________________\n",
            "dense_9 (Dense)              (None, 1)                 65        \n",
            "=================================================================\n",
            "Total params: 5,153,793\n",
            "Trainable params: 5,153,793\n",
            "Non-trainable params: 0\n",
            "_________________________________________________________________\n"
          ],
          "name": "stdout"
        }
      ]
    },
    {
      "cell_type": "code",
      "metadata": {
        "id": "aSMRL0kBRpEW"
      },
      "source": [
        "model_3.compile(loss='binary_crossentropy', optimizer='adam', metrics=[Precision(), Recall(), 'accuracy'])"
      ],
      "id": "aSMRL0kBRpEW",
      "execution_count": 152,
      "outputs": []
    },
    {
      "cell_type": "code",
      "metadata": {
        "id": "WJluWp21SHHG",
        "colab": {
          "base_uri": "https://localhost:8080/"
        },
        "outputId": "120d4220-ed00-4f90-be64-ee29eb2fc689"
      },
      "source": [
        "model_three_start = time.time()\n",
        "history_3 = model_3.fit(x=train_generator,\n",
        "            validation_data = validation_generator,\n",
        "            epochs=15,\n",
        "            callbacks = [early_stop,checkpoint])\n",
        "model_three_end = time.time()\n",
        "\n",
        "time_to_train_three = model_three_end - model_three_start"
      ],
      "id": "WJluWp21SHHG",
      "execution_count": 153,
      "outputs": [
        {
          "output_type": "stream",
          "text": [
            "Epoch 1/15\n",
            "800/800 [==============================] - 212s 263ms/step - loss: 0.6946 - precision_2: 0.5036 - recall_2: 0.4509 - accuracy: 0.5032 - val_loss: 0.6963 - val_precision_2: 0.0000e+00 - val_recall_2: 0.0000e+00 - val_accuracy: 0.5000\n",
            "\n",
            "Epoch 00001: val_loss did not improve from 0.27574\n",
            "Epoch 2/15\n",
            "800/800 [==============================] - 210s 263ms/step - loss: 0.6939 - precision_2: 0.4995 - recall_2: 0.4366 - accuracy: 0.4996 - val_loss: 0.6932 - val_precision_2: 0.0000e+00 - val_recall_2: 0.0000e+00 - val_accuracy: 0.5000\n",
            "\n",
            "Epoch 00002: val_loss did not improve from 0.27574\n",
            "Epoch 3/15\n",
            "800/800 [==============================] - 211s 263ms/step - loss: 0.6933 - precision_2: 0.4996 - recall_2: 0.6211 - accuracy: 0.4995 - val_loss: 0.6932 - val_precision_2: 0.0000e+00 - val_recall_2: 0.0000e+00 - val_accuracy: 0.5000\n",
            "\n",
            "Epoch 00003: val_loss did not improve from 0.27574\n",
            "Epoch 4/15\n",
            "800/800 [==============================] - 209s 262ms/step - loss: 0.6933 - precision_2: 0.4921 - recall_2: 0.4044 - accuracy: 0.4935 - val_loss: 0.6932 - val_precision_2: 0.5000 - val_recall_2: 1.0000 - val_accuracy: 0.5000\n",
            "\n",
            "Epoch 00004: val_loss did not improve from 0.27574\n",
            "Epoch 5/15\n",
            "800/800 [==============================] - 209s 261ms/step - loss: 0.6932 - precision_2: 0.5046 - recall_2: 0.5555 - accuracy: 0.5051 - val_loss: 0.6932 - val_precision_2: 0.5000 - val_recall_2: 1.0000 - val_accuracy: 0.5000\n",
            "\n",
            "Epoch 00005: val_loss did not improve from 0.27574\n",
            "Epoch 6/15\n",
            "800/800 [==============================] - 209s 261ms/step - loss: 0.6933 - precision_2: 0.4965 - recall_2: 0.5216 - accuracy: 0.4964 - val_loss: 0.6932 - val_precision_2: 0.0000e+00 - val_recall_2: 0.0000e+00 - val_accuracy: 0.5000\n",
            "\n",
            "Epoch 00006: val_loss did not improve from 0.27574\n"
          ],
          "name": "stdout"
        }
      ]
    },
    {
      "cell_type": "code",
      "metadata": {
        "colab": {
          "base_uri": "https://localhost:8080/",
          "height": 308
        },
        "id": "D_WN_C_QV7qK",
        "outputId": "5c4effa2-2c82-4b34-d97a-6a2aefe1a1a1"
      },
      "source": [
        "visualize_training_results(history_3, 2)"
      ],
      "id": "D_WN_C_QV7qK",
      "execution_count": 154,
      "outputs": [
        {
          "output_type": "display_data",
          "data": {
            "image/png": "[encoded data removed]",
            "text/plain": [
              "<Figure size 432x288 with 3 Axes>"
            ]
          },
          "metadata": {
            "needs_background": "light"
          }
        }
      ]
    },
    {
      "cell_type": "code",
      "metadata": {
        "colab": {
          "base_uri": "https://localhost:8080/"
        },
        "id": "mQeR83ET1rd0",
        "outputId": "e79463f1-38f7-4856-db51-3824798db876"
      },
      "source": [
        "model_metrics_3 = model_3.evaluate(eval_train_generator)\n",
        "model_metrics_3"
      ],
      "id": "mQeR83ET1rd0",
      "execution_count": 155,
      "outputs": [
        {
          "output_type": "stream",
          "text": [
            "800/800 [==============================] - 44s 55ms/step - loss: 0.6932 - precision_2: 0.0000e+00 - recall_2: 0.0000e+00 - accuracy: 0.5000\n"
          ],
          "name": "stdout"
        },
        {
          "output_type": "execute_result",
          "data": {
            "text/plain": [
              "[0.6931617856025696, 0.0, 0.0, 0.5]"
            ]
          },
          "metadata": {},
          "execution_count": 155
        }
      ]
    },
    {
      "cell_type": "code",
      "metadata": {
        "id": "tHerRhv71fna"
      },
      "source": [
        "model_three_start_train = time.time()\n",
        "preds_train_3 = model_3.predict(eval_train_generator)\n",
        "model_three_end_train = time.time()\n",
        "\n",
        "model_three_start_val = time.time()\n",
        "preds_val_3 = model_3.predict(eval_validation_generator)\n",
        "model_three_end_val = time.time()\n",
        "\n",
        "model_three_train_time = model_three_end_train - model_three_start_train\n",
        "model_three_val_time = model_three_end_val - model_three_start_val"
      ],
      "id": "tHerRhv71fna",
      "execution_count": 168,
      "outputs": []
    },
    {
      "cell_type": "code",
      "metadata": {
        "id": "lVDRplJtWUl7"
      },
      "source": [
        "performance_df.at[4,'model'] = 'model_three_train'\n",
        "performance_df.at[4,'loss'] = model_metrics_3[0]\n",
        "performance_df.at[4,'precision'] = model_metrics_3[1]\n",
        "performance_df.at[4, 'recall'] = model_metrics_3[2]\n",
        "performance_df.at[4,'accuracy'] = model_metrics_3[3]\n",
        "performance_df.at[4,'time_to_train'] = time_to_train_three\n",
        "performance_df.at[4,'time_to_predict'] = model_three_train_time"
      ],
      "id": "lVDRplJtWUl7",
      "execution_count": 169,
      "outputs": []
    },
    {
      "cell_type": "code",
      "metadata": {
        "id": "nZg02uOaWZPO"
      },
      "source": [
        "performance_df.at[5,'model'] = 'model_three_val'\n",
        "performance_df.at[5,'loss'] = model_metrics_3[0]\n",
        "performance_df.at[5,'precision'] = model_metrics_3[1]\n",
        "performance_df.at[5, 'recall'] = model_metrics_3[2]\n",
        "performance_df.at[5,'accuracy'] = model_metrics_3[3]\n",
        "performance_df.at[5,'time_to_train'] = time_to_train_three\n",
        "performance_df.at[5,'time_to_predict'] = model_three_val_time"
      ],
      "id": "nZg02uOaWZPO",
      "execution_count": 170,
      "outputs": []
    },
    {
      "cell_type": "code",
      "metadata": {
        "colab": {
          "base_uri": "https://localhost:8080/",
          "height": 235
        },
        "id": "7qemZYhX1ySy",
        "outputId": "d432604b-3a2b-4fc8-da60-b8cee4355fa8"
      },
      "source": [
        "performance_df"
      ],
      "id": "7qemZYhX1ySy",
      "execution_count": 171,
      "outputs": [
        {
          "output_type": "execute_result",
          "data": {
            "text/html": [
              "<div>\n",
              "<style scoped>\n",
              "    .dataframe tbody tr th:only-of-type {\n",
              "        vertical-align: middle;\n",
              "    }\n",
              "\n",
              "    .dataframe tbody tr th {\n",
              "        vertical-align: top;\n",
              "    }\n",
              "\n",
              "    .dataframe thead th {\n",
              "        text-align: right;\n",
              "    }\n",
              "</style>\n",
              "<table border=\"1\" class=\"dataframe\">\n",
              "  <thead>\n",
              "    <tr style=\"text-align: right;\">\n",
              "      <th></th>\n",
              "      <th>model</th>\n",
              "      <th>loss</th>\n",
              "      <th>precision</th>\n",
              "      <th>recall</th>\n",
              "      <th>accuracy</th>\n",
              "      <th>time_to_train</th>\n",
              "      <th>time_to_predict</th>\n",
              "    </tr>\n",
              "  </thead>\n",
              "  <tbody>\n",
              "    <tr>\n",
              "      <th>0</th>\n",
              "      <td>model_train</td>\n",
              "      <td>0.693813</td>\n",
              "      <td>0.600000</td>\n",
              "      <td>0.000375</td>\n",
              "      <td>0.500063</td>\n",
              "      <td>1926.035368</td>\n",
              "      <td>44.241322</td>\n",
              "    </tr>\n",
              "    <tr>\n",
              "      <th>1</th>\n",
              "      <td>model_val</td>\n",
              "      <td>0.693824</td>\n",
              "      <td>0.000000</td>\n",
              "      <td>0.000000</td>\n",
              "      <td>0.500000</td>\n",
              "      <td>1926.035368</td>\n",
              "      <td>2.285456</td>\n",
              "    </tr>\n",
              "    <tr>\n",
              "      <th>2</th>\n",
              "      <td>model_two_train</td>\n",
              "      <td>0.312167</td>\n",
              "      <td>0.978066</td>\n",
              "      <td>0.707875</td>\n",
              "      <td>0.846000</td>\n",
              "      <td>842.737414</td>\n",
              "      <td>41.175385</td>\n",
              "    </tr>\n",
              "    <tr>\n",
              "      <th>3</th>\n",
              "      <td>model_two_val</td>\n",
              "      <td>0.306575</td>\n",
              "      <td>0.975945</td>\n",
              "      <td>0.710000</td>\n",
              "      <td>0.846250</td>\n",
              "      <td>842.737414</td>\n",
              "      <td>2.193514</td>\n",
              "    </tr>\n",
              "    <tr>\n",
              "      <th>4</th>\n",
              "      <td>model_three_train</td>\n",
              "      <td>0.693162</td>\n",
              "      <td>0.000000</td>\n",
              "      <td>0.000000</td>\n",
              "      <td>0.500000</td>\n",
              "      <td>1260.386662</td>\n",
              "      <td>39.929324</td>\n",
              "    </tr>\n",
              "    <tr>\n",
              "      <th>5</th>\n",
              "      <td>model_three_val</td>\n",
              "      <td>0.693162</td>\n",
              "      <td>0.000000</td>\n",
              "      <td>0.000000</td>\n",
              "      <td>0.500000</td>\n",
              "      <td>1260.386662</td>\n",
              "      <td>2.086205</td>\n",
              "    </tr>\n",
              "  </tbody>\n",
              "</table>\n",
              "</div>"
            ],
            "text/plain": [
              "               model      loss  ...  time_to_train  time_to_predict\n",
              "0        model_train  0.693813  ...    1926.035368        44.241322\n",
              "1          model_val  0.693824  ...    1926.035368         2.285456\n",
              "2    model_two_train  0.312167  ...     842.737414        41.175385\n",
              "3      model_two_val  0.306575  ...     842.737414         2.193514\n",
              "4  model_three_train  0.693162  ...    1260.386662        39.929324\n",
              "5    model_three_val  0.693162  ...    1260.386662         2.086205\n",
              "\n",
              "[6 rows x 7 columns]"
            ]
          },
          "metadata": {},
          "execution_count": 171
        }
      ]
    },
    {
      "cell_type": "code",
      "metadata": {
        "id": "3riwWNecSHJW",
        "colab": {
          "base_uri": "https://localhost:8080/",
          "height": 295
        },
        "outputId": "51819033-aa1c-48b5-95b6-2a263468d7df"
      },
      "source": [
        "plot_confusion_matrix(eval_train_generator.labels, np.rint(preds_train_3))"
      ],
      "id": "3riwWNecSHJW",
      "execution_count": 172,
      "outputs": [
        {
          "output_type": "display_data",
          "data": {
            "image/png": "[encoded data removed]",
            "text/plain": [
              "<Figure size 432x288 with 2 Axes>"
            ]
          },
          "metadata": {
            "needs_background": "light"
          }
        }
      ]
    },
    {
      "cell_type": "code",
      "metadata": {
        "colab": {
          "base_uri": "https://localhost:8080/",
          "height": 295
        },
        "id": "ffUB4-gPXs1b",
        "outputId": "376a17c2-d2a2-4955-aefb-7a9189c2a0eb"
      },
      "source": [
        "plot_confusion_matrix(eval_validation_generator.labels, np.rint(preds_val_3))"
      ],
      "id": "ffUB4-gPXs1b",
      "execution_count": 173,
      "outputs": [
        {
          "output_type": "display_data",
          "data": {
            "image/png": "[encoded data removed]",
            "text/plain": [
              "<Figure size 432x288 with 2 Axes>"
            ]
          },
          "metadata": {
            "needs_background": "light"
          }
        }
      ]
    },
    {
      "cell_type": "markdown",
      "metadata": {
        "id": "9wLh9-NDYIuA"
      },
      "source": [
        "We are still seeing the same problem with predicting only one class and getting only 50% of those predictions right. Let's now try some transfer learning to see if we can get better results."
      ],
      "id": "9wLh9-NDYIuA"
    },
    {
      "cell_type": "markdown",
      "metadata": {
        "id": "wkk55t0GDVlX"
      },
      "source": [
        "# ResNet"
      ],
      "id": "wkk55t0GDVlX"
    },
    {
      "cell_type": "code",
      "metadata": {
        "id": "F1HhNX9eSWgO"
      },
      "source": [
        "from tensorflow.keras.applications import ResNet50"
      ],
      "id": "F1HhNX9eSWgO",
      "execution_count": 176,
      "outputs": []
    },
    {
      "cell_type": "code",
      "metadata": {
        "colab": {
          "base_uri": "https://localhost:8080/"
        },
        "id": "byLJP7TUIcBA",
        "outputId": "eda54a08-9c4a-49e5-a4bf-0ae33713b900"
      },
      "source": [
        "resnet_gen = ImageDataGenerator(rescale=1./255).flow_from_directory(\n",
        "    '/content/drive/MyDrive/colon_dataset/train',\n",
        "    target_size = IMAGE_SIZE,\n",
        "    batch_size = BATCH_SIZE,\n",
        "    color_mode = 'rgb',\n",
        "    shuffle = True,\n",
        "    class_mode = 'binary',\n",
        "    seed = 20\n",
        ")\n",
        "resnet_val_gen = ImageDataGenerator(rescale=1./255).flow_from_directory(\n",
        "    '/content/drive/MyDrive/colon_dataset/validation',\n",
        "    target_size = IMAGE_SIZE,\n",
        "    batch_size = BATCH_SIZE,\n",
        "    color_mode = 'rgb',\n",
        "    shuffle = True,\n",
        "    class_mode = 'binary',\n",
        "    seed = 20\n",
        ")"
      ],
      "id": "byLJP7TUIcBA",
      "execution_count": 178,
      "outputs": [
        {
          "output_type": "stream",
          "text": [
            "Found 16000 images belonging to 2 classes.\n",
            "Found 800 images belonging to 2 classes.\n"
          ],
          "name": "stdout"
        }
      ]
    },
    {
      "cell_type": "code",
      "metadata": {
        "id": "94j2ZMPuS6AQ",
        "colab": {
          "base_uri": "https://localhost:8080/"
        },
        "outputId": "665c34d3-ca71-474e-e763-a0d313b0e1c4"
      },
      "source": [
        "model_4 = Sequential()\n",
        "\n",
        "resnet_model = ResNet50(weights = 'imagenet',\n",
        "                        include_top = False,\n",
        "                        pooling= 'avg')\n",
        "\n",
        "model_4.add(resnet_model)\n",
        "model_4.add(Dense(1, activation='sigmoid'))\n",
        "for layer in resnet_model.layers:\n",
        "  layer.trainable = False"
      ],
      "id": "94j2ZMPuS6AQ",
      "execution_count": 179,
      "outputs": [
        {
          "output_type": "stream",
          "text": [
            "Downloading data from https://storage.googleapis.com/tensorflow/keras-applications/resnet/resnet50_weights_tf_dim_ordering_tf_kernels_notop.h5\n",
            "94773248/94765736 [==============================] - 0s 0us/step\n",
            "94781440/94765736 [==============================] - 0s 0us/step\n"
          ],
          "name": "stdout"
        }
      ]
    },
    {
      "cell_type": "code",
      "metadata": {
        "id": "lS6WwUuIS9Np"
      },
      "source": [
        "from tensorflow.keras.optimizers import SGD"
      ],
      "id": "lS6WwUuIS9Np",
      "execution_count": 181,
      "outputs": []
    },
    {
      "cell_type": "code",
      "metadata": {
        "colab": {
          "base_uri": "https://localhost:8080/"
        },
        "id": "WR6z8e-0Tjph",
        "outputId": "275234df-f082-46c9-b7f7-7fdf0f71c9b2"
      },
      "source": [
        "sgd = SGD(learning_rate=0.001)\n",
        "model_4.compile(optimizer=sgd,loss='binary_crossentropy',metrics = [Precision(),Recall(), 'accuracy'])\n",
        "model_4.summary()"
      ],
      "id": "WR6z8e-0Tjph",
      "execution_count": 182,
      "outputs": [
        {
          "output_type": "stream",
          "text": [
            "Model: \"sequential_3\"\n",
            "_________________________________________________________________\n",
            "Layer (type)                 Output Shape              Param #   \n",
            "=================================================================\n",
            "resnet50 (Functional)        (None, 2048)              23587712  \n",
            "_________________________________________________________________\n",
            "dense_10 (Dense)             (None, 1)                 2049      \n",
            "=================================================================\n",
            "Total params: 23,589,761\n",
            "Trainable params: 2,049\n",
            "Non-trainable params: 23,587,712\n",
            "_________________________________________________________________\n"
          ],
          "name": "stdout"
        }
      ]
    },
    {
      "cell_type": "code",
      "metadata": {
        "colab": {
          "base_uri": "https://localhost:8080/"
        },
        "id": "LyHpKreAUYOf",
        "outputId": "004adcf9-e2fb-4497-cbb5-5f14bca39cfa"
      },
      "source": [
        "history_resnet = model_4.fit(x = resnet_gen,\n",
        "                             validation_data = resnet_val_gen,\n",
        "                             steps_per_epoch = (resnet_gen.n//20),\n",
        "                             validation_steps = (resnet_val_gen.n//20),\n",
        "                             epochs = 5,\n",
        "                             callbacks = checkpoint)"
      ],
      "id": "LyHpKreAUYOf",
      "execution_count": 183,
      "outputs": [
        {
          "output_type": "stream",
          "text": [
            "Epoch 1/5\n",
            "800/800 [==============================] - 54s 64ms/step - loss: 0.6769 - precision_3: 0.5838 - recall_3: 0.5799 - accuracy: 0.5832 - val_loss: 0.6549 - val_precision_3: 0.7029 - val_recall_3: 0.6150 - val_accuracy: 0.6775\n",
            "\n",
            "Epoch 00001: val_loss did not improve from 0.27574\n",
            "Epoch 2/5\n",
            "800/800 [==============================] - 50s 63ms/step - loss: 0.6470 - precision_3: 0.6522 - recall_3: 0.6202 - accuracy: 0.6447 - val_loss: 0.6325 - val_precision_3: 0.7622 - val_recall_3: 0.5850 - val_accuracy: 0.7013\n",
            "\n",
            "Epoch 00002: val_loss did not improve from 0.27574\n",
            "Epoch 3/5\n",
            "800/800 [==============================] - 51s 64ms/step - loss: 0.6289 - precision_3: 0.6848 - recall_3: 0.6267 - accuracy: 0.6691 - val_loss: 0.6254 - val_precision_3: 0.8593 - val_recall_3: 0.4275 - val_accuracy: 0.6787\n",
            "\n",
            "Epoch 00003: val_loss did not improve from 0.27574\n",
            "Epoch 4/5\n",
            "800/800 [==============================] - 51s 64ms/step - loss: 0.6170 - precision_3: 0.6969 - recall_3: 0.6249 - accuracy: 0.6766 - val_loss: 0.6061 - val_precision_3: 0.7530 - val_recall_3: 0.6250 - val_accuracy: 0.7100\n",
            "\n",
            "Epoch 00004: val_loss did not improve from 0.27574\n",
            "Epoch 5/5\n",
            "800/800 [==============================] - 50s 63ms/step - loss: 0.6074 - precision_3: 0.7091 - recall_3: 0.6352 - accuracy: 0.6873 - val_loss: 0.5974 - val_precision_3: 0.7471 - val_recall_3: 0.6350 - val_accuracy: 0.7100\n",
            "\n",
            "Epoch 00005: val_loss did not improve from 0.27574\n"
          ],
          "name": "stdout"
        }
      ]
    },
    {
      "cell_type": "code",
      "metadata": {
        "id": "n1FMG-vxUqI-"
      },
      "source": [
        "for layer in resnet_model.layers:\n",
        "  layer.trainable = True"
      ],
      "id": "n1FMG-vxUqI-",
      "execution_count": 184,
      "outputs": []
    },
    {
      "cell_type": "code",
      "metadata": {
        "colab": {
          "base_uri": "https://localhost:8080/"
        },
        "id": "5EDAoTEx7qpr",
        "outputId": "ceb31e9c-6c0f-45d1-e522-3a61dba7e294"
      },
      "source": [
        "sgd = SGD(learning_rate=0.01)\n",
        "\n",
        "model_4.compile(optimizer=sgd,\n",
        "                loss = 'binary_crossentropy',\n",
        "                metrics = [Precision(), Recall(), 'accuracy'])\n",
        "model_4.summary()"
      ],
      "id": "5EDAoTEx7qpr",
      "execution_count": 185,
      "outputs": [
        {
          "output_type": "stream",
          "text": [
            "Model: \"sequential_3\"\n",
            "_________________________________________________________________\n",
            "Layer (type)                 Output Shape              Param #   \n",
            "=================================================================\n",
            "resnet50 (Functional)        (None, 2048)              23587712  \n",
            "_________________________________________________________________\n",
            "dense_10 (Dense)             (None, 1)                 2049      \n",
            "=================================================================\n",
            "Total params: 23,589,761\n",
            "Trainable params: 23,536,641\n",
            "Non-trainable params: 53,120\n",
            "_________________________________________________________________\n"
          ],
          "name": "stdout"
        }
      ]
    },
    {
      "cell_type": "code",
      "metadata": {
        "colab": {
          "base_uri": "https://localhost:8080/"
        },
        "id": "iupl0hTc8aaj",
        "outputId": "5932d7df-95a3-486b-97a3-b77a3f5b681c"
      },
      "source": [
        "resnet_start = time.time()\n",
        "history_resnet_unfrozen = model_4.fit(x = resnet_gen,\n",
        "                                      validation_data = resnet_val_gen,\n",
        "                                      epochs = 15,\n",
        "                                      steps_per_epoch = (resnet_gen.n//20),\n",
        "                                      validation_steps = (resnet_val_gen.n//20),\n",
        "                                      callbacks = checkpoint)\n",
        "resnet_end = time.time()\n",
        "\n",
        "resnet_train_time = resnet_end - resnet_start"
      ],
      "id": "iupl0hTc8aaj",
      "execution_count": 186,
      "outputs": [
        {
          "output_type": "stream",
          "text": [
            "Epoch 1/15\n",
            "800/800 [==============================] - 106s 127ms/step - loss: 0.0770 - precision_4: 0.9712 - recall_4: 0.9696 - accuracy: 0.9704 - val_loss: 1.3059 - val_precision_4: 0.5089 - val_recall_4: 1.0000 - val_accuracy: 0.5175\n",
            "\n",
            "Epoch 00001: val_loss did not improve from 0.27574\n",
            "Epoch 2/15\n",
            "800/800 [==============================] - 101s 126ms/step - loss: 0.0216 - precision_4: 0.9934 - recall_4: 0.9925 - accuracy: 0.9929 - val_loss: 0.0428 - val_precision_4: 0.9974 - val_recall_4: 0.9650 - val_accuracy: 0.9812\n",
            "\n",
            "Epoch 00002: val_loss improved from 0.27574 to 0.04278, saving model to /content/drive/MyDrive/colon_dataset/checkpoint\n",
            "INFO:tensorflow:Assets written to: /content/drive/MyDrive/colon_dataset/checkpoint/assets\n"
          ],
          "name": "stdout"
        },
        {
          "output_type": "stream",
          "text": [
            "INFO:tensorflow:Assets written to: /content/drive/MyDrive/colon_dataset/checkpoint/assets\n",
            "/usr/local/lib/python3.7/dist-packages/keras/utils/generic_utils.py:497: CustomMaskWarning: Custom mask layers require a config and must override get_config. When loading, the custom mask layer must be passed to the custom_objects argument.\n",
            "  category=CustomMaskWarning)\n"
          ],
          "name": "stderr"
        },
        {
          "output_type": "stream",
          "text": [
            "Epoch 3/15\n",
            "800/800 [==============================] - 101s 126ms/step - loss: 0.0133 - precision_4: 0.9958 - recall_4: 0.9961 - accuracy: 0.9959 - val_loss: 0.1209 - val_precision_4: 0.9217 - val_recall_4: 1.0000 - val_accuracy: 0.9575\n",
            "\n",
            "Epoch 00003: val_loss did not improve from 0.04278\n",
            "Epoch 4/15\n",
            "800/800 [==============================] - 101s 126ms/step - loss: 0.0061 - precision_4: 0.9984 - recall_4: 0.9989 - accuracy: 0.9986 - val_loss: 0.0236 - val_precision_4: 0.9852 - val_recall_4: 1.0000 - val_accuracy: 0.9925\n",
            "\n",
            "Epoch 00004: val_loss improved from 0.04278 to 0.02364, saving model to /content/drive/MyDrive/colon_dataset/checkpoint\n",
            "INFO:tensorflow:Assets written to: /content/drive/MyDrive/colon_dataset/checkpoint/assets\n"
          ],
          "name": "stdout"
        },
        {
          "output_type": "stream",
          "text": [
            "INFO:tensorflow:Assets written to: /content/drive/MyDrive/colon_dataset/checkpoint/assets\n",
            "/usr/local/lib/python3.7/dist-packages/keras/utils/generic_utils.py:497: CustomMaskWarning: Custom mask layers require a config and must override get_config. When loading, the custom mask layer must be passed to the custom_objects argument.\n",
            "  category=CustomMaskWarning)\n"
          ],
          "name": "stderr"
        },
        {
          "output_type": "stream",
          "text": [
            "Epoch 5/15\n",
            "800/800 [==============================] - 101s 126ms/step - loss: 0.0060 - precision_4: 0.9989 - recall_4: 0.9985 - accuracy: 0.9987 - val_loss: 0.0098 - val_precision_4: 0.9975 - val_recall_4: 0.9975 - val_accuracy: 0.9975\n",
            "\n",
            "Epoch 00005: val_loss improved from 0.02364 to 0.00976, saving model to /content/drive/MyDrive/colon_dataset/checkpoint\n",
            "INFO:tensorflow:Assets written to: /content/drive/MyDrive/colon_dataset/checkpoint/assets\n"
          ],
          "name": "stdout"
        },
        {
          "output_type": "stream",
          "text": [
            "INFO:tensorflow:Assets written to: /content/drive/MyDrive/colon_dataset/checkpoint/assets\n",
            "/usr/local/lib/python3.7/dist-packages/keras/utils/generic_utils.py:497: CustomMaskWarning: Custom mask layers require a config and must override get_config. When loading, the custom mask layer must be passed to the custom_objects argument.\n",
            "  category=CustomMaskWarning)\n"
          ],
          "name": "stderr"
        },
        {
          "output_type": "stream",
          "text": [
            "Epoch 6/15\n",
            "800/800 [==============================] - 101s 126ms/step - loss: 0.0042 - precision_4: 0.9990 - recall_4: 0.9990 - accuracy: 0.9990 - val_loss: 0.0293 - val_precision_4: 0.9828 - val_recall_4: 1.0000 - val_accuracy: 0.9912\n",
            "\n",
            "Epoch 00006: val_loss did not improve from 0.00976\n",
            "Epoch 7/15\n",
            "800/800 [==============================] - 101s 126ms/step - loss: 0.0029 - precision_4: 0.9991 - recall_4: 0.9996 - accuracy: 0.9994 - val_loss: 0.0231 - val_precision_4: 1.0000 - val_recall_4: 0.9875 - val_accuracy: 0.9937\n",
            "\n",
            "Epoch 00007: val_loss did not improve from 0.00976\n",
            "Epoch 8/15\n",
            "800/800 [==============================] - 101s 126ms/step - loss: 0.0027 - precision_4: 0.9994 - recall_4: 0.9992 - accuracy: 0.9993 - val_loss: 0.0099 - val_precision_4: 0.9975 - val_recall_4: 0.9975 - val_accuracy: 0.9975\n",
            "\n",
            "Epoch 00008: val_loss did not improve from 0.00976\n",
            "Epoch 9/15\n",
            "800/800 [==============================] - 101s 126ms/step - loss: 0.0025 - precision_4: 0.9995 - recall_4: 0.9994 - accuracy: 0.9994 - val_loss: 0.0103 - val_precision_4: 0.9975 - val_recall_4: 0.9950 - val_accuracy: 0.9962\n",
            "\n",
            "Epoch 00009: val_loss did not improve from 0.00976\n",
            "Epoch 10/15\n",
            "800/800 [==============================] - 101s 126ms/step - loss: 0.0013 - precision_4: 1.0000 - recall_4: 1.0000 - accuracy: 1.0000 - val_loss: 0.0200 - val_precision_4: 0.9901 - val_recall_4: 1.0000 - val_accuracy: 0.9950\n",
            "\n",
            "Epoch 00010: val_loss did not improve from 0.00976\n",
            "Epoch 11/15\n",
            "800/800 [==============================] - 101s 126ms/step - loss: 0.0018 - precision_4: 0.9994 - recall_4: 0.9999 - accuracy: 0.9996 - val_loss: 0.0083 - val_precision_4: 0.9975 - val_recall_4: 0.9975 - val_accuracy: 0.9975\n",
            "\n",
            "Epoch 00011: val_loss improved from 0.00976 to 0.00828, saving model to /content/drive/MyDrive/colon_dataset/checkpoint\n",
            "INFO:tensorflow:Assets written to: /content/drive/MyDrive/colon_dataset/checkpoint/assets\n"
          ],
          "name": "stdout"
        },
        {
          "output_type": "stream",
          "text": [
            "INFO:tensorflow:Assets written to: /content/drive/MyDrive/colon_dataset/checkpoint/assets\n",
            "/usr/local/lib/python3.7/dist-packages/keras/utils/generic_utils.py:497: CustomMaskWarning: Custom mask layers require a config and must override get_config. When loading, the custom mask layer must be passed to the custom_objects argument.\n",
            "  category=CustomMaskWarning)\n"
          ],
          "name": "stderr"
        },
        {
          "output_type": "stream",
          "text": [
            "Epoch 12/15\n",
            "800/800 [==============================] - 101s 126ms/step - loss: 0.0017 - precision_4: 0.9996 - recall_4: 0.9999 - accuracy: 0.9998 - val_loss: 0.0095 - val_precision_4: 0.9975 - val_recall_4: 0.9975 - val_accuracy: 0.9975\n",
            "\n",
            "Epoch 00012: val_loss did not improve from 0.00828\n",
            "Epoch 13/15\n",
            "800/800 [==============================] - 101s 126ms/step - loss: 7.6946e-04 - precision_4: 1.0000 - recall_4: 1.0000 - accuracy: 1.0000 - val_loss: 0.0104 - val_precision_4: 0.9950 - val_recall_4: 0.9975 - val_accuracy: 0.9962\n",
            "\n",
            "Epoch 00013: val_loss did not improve from 0.00828\n",
            "Epoch 14/15\n",
            "800/800 [==============================] - 101s 126ms/step - loss: 7.9704e-04 - precision_4: 1.0000 - recall_4: 0.9999 - accuracy: 0.9999 - val_loss: 0.0158 - val_precision_4: 0.9975 - val_recall_4: 0.9950 - val_accuracy: 0.9962\n",
            "\n",
            "Epoch 00014: val_loss did not improve from 0.00828\n",
            "Epoch 15/15\n",
            "800/800 [==============================] - 101s 126ms/step - loss: 6.8885e-04 - precision_4: 0.9998 - recall_4: 1.0000 - accuracy: 0.9999 - val_loss: 0.0099 - val_precision_4: 0.9975 - val_recall_4: 0.9975 - val_accuracy: 0.9975\n",
            "\n",
            "Epoch 00015: val_loss did not improve from 0.00828\n"
          ],
          "name": "stdout"
        }
      ]
    },
    {
      "cell_type": "code",
      "metadata": {
        "colab": {
          "base_uri": "https://localhost:8080/",
          "height": 308
        },
        "id": "8in3KD6-8x_z",
        "outputId": "5c14c75a-4523-41b7-c0aa-a3c08c7e843c"
      },
      "source": [
        "visualize_training_results(history_resnet_unfrozen, 4)"
      ],
      "id": "8in3KD6-8x_z",
      "execution_count": 187,
      "outputs": [
        {
          "output_type": "display_data",
          "data": {
            "image/png": "[encoded data removed]",
            "text/plain": [
              "<Figure size 432x288 with 3 Axes>"
            ]
          },
          "metadata": {
            "needs_background": "light"
          }
        }
      ]
    },
    {
      "cell_type": "code",
      "metadata": {
        "colab": {
          "base_uri": "https://localhost:8080/"
        },
        "id": "C5MOtmLiDavP",
        "outputId": "e66d86d3-920d-430c-b1f6-3ec16cdcb9b9"
      },
      "source": [
        "resnet_train_eval_generator = ImageDataGenerator(rescale=1.0/255).flow_from_directory(\n",
        "    '/content/drive/MyDrive/colon_dataset/train',\n",
        "    color_mode='rgb',    # 3 channels\n",
        "    target_size=IMAGE_SIZE, \n",
        "    batch_size=BATCH_SIZE,\n",
        "    seed=20,\n",
        "    shuffle=False\n",
        ")\n",
        "resnet_validation_eval_generator = ImageDataGenerator(rescale=1.0/255).flow_from_directory(\n",
        "    '/content/drive/MyDrive/colon_dataset/validation',\n",
        "    color_mode='rgb',    # 3 channels\n",
        "    target_size=IMAGE_SIZE, \n",
        "    batch_size=BATCH_SIZE,\n",
        "    seed=20,\n",
        "    shuffle=False   \n",
        ")"
      ],
      "id": "C5MOtmLiDavP",
      "execution_count": 188,
      "outputs": [
        {
          "output_type": "stream",
          "text": [
            "Found 16000 images belonging to 2 classes.\n",
            "Found 800 images belonging to 2 classes.\n"
          ],
          "name": "stdout"
        }
      ]
    },
    {
      "cell_type": "code",
      "metadata": {
        "colab": {
          "base_uri": "https://localhost:8080/"
        },
        "id": "64XEwi9bBWZ1",
        "outputId": "873105ab-f6d5-41b3-bce0-62d0349fafb4"
      },
      "source": [
        "resnet_prediction_start = time.time()\n",
        "preds_train_resnet = model_4.predict(resnet_train_eval_generator, verbose=1)\n",
        "resnet_prediction_end = time.time()\n",
        "\n",
        "resnet_val_pred_start = time.time()\n",
        "preds_val_resnet = model_4.predict(resnet_validation_eval_generator, verbose=1)\n",
        "resnet_val_pred_end = time.time()\n",
        "\n",
        "train_time_resnet = resnet_prediction_end - resnet_prediction_start\n",
        "val_time_resnet = resnet_val_pred_end - resnet_val_pred_start"
      ],
      "id": "64XEwi9bBWZ1",
      "execution_count": 189,
      "outputs": [
        {
          "output_type": "stream",
          "text": [
            "800/800 [==============================] - 45s 55ms/step\n",
            "40/40 [==============================] - 2s 55ms/step\n"
          ],
          "name": "stdout"
        }
      ]
    },
    {
      "cell_type": "code",
      "metadata": {
        "colab": {
          "base_uri": "https://localhost:8080/",
          "height": 295
        },
        "id": "3XGsC-8DB6rB",
        "outputId": "5df245bf-49de-431f-af77-c132141420a1"
      },
      "source": [
        "plot_confusion_matrix(resnet_train_eval_generator.labels, np.rint(preds_train_resnet))"
      ],
      "id": "3XGsC-8DB6rB",
      "execution_count": 190,
      "outputs": [
        {
          "output_type": "display_data",
          "data": {
            "image/png": "[encoded data removed]",
            "text/plain": [
              "<Figure size 432x288 with 2 Axes>"
            ]
          },
          "metadata": {
            "needs_background": "light"
          }
        }
      ]
    },
    {
      "cell_type": "code",
      "metadata": {
        "colab": {
          "base_uri": "https://localhost:8080/",
          "height": 295
        },
        "id": "Xb2dn2zxhezB",
        "outputId": "73dc3e36-9b52-44dd-f1b8-7bf52ed5c9e1"
      },
      "source": [
        "plot_confusion_matrix(resnet_validation_eval_generator.labels, np.rint(preds_val_resnet))"
      ],
      "id": "Xb2dn2zxhezB",
      "execution_count": 191,
      "outputs": [
        {
          "output_type": "display_data",
          "data": {
            "image/png": "[encoded data removed]",
            "text/plain": [
              "<Figure size 432x288 with 2 Axes>"
            ]
          },
          "metadata": {
            "needs_background": "light"
          }
        }
      ]
    },
    {
      "cell_type": "markdown",
      "metadata": {
        "id": "RFJ6bYqzhySB"
      },
      "source": [
        "Great results. Out of the 16,800 images only 3 were predicted incorrectly. We still need to verify the results with out holdout data."
      ],
      "id": "RFJ6bYqzhySB"
    },
    {
      "cell_type": "code",
      "metadata": {
        "id": "cyoM3WFzCw9B"
      },
      "source": [
        ""
      ],
      "id": "cyoM3WFzCw9B",
      "execution_count": null,
      "outputs": []
    }
  ]
}